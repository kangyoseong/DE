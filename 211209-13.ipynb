{
  "nbformat": 4,
  "nbformat_minor": 0,
  "metadata": {
    "colab": {
      "name": "Untitled30.ipynb",
      "provenance": [],
      "collapsed_sections": [],
      "authorship_tag": "ABX9TyMcV7Ggy9QH66XfqITG/x8T",
      "include_colab_link": true
    },
    "kernelspec": {
      "name": "python3",
      "display_name": "Python 3"
    },
    "language_info": {
      "name": "python"
    }
  },
  "cells": [
    {
      "cell_type": "markdown",
      "metadata": {
        "id": "view-in-github",
        "colab_type": "text"
      },
      "source": [
        "<a href=\"https://colab.research.google.com/github/kangyoseong/DE/blob/main/211209-13.ipynb\" target=\"_parent\"><img src=\"https://colab.research.google.com/assets/colab-badge.svg\" alt=\"Open In Colab\"/></a>"
      ]
    },
    {
      "cell_type": "markdown",
      "source": [
        "10996번\n",
        "\n",
        "예제를 보고 규칙을 유추한 뒤에 별을 찍어 보세요."
      ],
      "metadata": {
        "id": "Jiqm92yqCW0K"
      }
    },
    {
      "cell_type": "code",
      "source": [
        "#2번째 풀지만 아직도 답은 모르겠음 ㅜ \n",
        "\n",
        "N = int(input())\n",
        "even = N//2\n",
        "odd = N - N//2\n",
        "\n",
        "for i in range(N):\n",
        "    print(\"* \" * odd)\n",
        "    print(\" *\" * even)"
      ],
      "metadata": {
        "id": "Bvo9lV7ACaEh"
      },
      "execution_count": null,
      "outputs": []
    },
    {
      "cell_type": "markdown",
      "source": [
        "1100번\n",
        "\n",
        "체스판은 8×8크기이고, 검정 칸과 하얀 칸이 번갈아가면서 색칠되어 있다. 가장 왼쪽 위칸 (0,0)은 하얀색이다. 체스판의 상태가 주어졌을 때, 하얀 칸 위에 말이 몇 개 있는지 출력하는 프로그램을 작성하시오."
      ],
      "metadata": {
        "id": "2xtLGJRDIj6O"
      }
    },
    {
      "cell_type": "code",
      "source": [
        "#내가푼것\n",
        "\n",
        "z = []\n",
        "for _ in range(8):\n",
        "  z.append(input())\n",
        "k = []\n",
        "for i in range(8):\n",
        "  for u in range(8):\n",
        "    if (i+u)%2==0:\n",
        "      k.append(z[i][u])\n",
        "print(k.count('F'))"
      ],
      "metadata": {
        "id": "3HIRComjInQ6"
      },
      "execution_count": null,
      "outputs": []
    },
    {
      "cell_type": "code",
      "source": [
        "#다른 사람이 푼거\n",
        "chess = []\n",
        "for _ in range(8):\n",
        "    chess.append(list(map(str, list(input()))))\n",
        "\n",
        "answer = 0\n",
        "for i in range(8):\n",
        "    for j in range(8):\n",
        "        if (i + j) % 2 == 0: #하얀칸일 경우\n",
        "            if chess[i][j] == 'F': #F있을 경우\n",
        "                answer += 1\n",
        "print(answer)"
      ],
      "metadata": {
        "id": "MFUsiFaCI7rR"
      },
      "execution_count": 31,
      "outputs": []
    },
    {
      "cell_type": "markdown",
      "source": [
        "2902번\n",
        "\n",
        "KMP 알고리즘이 KMP인 이유는 이를 만든 사람의 성이 Knuth, Morris, Prett이기 때문이다. 이렇게 알고리즘에는 발견한 사람의 성을 따서 이름을 붙이는 경우가 많다.\n",
        "\n",
        "또 다른 예로, 유명한 비대칭 암호화 알고리즘 RSA는 이를 만든 사람의 이름이 Rivest, Shamir, Adleman이다.\n",
        "\n",
        "사람들은 이렇게 사람 성이 들어간 알고리즘을 두 가지 형태로 부른다.\n",
        "\n",
        "첫 번째는 성을 모두 쓰고, 이를 하이픈(-)으로 이어 붙인 것이다. 예를 들면, Knuth-Morris-Pratt이다. 이것을 긴 형태라고 부른다.\n",
        "두 번째로 짧은 형태는 만든 사람의 성의 첫 글자만 따서 부르는 것이다. 예를 들면, KMP이다.\n",
        "동혁이는 매일매일 자신이 한 일을 모두 메모장에 적어놓는다. 잠을 자기 전에, 오늘 하루 무엇을 했는지 되새겨 보는 것으로 하루를 마감한다.\n",
        "\n",
        "하루는 이 메모를 보던 중, 지금까지 긴 형태와 짧은 형태를 섞어서 적어 놓은 것을 발견했다.\n",
        "\n",
        "이렇게 긴 형태로 하루 일을 기록하다가는 메모장 가격이 부담되어 파산될 것이 뻔하기 때문에, 앞으로는 짧은 형태로 기록하려고 한다.\n",
        "\n",
        "긴 형태의 알고리즘 이름이 주어졌을 때, 이를 짧은 형태로 바꾸어 출력하는 프로그램을 작성하시오."
      ],
      "metadata": {
        "id": "_IayDUrpOs3s"
      }
    },
    {
      "cell_type": "code",
      "source": [
        "#내가 한 거\n",
        "word = list(input().split('-'))\n",
        "for i in range(len(word)): \n",
        "  print(word[i][0],end='')"
      ],
      "metadata": {
        "id": "b4eQQVf4Pf2D"
      },
      "execution_count": null,
      "outputs": []
    },
    {
      "cell_type": "code",
      "source": [
        "a = list(input().split('-'))\n",
        "for i in a:\n",
        "    print(i[0], end = '')"
      ],
      "metadata": {
        "id": "MAltshdNZ0gb"
      },
      "execution_count": null,
      "outputs": []
    },
    {
      "cell_type": "markdown",
      "source": [
        "1076번\n",
        "\n",
        "전자 제품에는 저항이 들어간다. 저항은 색 3개를 이용해서 그 저항이 몇 옴인지 나타낸다. 처음 색 2개는 저항의 값이고, 마지막 색은 곱해야 하는 값이다. 저항의 값은 다음 표를 이용해서 구한다.\n",
        "\n",
        "색\t값\t곱\n",
        "black\t0\t1\n",
        "brown\t1\t10\n",
        "red\t2\t100\n",
        "orange\t3\t1,000\n",
        "yellow\t4\t10,000\n",
        "green\t5\t100,000\n",
        "blue\t6\t1,000,000\n",
        "violet\t7\t10,000,000\n",
        "grey\t8\t100,000,000\n",
        "white\t9\t1,000,000,000\n",
        "예를 들어, 저항의 색이 yellow, violet, red였다면 저항의 값은 4,700이 된다."
      ],
      "metadata": {
        "id": "-oUgx2wrZ3xg"
      }
    },
    {
      "cell_type": "code",
      "source": [
        "#내거\n",
        "rainbow = {'black': '0', 'brown': '1', 'red': '2', 'orange': '3', 'yellow': '4', 'green': '5', 'blue': '6', 'violet': '7', 'grey': '8', 'white': '9' }\n",
        "print(int(rainbow[input()]+rainbow[input()]+'0'*int(rainbow[input()])))"
      ],
      "metadata": {
        "id": "5bxuEmQGaGKk"
      },
      "execution_count": 53,
      "outputs": []
    },
    {
      "cell_type": "code",
      "source": [
        "color = ['black', 'brown', 'red', 'orange', 'yellow', 'green', 'blue', 'violet', 'grey', 'white']\n",
        "f = color.index(input())\n",
        "s = color.index(input())\n",
        "t = color.index(input())\n",
        "r = int(str(f) + str(s)) * (10 ** t)\n",
        "print(r)"
      ],
      "metadata": {
        "id": "sa11TYTosmtH"
      },
      "execution_count": null,
      "outputs": []
    },
    {
      "cell_type": "markdown",
      "source": [
        "10820번\n",
        "\n",
        "문자열 N개가 주어진다. 이때, 문자열에 포함되어 있는 소문자, 대문자, 숫자, 공백의 개수를 구하는 프로그램을 작성하시오.\n",
        "\n",
        "각 문자열은 알파벳 소문자, 대문자, 숫자, 공백으로만 이루어져 있다."
      ],
      "metadata": {
        "id": "XeBFBmbovBpO"
      }
    },
    {
      "cell_type": "code",
      "source": [
        "#내가한거\n",
        "\n",
        "while True:\n",
        "  lowercase = 0\n",
        "  uppercase = 0\n",
        "  numbers = 0\n",
        "  blank = 0\n",
        "  try:\n",
        "    sentence = input()\n",
        "    for i in sentence:\n",
        "      if 97 <= ord(i) <=122:\n",
        "        lowercase += 1\n",
        "      elif 65<= ord(i) <= 90:\n",
        "        uppercase += 1\n",
        "      elif 48<= ord(i) <= 57:\n",
        "        numbers += 1\n",
        "      elif ord(i) == 32:\n",
        "        blank += 1\n",
        "\n",
        "    print(lowercase, uppercase, numbers, blank)    \n",
        "  except:\n",
        "    break"
      ],
      "metadata": {
        "id": "KZSY1VK6vSTc"
      },
      "execution_count": null,
      "outputs": []
    },
    {
      "cell_type": "code",
      "source": [
        "import sys\n",
        "\n",
        "while True:\n",
        "    line = sys.stdin.readline().rstrip('\\n')\n",
        "    up, lo, sp, nu = 0, 0, 0, 0\n",
        "    \n",
        "    if not line:\n",
        "        break\n",
        "    for l in line:\n",
        "        if l.isupper():\n",
        "            up += 1\n",
        "        elif l.islower():\n",
        "            lo += 1\n",
        "        elif l.isdigit():\n",
        "            nu += 1\n",
        "        elif l.isspace():\n",
        "            sp += 1\n",
        "    \n",
        "    sys.stdout.write(\"{} {} {} {}\\n\".format(lo, up, nu, sp))\n",
        "\n",
        "\n",
        "출처: https://suri78.tistory.com/111 [공부노트]"
      ],
      "metadata": {
        "id": "k5tr0HhOygER"
      },
      "execution_count": null,
      "outputs": []
    }
  ]
}