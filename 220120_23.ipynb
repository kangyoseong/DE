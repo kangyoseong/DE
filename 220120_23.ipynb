{
  "nbformat": 4,
  "nbformat_minor": 0,
  "metadata": {
    "colab": {
      "name": "Untitled43.ipynb",
      "provenance": [],
      "authorship_tag": "ABX9TyO+mAjRTpCe+8QKEIbwLNZZ",
      "include_colab_link": true
    },
    "kernelspec": {
      "name": "python3",
      "display_name": "Python 3"
    },
    "language_info": {
      "name": "python"
    }
  },
  "cells": [
    {
      "cell_type": "markdown",
      "metadata": {
        "id": "view-in-github",
        "colab_type": "text"
      },
      "source": [
        "<a href=\"https://colab.research.google.com/github/kangyoseong/DE/blob/main/220120_23.ipynb\" target=\"_parent\"><img src=\"https://colab.research.google.com/assets/colab-badge.svg\" alt=\"Open In Colab\"/></a>"
      ]
    },
    {
      "cell_type": "markdown",
      "source": [
        "11719번\n",
        "\n",
        "입력 받은 대로 출력하는 프로그램을 작성하시오.\n",
        "\n",
        "> 들여쓴 블록\n",
        "\n"
      ],
      "metadata": {
        "id": "_RHsAFO4aOqX"
      }
    },
    {
      "cell_type": "code",
      "source": [
        "while True:\n",
        "  try:\n",
        "    print(input())\n",
        "  except:\n",
        "    break\n",
        "\n",
        "\n"
      ],
      "metadata": {
        "id": "aZUTG7BXaSlj"
      },
      "execution_count": null,
      "outputs": []
    }
  ]
}