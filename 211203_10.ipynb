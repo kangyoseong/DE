{
  "nbformat": 4,
  "nbformat_minor": 0,
  "metadata": {
    "colab": {
      "name": "Untitled26.ipynb",
      "provenance": [],
      "collapsed_sections": [],
      "authorship_tag": "ABX9TyPOZFY/4dbeuG61ashd2ZBB",
      "include_colab_link": true
    },
    "kernelspec": {
      "name": "python3",
      "display_name": "Python 3"
    },
    "language_info": {
      "name": "python"
    }
  },
  "cells": [
    {
      "cell_type": "markdown",
      "metadata": {
        "id": "view-in-github",
        "colab_type": "text"
      },
      "source": [
        "<a href=\"https://colab.research.google.com/github/kangyoseong/DE/blob/main/211203_10.ipynb\" target=\"_parent\"><img src=\"https://colab.research.google.com/assets/colab-badge.svg\" alt=\"Open In Colab\"/></a>"
      ]
    },
    {
      "cell_type": "markdown",
      "metadata": {
        "id": "ZqUUrfAPle8n"
      },
      "source": [
        "2577번\n",
        "\n",
        "세 개의 자연수 A, B, C가 주어질 때 A × B × C를 계산한 결과에 0부터 9까지 각각의 숫자가 몇 번씩 쓰였는지를 구하는 프로그램을 작성하시오.\n",
        "\n",
        "예를 들어 A = 150, B = 266, C = 427 이라면 A × B × C = 150 × 266 × 427 = 17037300 이 되고, 계산한 결과 17037300 에는 0이 3번, 1이 1번, 3이 2번, 7이 2번 쓰였다."
      ]
    },
    {
      "cell_type": "code",
      "metadata": {
        "id": "BdkId08Vl8n3"
      },
      "source": [
        "#내가 푼것\n",
        "a = int(input())\n",
        "b = int(input())\n",
        "c = int(input())\n",
        "\n",
        "z = str(a*b*c)\n",
        "\n",
        "for i in range(10):\n",
        "  print(z.count(str(i)))\n"
      ],
      "execution_count": null,
      "outputs": []
    },
    {
      "cell_type": "code",
      "metadata": {
        "id": "n_7BZmIGnWAm"
      },
      "source": [
        "#다른 사람이 푼 것\n",
        "a = int(input())\n",
        "b = int(input())\n",
        "c = int(input())\n",
        "\n",
        "result = list(str(a * b * c))\n",
        "for i in range(10):\n",
        "    print(result.count(str(i)))"
      ],
      "execution_count": null,
      "outputs": []
    },
    {
      "cell_type": "markdown",
      "metadata": {
        "id": "CieyBJ2Znu9_"
      },
      "source": [
        "11720번\n",
        "\n",
        "N개의 숫자가 공백 없이 쓰여있다. 이 숫자를 모두 합해서 출력하는 프로그램을 작성하시오."
      ]
    },
    {
      "cell_type": "code",
      "metadata": {
        "id": "A2s0oZGMpc0w"
      },
      "source": [
        "#내가 푼것\n",
        "a = int(input())\n",
        "b = input()\n",
        "z = 0\n",
        "\n",
        "for i in range(a):\n",
        "  z += int(b[i])\n",
        "print(z)"
      ],
      "execution_count": null,
      "outputs": []
    },
    {
      "cell_type": "code",
      "metadata": {
        "id": "AtlQVrq9sL2g"
      },
      "source": [
        "#다른 사람이 푼 것\n",
        "n = input()\n",
        "\n",
        "print(sum(map(int,input())))"
      ],
      "execution_count": null,
      "outputs": []
    },
    {
      "cell_type": "markdown",
      "metadata": {
        "id": "DgZ-0F2Estuh"
      },
      "source": [
        "15552번\n",
        "\n",
        "첫 줄에 테스트케이스의 개수 T가 주어진다. T는 최대 1,000,000이다. 다음 T줄에는 각각 두 정수 A와 B가 주어진다. A와 B는 1 이상, 1,000 이하이다."
      ]
    },
    {
      "cell_type": "code",
      "metadata": {
        "id": "PAqHEvRUtAZt"
      },
      "source": [
        "import sys\n",
        "\n",
        "t = int(sys.stdin.readline())\n",
        "\n",
        "for _ in range(t):\n",
        "  a, b = map(int, sys.stdin.readline().split())\n",
        "  print(a+b)"
      ],
      "execution_count": null,
      "outputs": []
    },
    {
      "cell_type": "markdown",
      "metadata": {
        "id": "eBRTHKlfWAau"
      },
      "source": [
        "2562번\n",
        "\n",
        "9개의 서로 다른 자연수가 주어질 때, 이들 중 최댓값을 찾고 그 최댓값이 몇 번째 수인지를 구하는 프로그램을 작성하시오.\n",
        "\n",
        "예를 들어, 서로 다른 9개의 자연수\n",
        "\n",
        "3, 29, 38, 12, 57, 74, 40, 85, 61\n",
        "\n",
        "이 주어지면, 이들 중 최댓값은 85이고, 이 값은 8번째 수이다."
      ]
    },
    {
      "cell_type": "code",
      "metadata": {
        "id": "WoPoRHfoWOi4"
      },
      "source": [
        "#내가 푼것\n",
        "lst = []\n",
        "\n",
        "for _ in range(9):\n",
        "  a = int(input())\n",
        "  lst.append(a)\n",
        "\n",
        "z = max(lst)\n",
        "\n",
        "print(z)\n",
        "print(lst.index(z)+1)"
      ],
      "execution_count": null,
      "outputs": []
    },
    {
      "cell_type": "code",
      "metadata": {
        "id": "65rxXL1AYSV-"
      },
      "source": [
        "#다른 사람거\n",
        "num_list = []\n",
        "for i in range(9):\n",
        "    num_list.append(int(input()))\n",
        "    \n",
        "print(max(num_list))\n",
        "print(num_list.index(max(num_list))+1)\n"
      ],
      "execution_count": null,
      "outputs": []
    },
    {
      "cell_type": "markdown",
      "metadata": {
        "id": "nmTd-sURYZLT"
      },
      "source": [
        "8958번\n",
        "\n",
        "\"OOXXOXXOOO\"와 같은 OX퀴즈의 결과가 있다. O는 문제를 맞은 것이고, X는 문제를 틀린 것이다. 문제를 맞은 경우 그 문제의 점수는 그 문제까지 연속된 O의 개수가 된다. 예를 들어, 10번 문제의 점수는 3이 된다.\n",
        "\n",
        "\"OOXXOXXOOO\"의 점수는 1+2+0+0+1+0+0+1+2+3 = 10점이다.\n",
        "\n",
        "OX퀴즈의 결과가 주어졌을 때, 점수를 구하는 프로그램을 작성하시오."
      ]
    },
    {
      "cell_type": "code",
      "metadata": {
        "id": "FCM2eSbXYkAu"
      },
      "source": [
        "#내가푼것\n",
        "nums = int(input())\n",
        "for _ in range(nums):\n",
        "  z = input()\n",
        "  a = 0\n",
        "  b = 1\n",
        "  for i in z:\n",
        "    if i=='O':\n",
        "      a += b\n",
        "      b += 1\n",
        "    else:\n",
        "      b = 1\n",
        "  print(a)\n",
        "      \n"
      ],
      "execution_count": null,
      "outputs": []
    },
    {
      "cell_type": "code",
      "metadata": {
        "id": "1ie_p-JDfFel"
      },
      "source": [
        "#다른 사람거\n",
        "\n",
        "a = int(input())\n",
        "for i in range(a):\n",
        "    b = input()\n",
        "    s = list(b)\n",
        "    sum = 0\n",
        "    c = 1\n",
        "    for i in s:\n",
        "        if i == 'O':\n",
        "            sum += c\n",
        "            c += 1\n",
        "        else:\n",
        "            c = 1\n",
        "    print(sum)"
      ],
      "execution_count": null,
      "outputs": []
    },
    {
      "cell_type": "markdown",
      "metadata": {
        "id": "WOvDMfUufOXU"
      },
      "source": [
        "1152번\n",
        "\n",
        "영어 대소문자와 공백으로 이루어진 문자열이 주어진다. 이 문자열에는 몇 개의 단어가 있을까? 이를 구하는 프로그램을 작성하시오. 단, 한 단어가 여러 번 등장하면 등장한 횟수만큼 모두 세어야 한다."
      ]
    },
    {
      "cell_type": "code",
      "metadata": {
        "id": "PFwSpxrHfaOt"
      },
      "source": [
        "#내가 푼것\n",
        "\n",
        "print(len(input().split()))\n",
        "\n"
      ],
      "execution_count": null,
      "outputs": []
    },
    {
      "cell_type": "code",
      "metadata": {
        "id": "d642RRrUfcZj"
      },
      "source": [
        "#다른 사람거\n",
        "word = input().split()\n",
        "print(len(word))"
      ],
      "execution_count": null,
      "outputs": []
    },
    {
      "cell_type": "markdown",
      "metadata": {
        "id": "GCA_vjlKgN4z"
      },
      "source": [
        "10809번\n",
        "\n",
        "알파벳 소문자로만 이루어진 단어 S가 주어진다. 각각의 알파벳에 대해서, 단어에 포함되어 있는 경우에는 처음 등장하는 위치를, 포함되어 있지 않은 경우에는 -1을 출력하는 프로그램을 작성하시오."
      ]
    },
    {
      "cell_type": "code",
      "metadata": {
        "id": "B_PUTCLygcL8"
      },
      "source": [
        "word = input()\n",
        "lst = ['a','b','c','d','e','f','g','h','i','j','k','l','m','n','o','p','q','r','s','t','u','v','w','x','y','z']\n",
        "\n",
        "for i in lst:\n",
        "  print(word.find(i))"
      ],
      "execution_count": null,
      "outputs": []
    },
    {
      "cell_type": "markdown",
      "metadata": {
        "id": "vAeAlcqemVQM"
      },
      "source": [
        "3052번\n",
        "\n",
        "두 자연수 A와 B가 있을 때, A%B는 A를 B로 나눈 나머지 이다. 예를 들어, 7, 14, 27, 38을 3으로 나눈 나머지는 1, 2, 0, 2이다. \n",
        "\n",
        "수 10개를 입력받은 뒤, 이를 42로 나눈 나머지를 구한다. 그 다음 서로 다른 값이 몇 개 있는지 출력하는 프로그램을 작성하시오."
      ]
    },
    {
      "cell_type": "code",
      "metadata": {
        "id": "vRm0OXiXmemc"
      },
      "source": [
        "#내가푼것\n",
        "\n",
        "lst = []\n",
        "for _ in range(10):\n",
        "  lst.append(int(input())%42)\n",
        "print(len(set(lst)))"
      ],
      "execution_count": null,
      "outputs": []
    },
    {
      "cell_type": "code",
      "metadata": {
        "id": "2nK2E3QsnU-g"
      },
      "source": [
        "#다른 사람거\n",
        "arr = []\n",
        "for i in range(10):\n",
        "    n = int(input())\n",
        "    arr.append(n % 42)\n",
        "arr = set(arr)\n",
        "print(len(arr))"
      ],
      "execution_count": null,
      "outputs": []
    },
    {
      "cell_type": "markdown",
      "metadata": {
        "id": "cIOIEQnpnmwj"
      },
      "source": [
        "2675번\n",
        "\n",
        "문자열 S를 입력받은 후에, 각 문자를 R번 반복해 새 문자열 P를 만든 후 출력하는 프로그램을 작성하시오. 즉, 첫 번째 문자를 R번 반복하고, 두 번째 문자를 R번 반복하는 식으로 P를 만들면 된다. S에는 QR Code \"alphanumeric\" 문자만 들어있다.\n",
        "\n",
        "QR Code \"alphanumeric\" 문자는 0123456789ABCDEFGHIJKLMNOPQRSTUVWXYZ\\$%*+-./: 이다."
      ]
    },
    {
      "cell_type": "code",
      "metadata": {
        "id": "eiHvTLLnnq9S"
      },
      "source": [
        "#내가 푼것, 답은 맞게 나오고 인터넷 답도 이건데 이상하게 틀린걸로 나온다.\n",
        "\n",
        "n = int(input())\n",
        "for _ in range(n):\n",
        "  a, b = input().split()\n",
        "  for i in b:\n",
        "    print(i*int(a), end='')"
      ],
      "execution_count": null,
      "outputs": []
    },
    {
      "cell_type": "markdown",
      "metadata": {
        "id": "T1KH1tZssQI2"
      },
      "source": [
        "2908번\n",
        "\n",
        "상근이의 동생 상수는 수학을 정말 못한다. 상수는 숫자를 읽는데 문제가 있다. 이렇게 수학을 못하는 상수를 위해서 상근이는 수의 크기를 비교하는 문제를 내주었다. 상근이는 세 자리 수 두 개를 칠판에 써주었다. 그 다음에 크기가 큰 수를 말해보라고 했다.\n",
        "\n",
        "상수는 수를 다른 사람과 다르게 거꾸로 읽는다. 예를 들어, 734와 893을 칠판에 적었다면, 상수는 이 수를 437과 398로 읽는다. 따라서, 상수는 두 수중 큰 수인 437을 큰 수라고 말할 것이다.\n",
        "\n",
        "두 수가 주어졌을 때, 상수의 대답을 출력하는 프로그램을 작성하시오."
      ]
    },
    {
      "cell_type": "code",
      "metadata": {
        "id": "QpZtC0N6sUNK"
      },
      "source": [
        "#내가 푼것\n",
        "\n",
        "a, b = input().split()\n",
        "print(max(int(a[::-1]), int(b[::-1]))) "
      ],
      "execution_count": null,
      "outputs": []
    }
  ]
}