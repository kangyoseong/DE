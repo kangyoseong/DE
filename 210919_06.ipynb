{
  "nbformat": 4,
  "nbformat_minor": 0,
  "metadata": {
    "colab": {
      "name": "210919_06.ipynb",
      "provenance": [],
      "authorship_tag": "ABX9TyMcWHfuAt45tn60veWjIpQm",
      "include_colab_link": true
    },
    "kernelspec": {
      "name": "python3",
      "display_name": "Python 3"
    },
    "language_info": {
      "name": "python"
    }
  },
  "cells": [
    {
      "cell_type": "markdown",
      "metadata": {
        "id": "view-in-github",
        "colab_type": "text"
      },
      "source": [
        "<a href=\"https://colab.research.google.com/github/kangyoseong/DE/blob/main/210919_06.ipynb\" target=\"_parent\"><img src=\"https://colab.research.google.com/assets/colab-badge.svg\" alt=\"Open In Colab\"/></a>"
      ]
    },
    {
      "cell_type": "markdown",
      "metadata": {
        "id": "XjksZhI_Cm4V"
      },
      "source": [
        "**1008번 문제**\n",
        "\n",
        "두 정수 A와 B를 입력받은 다음, A/B를 출력하는 프로그램을 작성하시오."
      ]
    },
    {
      "cell_type": "code",
      "metadata": {
        "id": "FM_pYj-QCv0A"
      },
      "source": [
        "A ,B  = map(int,input().split())\n",
        "print(A/B)"
      ],
      "execution_count": null,
      "outputs": []
    },
    {
      "cell_type": "markdown",
      "metadata": {
        "id": "8BdK5-y1Dmq5"
      },
      "source": [
        "**9498번**\n",
        "\n",
        "시험 점수를 입력받아 90 ~ 100점은 A, 80 ~ 89점은 B, 70 ~ 79점은 C, 60 ~ 69점은 D, 나머지 점수는 F를 출력하는 프로그램을 작성하시오."
      ]
    },
    {
      "cell_type": "code",
      "metadata": {
        "id": "eRfkcoebDwxw"
      },
      "source": [
        "a = int(input())\n",
        "if 90 <= a <= 100:\n",
        "  print('A')\n",
        "elif 80 <= a <= 89:\n",
        "  print('B')\n",
        "elif 70 <= a <= 79:\n",
        "  print('C')\n",
        "elif 60 <= a <= 69:\n",
        "  print('D')\n",
        "else: \n",
        "  print('F') "
      ],
      "execution_count": null,
      "outputs": []
    },
    {
      "cell_type": "markdown",
      "metadata": {
        "id": "8WgBC7Y6E1W9"
      },
      "source": [
        "**1330번**\n",
        "\n",
        "두 정수 A와 B가 주어졌을 때, A와 B를 비교하는 프로그램을 작성하시오."
      ]
    },
    {
      "cell_type": "code",
      "metadata": {
        "id": "KmdCN5H7E-dW"
      },
      "source": [
        "A ,B  = map(int,input().split())\n",
        "if A > B:\n",
        "  print('>')\n",
        "elif A < B:\n",
        "  print('<')\n",
        "else:\n",
        "  print('==')"
      ],
      "execution_count": null,
      "outputs": []
    },
    {
      "cell_type": "markdown",
      "metadata": {
        "id": "WauG6YYQFV6d"
      },
      "source": [
        "**2753번**\n",
        "\n",
        "연도가 주어졌을 때, 윤년이면 1, 아니면 0을 출력하는 프로그램을 작성하시오.\n",
        "\n",
        "윤년은 연도가 4의 배수이면서, 100의 배수가 아닐 때 또는 400의 배수일 때이다.\n",
        "\n",
        "예를 들어, 2012년은 4의 배수이면서 100의 배수가 아니라서 윤년이다. 1900년은 100의 배수이고 400의 배수는 아니기 때문에 윤년이 아니다. 하지만, 2000년은 400의 배수이기 때문에 윤년이다."
      ]
    },
    {
      "cell_type": "code",
      "metadata": {
        "id": "O8MIf8K9FmfI"
      },
      "source": [
        "a = int(input())\n",
        "\n",
        "if a%4==0 and not a%100==0:\n",
        "  print(1)\n",
        "elif a%400==0:\n",
        "  print(1)\n",
        "else: print(0)"
      ],
      "execution_count": null,
      "outputs": []
    },
    {
      "cell_type": "markdown",
      "metadata": {
        "id": "j85_lcA_GWSC"
      },
      "source": [
        "**2588번**\n",
        "\n",
        "(세 자리 수) × (세 자리 수)는 다음과 같은 과정을 통하여 이루어진다.\n",
        "\n",
        "![1.png](data:image/png;base64,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)\n",
        "\n",
        "(1)과 (2)위치에 들어갈 세 자리 자연수가 주어질 때 (3), (4), (5), (6)위치에 들어갈 값을 구하는 프로그램을 작성하시오."
      ]
    },
    {
      "cell_type": "code",
      "metadata": {
        "id": "NSuzYePXG9ZG"
      },
      "source": [
        "a = int(input())\n",
        "b = input()\n",
        "print(a*int(b[2]))\n",
        "print(a*int(b[1]))\n",
        "print(a*int(b[0]))\n",
        "print(a*int(b))"
      ],
      "execution_count": null,
      "outputs": []
    },
    {
      "cell_type": "markdown",
      "metadata": {
        "id": "Dl2jziooH3XT"
      },
      "source": [
        "**14861번**\n",
        "\n",
        "흔한 수학 문제 중 하나는 주어진 점이 어느 사분면에 속하는지 알아내는 것이다. 사분면은 아래 그림처럼 1부터 4까지 번호를 갖는다. \"Quadrant n\"은 \"제n사분면\"이라는 뜻이다.\n",
        "\n",
        "![1.png](data:image/png;base64,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)\n",
        "\n",
        "예를 들어, 좌표가 (12, 5)인 점 A는 x좌표와 y좌표가 모두 양수이므로 제1사분면에 속한다. 점 B는 x좌표가 음수이고 y좌표가 양수이므로 제2사분면에 속한다.\n",
        "\n",
        "점의 좌표를 입력받아 그 점이 어느 사분면에 속하는지 알아내는 프로그램을 작성하시오. 단, x좌표와 y좌표는 모두 양수나 음수라고 가정한다."
      ]
    },
    {
      "cell_type": "code",
      "metadata": {
        "id": "Gsw38LQbII1N"
      },
      "source": [
        "x = int(input())\n",
        "y = int(input())\n",
        "\n",
        "if x>0 and y>0:\n",
        "  print(1)\n",
        "elif x<0 and y>0:\n",
        "  print(2)\n",
        "elif x<0 and y<0:\n",
        "  print(3)\n",
        "else:\n",
        "  print(4)"
      ],
      "execution_count": null,
      "outputs": []
    },
    {
      "cell_type": "markdown",
      "metadata": {
        "id": "oSO-CKBWIxnT"
      },
      "source": [
        "10039번\n",
        "\n",
        "상현이가 가르치는 아이폰 앱 개발 수업의 수강생은 원섭, 세희, 상근, 숭, 강수이다.\n",
        "\n",
        "어제 이 수업의 기말고사가 있었고, 상현이는 지금 학생들의 기말고사 시험지를 채점하고 있다. 기말고사 점수가 40점 이상인 학생들은 그 점수 그대로 자신의 성적이 된다. 하지만, 40점 미만인 학생들은 보충학습을 듣는 조건을 수락하면 40점을 받게 된다. 보충학습은 거부할 수 없기 때문에, 40점 미만인 학생들은 항상 40점을 받게 된다.\n",
        "\n",
        "학생 5명의 점수가 주어졌을 때, 평균 점수를 구하는 프로그램을 작성하시오."
      ]
    },
    {
      "cell_type": "code",
      "metadata": {
        "id": "ilkXY23hJEEx"
      },
      "source": [
        "a = int(input())\n",
        "b = int(input())\n",
        "c = int(input())\n",
        "d = int(input())\n",
        "e = int(input())\n",
        "\n",
        "if a<40:\n",
        "  a=40\n",
        "else:\n",
        "  a=a\n",
        "\n",
        "if b<40:\n",
        "  b=40\n",
        "else:\n",
        "  b=b\n",
        "\n",
        "if c<40:\n",
        "  c=40\n",
        "else:\n",
        "  c=c\n",
        "\n",
        "if d<40:\n",
        "  d=40\n",
        "else:\n",
        "  d=d\n",
        "\n",
        "if e<40:\n",
        "  e=40\n",
        "else:\n",
        "  e=e\n",
        "\n",
        "print(int((a+b+c+d+e)/5))"
      ],
      "execution_count": null,
      "outputs": []
    },
    {
      "cell_type": "markdown",
      "metadata": {
        "id": "_BM7a4MsKIlj"
      },
      "source": [
        "1712번\n",
        "\n",
        "월드전자는 노트북을 제조하고 판매하는 회사이다. 노트북 판매 대수에 상관없이 매년 임대료, 재산세, 보험료, 급여 등 A만원의 고정 비용이 들며, 한 대의 노트북을 생산하는 데에는 재료비와 인건비 등 총 B만원의 가변 비용이 든다고 한다.\n",
        "\n",
        "예를 들어 A=1,000, B=70이라고 하자. 이 경우 노트북을 한 대 생산하는 데는 총 1,070만원이 들며, 열 대 생산하는 데는 총 1,700만원이 든다.\n",
        "\n",
        "노트북 가격이 C만원으로 책정되었다고 한다. 일반적으로 생산 대수를 늘려 가다 보면 어느 순간 총 수입(판매비용)이 총 비용(=고정비용+가변비용)보다 많아지게 된다. 최초로 총 수입이 총 비용보다 많아져 이익이 발생하는 지점을 손익분기점(BREAK-EVEN POINT)이라고 한다.\n",
        "\n",
        "A, B, C가 주어졌을 때, 손익분기점을 구하는 프로그램을 작성하시오."
      ]
    },
    {
      "cell_type": "code",
      "metadata": {
        "id": "ePJFx4bTKRsl"
      },
      "source": [
        "a,b,c = map(int,input().split())\n",
        "\n",
        "if c-b <= 0:\n",
        "  print(-1)\n",
        "else:\n",
        "  print(int(a / (c-b)+1))"
      ],
      "execution_count": null,
      "outputs": []
    },
    {
      "cell_type": "markdown",
      "metadata": {
        "id": "hcNBK19RKU9a"
      },
      "source": [
        "5543번\n",
        "\n",
        "상근날드에서 가장 잘 팔리는 메뉴는 세트 메뉴이다. 주문할 때, 자신이 원하는 햄버거와 음료를 하나씩 골라, 세트로 구매하면, 가격의 합계에서 50원을 뺀 가격이 세트 메뉴의 가격이 된다.\n",
        "\n",
        "햄버거는 총 3종류 상덕버거, 중덕버거, 하덕버거가 있고, 음료는 콜라와 사이다 두 종류가 있다.\n",
        "\n",
        "햄버거와 음료의 가격이 주어졌을 때, 가장 싼 세트 메뉴의 가격을 출력하는 프로그램을 작성하시오."
      ]
    },
    {
      "cell_type": "code",
      "metadata": {
        "id": "S_OG1xGEKxvM"
      },
      "source": [
        "a = int(input())\n",
        "b = int(input())\n",
        "c = int(input())\n",
        "d = int(input())\n",
        "e = int(input())\n",
        "\n",
        "print(min(a,b,c)+min(d,e)-50)"
      ],
      "execution_count": null,
      "outputs": []
    },
    {
      "cell_type": "markdown",
      "metadata": {
        "id": "jtFpZCzuLDyL"
      },
      "source": [
        "10797번\n",
        "\n",
        "서울시는 6월 1일부터 교통 혼잡을 막기 위해서 자동차 10부제를 시행한다. 자동차 10부제는 자동차 번호의 일의 자리 숫자와 날짜의 일의 자리 숫자가 일치하면 해당 자동차의 운행을 금지하는 것이다. 예를 들어, 자동차 번호의 일의 자리 숫자가 7이면 7일, 17일, 27일에 운행하지 못한다. 또한, 자동차 번호의 일의 자리 숫자가 0이면 10일, 20일, 30일에 운행하지 못한다.\n",
        "\n",
        "여러분들은 일일 경찰관이 되어 10부제를 위반하는 자동차의 대수를 세는 봉사활동을 하려고 한다. 날짜의 일의 자리 숫자가 주어지고 5대의 자동차 번호의 일의 자리 숫자가 주어졌을 때 위반하는 자동차의 대수를 출력하면 된다. "
      ]
    },
    {
      "cell_type": "code",
      "metadata": {
        "id": "7WrNm1wGLwGS"
      },
      "source": [
        "a = int(input())\n",
        "b,c,d,e,f = map(int,input().split())\n",
        "z = [b,c,d,e,f]\n",
        "cnt = 0\n",
        "\n",
        "for i in z:\n",
        "  if a==i:\n",
        "    cnt+=1\n",
        "  elif a==(i+10):\n",
        "    cnt+=1\n",
        "  elif a==(i+20):\n",
        "    cnt+=1\n",
        "print(cnt)"
      ],
      "execution_count": null,
      "outputs": []
    },
    {
      "cell_type": "markdown",
      "metadata": {
        "id": "1g7CJwIGOrhs"
      },
      "source": [
        "2525번\n",
        "\n",
        "KOI 전자에서는 건강에 좋고 맛있는 훈제오리구이 요리를 간편하게 만드는 인공지능 오븐을 개발하려고 한다. 인공지능 오븐을 사용하는 방법은 적당한 양의 오리 훈제 재료를 인공지능 오븐에 넣으면 된다. 그러면 인공지능 오븐은 오븐구이가 끝나는 시간을 분 단위로 자동적으로 계산한다. \n",
        "\n",
        "또한, KOI 전자의 인공지능 오븐 앞면에는 사용자에게 훈제오리구이 요리가 끝나는 시각을 알려 주는 디지털 시계가 있다. \n",
        "\n",
        "훈제오리구이를 시작하는 시각과 오븐구이를 하는 데 필요한 시간이 분단위로 주어졌을 때, 오븐구이가 끝나는 시각을 계산하는 프로그램을 작성하시오."
      ]
    },
    {
      "cell_type": "code",
      "metadata": {
        "id": "nSdnygh0PIJc"
      },
      "source": [
        "a, b= map(int,input().split())\n",
        "c = int(input())\n",
        "\n",
        "h = (a*60+b+c)//60\n",
        "m = (a*60+b+c)%60\n",
        "\n",
        "if h>=24:\n",
        "  h = h-24\n",
        "\n",
        "print(h, m)"
      ],
      "execution_count": null,
      "outputs": []
    },
    {
      "cell_type": "markdown",
      "metadata": {
        "id": "6mH__XhGQ_Kd"
      },
      "source": [
        "2752번\n",
        "\n",
        "동규는 세수를 하다가 정렬이 하고싶어졌다.\n",
        "\n",
        "숫자 세 개를 생각한 뒤에, 이를 오름차순으로 정렬하고 싶어 졌다.\n",
        "\n",
        "숫자 세 개가 주어졌을 때, 가장 작은 수, 그 다음 수, 가장 큰 수를 출력하는 프로그램을 작성하시오.\n",
        "\n"
      ]
    },
    {
      "cell_type": "code",
      "metadata": {
        "id": "NYTKcpOsRHej"
      },
      "source": [
        "a = list(map(int,input().split()))\n",
        "a.sort()\n",
        "print(a[0],a[1],a[2])"
      ],
      "execution_count": null,
      "outputs": []
    },
    {
      "cell_type": "markdown",
      "metadata": {
        "id": "Ok6piHQgsHdK"
      },
      "source": [
        "10162번\n",
        "\n",
        "3개의 시간조절용 버튼 A B C가 달린 전자레인지가 있다. 각 버튼마다 일정한 시간이 지정되어 있어 해당 버튼을 한번 누를 때마다 그 시간이 동작시간에 더해진다. 버튼 A, B, C에 지정된 시간은 각각 5분, 1분, 10초이다.\n",
        "\n",
        "냉동음식마다 전자레인지로 요리해야할 시간 T가 초단위로 표시되어 있다. 우리는 A, B, C 3개의 버튼을 적절히 눌러서 그 시간의 합이 정확히 T초가 되도록 해야 한다. 단 버튼 A, B, C를 누른 횟수의 합은 항상 최소가 되어야 한다. 이것을 최소버튼 조작이라고 한다. \n",
        "\n",
        "만일 요리시간이 100초라고 하면(T=100) B를 1번, C는 4번 누르면 된다. 이와 다르게 C를 10번 눌러도 100초가 되지만 이 경우 10번은 최소 횟수가 아니기 때문이 답이 될 수 없다. 이 경우 B 1번, C 4번, 총 5번이 최소버튼 조작이다. 그리고 T=234와 같이 3개의 버튼으로 시간을 정확히 맞출 수 없는 경우도 있다. \n",
        "\n",
        "여러분은 주어진 요리시간 T초를 맞추기 위한 최소버튼 조작 방법을 구하는 프로그램을 작성해야 한다. "
      ]
    },
    {
      "cell_type": "code",
      "metadata": {
        "id": "OR85gh6LsMLm"
      },
      "source": [
        "a = int(input())\n",
        "\n",
        "b = a//300\n",
        "c = (a%300)//60\n",
        "d = ((a%300)%60)//10\n",
        "\n",
        "if a%10 != 0:\n",
        "  print(-1)\n",
        "else:\n",
        "  print(b, c, d)\n"
      ],
      "execution_count": null,
      "outputs": []
    },
    {
      "cell_type": "markdown",
      "metadata": {
        "id": "pA4glUDRvfxG"
      },
      "source": [
        "2480번\n",
        "\n",
        "1에서부터 6까지의 눈을 가진 3개의 주사위를 던져서 다음과 같은 규칙에 따라 상금을 받는 게임이 있다. \n",
        "\n",
        "같은 눈이 3개가 나오면 10,000원+(같은 눈)×1,000원의 상금을 받게 된다. \n",
        "같은 눈이 2개만 나오는 경우에는 1,000원+(같은 눈)×100원의 상금을 받게 된다. \n",
        "모두 다른 눈이 나오는 경우에는 (그 중 가장 큰 눈)×100원의 상금을 받게 된다.  \n",
        "예를 들어, 3개의 눈 3, 3, 6이 주어지면 상금은 1,000+3×100으로 계산되어 1,300원을 받게 된다. 또 3개의 눈이 2, 2, 2로 주어지면 10,000+2×1,000 으로 계산되어 12,000원을 받게 된다. 3개의 눈이 6, 2, 5로 주어지면 그중 가장 큰 값이 6이므로 6×100으로 계산되어 600원을 상금으로 받게 된다.\n",
        "\n",
        "3개 주사위의 나온 눈이 주어질 때, 상금을 계산하는 프로그램을 작성 하시오.\n",
        "\n"
      ]
    },
    {
      "cell_type": "code",
      "metadata": {
        "id": "HyUaQa-8wAY9"
      },
      "source": [
        "a,b,c = map(int,input().split())\n",
        "\n",
        "if a==b==c:\n",
        "  print(10000+a*1000)\n",
        "elif a==b:\n",
        "  print(1000+a*100)\n",
        "elif b==c:\n",
        "  print(1000+b*100)\n",
        "elif a==c:\n",
        "  print(1000+a*100)\n",
        "else:\n",
        "  print(max(a,b,c)*100)"
      ],
      "execution_count": null,
      "outputs": []
    },
    {
      "cell_type": "markdown",
      "metadata": {
        "id": "bdk65Et3xHyN"
      },
      "source": [
        "10156번\n",
        "\n",
        "동수는 제과점에 과자를 사러 가는데 현재 가진 돈이 모자랄 경우 부모님께 모자란 돈을 받으려고 한다. 과자 한 개의 가격이 K, 사려고 하는 과자의 개수가 N이고, 현재 가진 돈의 액수를 M이라 할 때 여러분은 동수가 부모님께 받아야 하는 모자란 돈을 계산하려고 한다. \n",
        "\n",
        "예를 들어, 과자 한 개의 가격이 30원, 사려고 하는 과자의 개수가 4개, 현재 동수가 가진 돈이 100원이라 할 때, 동수가 부모님께 받아야 하는 돈은 20원이다. 과자 한 개의 가격이 250원, 사려고 하는 과자의 개수가 2개, 현재 동수가 가진 돈이 140원이라 할 때, 동수가 부모님께 받아야 하는 돈은 360원이다. 과자 한 개의 가격이 20원, 사려고 하는 과자의 개수가 6개, 현재 동수가 가진 돈이 120원이라 할 때 동수가 부모님께 받아야 하는 돈은 0원이다. 과자 한 개의 가격이 20원, 사려고 하는 과자의 개수가 10개, 현재 동수가 가진 돈이 320원이라 할 때 동수가 부모님께 받아야 하는 돈은 역시 0원이다. \n",
        "\n",
        "과자 한 개의 가격, 사려고 하는 과자의 개수와 동수가 현재 가진 돈의 액수가 주어질 때 동수가 부모님께 받아야 하는 돈의 액수를 출력하는 프로그램을 작성하시오. "
      ]
    },
    {
      "cell_type": "code",
      "metadata": {
        "id": "mHiQN0l_xMUu"
      },
      "source": [
        "k,n,m = map(int,input().split())\n",
        "\n",
        "z = k*n-m\n",
        "if z < 0:\n",
        "  print(0)\n",
        "else:\n",
        "  print(z)\n"
      ],
      "execution_count": null,
      "outputs": []
    },
    {
      "cell_type": "markdown",
      "metadata": {
        "id": "vmbHpkI3yTUe"
      },
      "source": [
        "2420번\n",
        "\n",
        "사파리월드는 인터넷으로만 존재하는 미스테리한 나라이다. 사파리월드에는 2개의 서브도메인이 seunghwan.royal.gov.sw와 kyuhyun.royal.gov.sw 이 있는데, 이것이 couple.royal.gov.sw으로 합쳐질 것이다. 그러나 도메인 관리 센터 SWNIC(센터장: 김동규)에는 엄격한 룰이 있다. 두 서브도메인을 합칠 때, 유명도의 차이가 너무 차이나지 않을 경우에만 두 서브도메인을 결혼시키는 것이다. 서브도메인의 유명도는 정수이다. 두 서브도메인의 유명도가 주어졌을 때, 그 차이를 구하는 프로그램을 작성하시오."
      ]
    },
    {
      "cell_type": "code",
      "metadata": {
        "id": "0KV80BZ9ygWt"
      },
      "source": [
        "n,m = map(int,input().split())\n",
        "\n",
        "print(abs(n-m))"
      ],
      "execution_count": null,
      "outputs": []
    },
    {
      "cell_type": "markdown",
      "metadata": {
        "id": "tmHgptVayyDw"
      },
      "source": [
        "2530번\n",
        "\n",
        "KOI 전자에서는 건강에 좋고 맛있는 훈제오리구이 요리를 간편하게 만드는 인공지능 오븐을 개발하려고 한다. 인공지능 오븐을 사용하는 방법은 적당한 양의 오리 훈제 재료를 인공지능 오븐에 넣으면 된다. 그러면 인공지능 오븐은 오븐구이가 끝나는 시간을 초 단위로 자동적으로 계산한다. \n",
        "\n",
        "또한, KOI 전자의 인공지능 오븐 앞면에는 사용자에게 훈제오리구이 요리가 끝나는 시각을 알려 주는 디지털 시계가 있다.  \n",
        "\n",
        "훈제오리구이를 시작하는 시각과 오븐구이를 하는 데 필요한 시간이 초 단위로 주어졌을 때, 오븐구이가 끝나는 시각을 계산하는 프로그램을 작성하시오."
      ]
    },
    {
      "cell_type": "code",
      "metadata": {
        "id": "Ik6_cQ2Ry03b"
      },
      "source": [
        "a,b,c= map(int,input().split())\n",
        "d = int(input())\n",
        "\n",
        "z = a*3600+b*60+c+d\n",
        "h = (z//3600)%24\n",
        "m = (z//60)%60\n",
        "s = z%60\n",
        "\n",
        "print(h,m,s)"
      ],
      "execution_count": null,
      "outputs": []
    },
    {
      "cell_type": "markdown",
      "metadata": {
        "id": "EK_10w47Jvo8"
      },
      "source": [
        "5532번\n",
        "\n",
        "상근이는 초등학교에 다닐 때, 방학 숙제를 남들보다 먼저 미리 하고 남은 기간을 놀았다. 방학 숙제는 수학과 국어 문제 풀기이다.\n",
        "\n",
        "방학은 총 L일이다. 수학은 총 B페이지, 국어는 총 A페이지를 풀어야 한다. 상근이는 하루에 국어를 최대 C페이지, 수학을 최대 D페이지 풀 수 있다.\n",
        "\n",
        "상근이가 겨울 방학동안 숙제를 하지 않고 놀 수 있는 최대 날의 수를 구하는 프로그램을 작성하시오.\n",
        "\n"
      ]
    },
    {
      "cell_type": "code",
      "metadata": {
        "id": "5LIvO002JzWy"
      },
      "source": [
        "import math\n",
        "\n",
        "L = int(input())\n",
        "A = int(input())\n",
        "B = int(input())\n",
        "C = int(input())\n",
        "D = int(input())\n",
        "\n",
        "print(L-math.ceil(max(A/C,B/D)))"
      ],
      "execution_count": null,
      "outputs": []
    },
    {
      "cell_type": "markdown",
      "metadata": {
        "id": "h5izZHFhLBFv"
      },
      "source": [
        "10101번\n",
        "\n",
        "창영이는 삼각형의 종류를 잘 구분하지 못한다. 따라서 프로그램을 이용해 이를 외우려고 한다.\n",
        "\n",
        "삼각형의 세 각을 입력받은 다음, \n",
        "\n",
        "세 각의 크기가 모두 60이면, Equilateral\n",
        "세 각의 합이 180이고, 두 각이 같은 경우에는 Isosceles\n",
        "세 각의 합이 180이고, 같은 각이 없는 경우에는 Scalene\n",
        "세 각의 합이 180이 아닌 경우에는 Error\n",
        "를 출력하는 프로그램을 작성하시오."
      ]
    },
    {
      "cell_type": "code",
      "metadata": {
        "id": "WdSmchKTLOfp"
      },
      "source": [
        "a = int(input())\n",
        "b = int(input())\n",
        "c = int(input())\n",
        "\n",
        "if a+b+c!=180:\n",
        "  print('Error')\n",
        "elif a==b==c==60:\n",
        "  print('Equilateral')\n",
        "elif a==b or b==c or a==c:\n",
        "  print('Isosceles')\n",
        "else:\n",
        "  print('Scalene')"
      ],
      "execution_count": null,
      "outputs": []
    },
    {
      "cell_type": "markdown",
      "metadata": {
        "id": "ie571srfL3Pt"
      },
      "source": [
        "5596번\n",
        "\n",
        "대한고등학교에 재학 중인 민국이와 만세는 4과목(정보, 수학, 과학, 영어)에 대한 시험을 봤다. 민국이와 만세가 본 4과목의 점수를 입력하면, 민국이의 총점 S와 만세의 총점 T 중에서 큰 점수를 출력하는 프로그램을 작성하시오. 단, 서로 동점일 때는 민국이의 총점 S를 출력한다."
      ]
    },
    {
      "cell_type": "code",
      "metadata": {
        "id": "4ORkDHuoMAqK"
      },
      "source": [
        "a,b,c,d = map(int,input().split())\n",
        "e,f,g,h = map(int,input().split())\n",
        "print(max(a+b+c+d,e+f+g+h))"
      ],
      "execution_count": null,
      "outputs": []
    },
    {
      "cell_type": "markdown",
      "metadata": {
        "id": "yj4ZYHROMbBA"
      },
      "source": [
        "10707번\n",
        "\n",
        "JOI군이 살고 있는 지역에는 X사와 Y사, 두 개의 수도회사가 있다. 두 회사의 수도요금은 한 달간 수도의 사용량에 따라 다음과 같이 정해진다.\n",
        "\n",
        "X사 : 1리터당 A엔.\n",
        "Y사 : 기본요금은 B엔이고, 사용량이 C리터 이하라면 요금은 기본요금만 청구된다. 사용량이 C리터가 넘었을 경우 기본요금 B엔에 더해서 추가요금이 붙는다. 추가요금은 사용량이 C리터를 넘었을 경우 1리터를 넘었을 때마다 D엔이다.\n",
        "JOI군의 집에서 한 달간 쓰는 수도의 양은 P리터이다.\n",
        "\n",
        "수도요금이 최대한 싸게 되도록 수도회사를 고를 때, JOI군의 집의 1달간 수도요금을 구하여라."
      ]
    },
    {
      "cell_type": "code",
      "metadata": {
        "id": "oe4pq_qYMfGs"
      },
      "source": [
        "A = int(input())\n",
        "B = int(input())\n",
        "C = int(input())\n",
        "D = int(input())\n",
        "P = int(input())\n",
        "\n",
        "X = A*P\n",
        "if P<=C:\n",
        "  Y = B\n",
        "else:\n",
        "  Y = B+(P-C)*D\n",
        "\n",
        "print(min(X,Y))"
      ],
      "execution_count": null,
      "outputs": []
    }
  ]
}