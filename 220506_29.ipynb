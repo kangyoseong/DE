{
  "nbformat": 4,
  "nbformat_minor": 0,
  "metadata": {
    "colab": {
      "name": "Untitled50.ipynb",
      "provenance": [],
      "authorship_tag": "ABX9TyPjGnQvYzasFeJrKkRFXvTK",
      "include_colab_link": true
    },
    "kernelspec": {
      "name": "python3",
      "display_name": "Python 3"
    },
    "language_info": {
      "name": "python"
    }
  },
  "cells": [
    {
      "cell_type": "markdown",
      "metadata": {
        "id": "view-in-github",
        "colab_type": "text"
      },
      "source": [
        "<a href=\"https://colab.research.google.com/github/kangyoseong/DE/blob/main/220506_29.ipynb\" target=\"_parent\"><img src=\"https://colab.research.google.com/assets/colab-badge.svg\" alt=\"Open In Colab\"/></a>"
      ]
    },
    {
      "cell_type": "markdown",
      "source": [
        "11005번\n",
        "\n",
        "10진법 수 N이 주어진다. 이 수를 B진법으로 바꿔 출력하는 프로그램을 작성하시오.\n",
        "\n",
        "10진법을 넘어가는 진법은 숫자로 표시할 수 없는 자리가 있다. 이런 경우에는 다음과 같이 알파벳 대문자를 사용한다.\n",
        "\n",
        "A: 10, B: 11, ..., F: 15, ..., Y: 34, Z: 35"
      ],
      "metadata": {
        "id": "bM1Dds7DEVl4"
      }
    },
    {
      "cell_type": "code",
      "execution_count": null,
      "metadata": {
        "id": "0EJcV2S-6a-k"
      },
      "outputs": [],
      "source": [
        "n, b = map(int,input().split( ))\n",
        "table = '0123456789ABCDEFGHIJKLMNOPQRSTUVWXYZ'\n",
        "result = ''\n",
        "while n != 0:\n",
        "  result += table[n % b]\n",
        "  n = n //b\n",
        "print(result[::-1])"
      ]
    },
    {
      "cell_type": "markdown",
      "source": [
        "2669번\n",
        "\n",
        "평면에 네 개의 직사각형이 놓여 있는데 그 밑변은 모두 가로축에 평행하다. 이 네 개의 직사각형들은 서로 떨어져 있을 수도 있고, 겹쳐 있을 수도 있고, 하나가 다른 하나를 포함할 수도 있으며, 변이나 꼭짓점이 겹칠 수도 있다.\n",
        "\n",
        "이 직사각형들이 차지하는 면적을 구하는 프로그램을 작성하시오."
      ],
      "metadata": {
        "id": "8i1TtshjEcsi"
      }
    },
    {
      "cell_type": "code",
      "source": [
        "paper = [[0 for _ in range(101)] for _ in range(101)]\n",
        "\n",
        "for _ in range(4):\n",
        "    x1, y1, x2, y2 = map(int, input().split())\n",
        "    \n",
        "    #사각형 부분만 1로 바꾸어줌\n",
        "    for i in range(x1, x2):\n",
        "        for j in range(y1, y2):\n",
        "            paper[i][j] = 1\n",
        "\n",
        "answer = 0\n",
        "for row in paper:\n",
        "    answer += sum(row)\n",
        "print(answer)"
      ],
      "metadata": {
        "id": "0qRxQHgRHWqE"
      },
      "execution_count": null,
      "outputs": []
    }
  ]
}