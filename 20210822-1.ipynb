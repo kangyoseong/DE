{
  "nbformat": 4,
  "nbformat_minor": 0,
  "metadata": {
    "colab": {
      "name": "Untitled13.ipynb",
      "provenance": [],
      "authorship_tag": "ABX9TyPW8maidlFpybE/MwQWQXhm",
      "include_colab_link": true
    },
    "kernelspec": {
      "name": "python3",
      "display_name": "Python 3"
    },
    "language_info": {
      "name": "python"
    }
  },
  "cells": [
    {
      "cell_type": "markdown",
      "metadata": {
        "id": "view-in-github",
        "colab_type": "text"
      },
      "source": [
        "<a href=\"https://colab.research.google.com/github/kangyoseong/DE/blob/main/20210822-1.ipynb\" target=\"_parent\"><img src=\"https://colab.research.google.com/assets/colab-badge.svg\" alt=\"Open In Colab\"/></a>"
      ]
    },
    {
      "cell_type": "code",
      "metadata": {
        "colab": {
          "base_uri": "https://localhost:8080/"
        },
        "id": "KQiMcmCE-dwI",
        "outputId": "fae166de-979e-4dbc-b6ed-fc48c48d01f2"
      },
      "source": [
        "# N개의 정수가 주어진다. 이때, 최솟값과 최댓값을 구하는 프로그램을 작성하시오.\n",
        "\n",
        "import sys\n",
        "t = int(sys.stdin.readline()) #첫째줄 읽어서 정수의 갯수 구하기\n",
        "c = list(map(int, sys.stdin.readline().split())) #둘째줄 리스트화\n",
        "\n",
        "print(min(c),max(c)) #최대값 최솟값 출력\n",
        "  \n",
        "\n"
      ],
      "execution_count": 2,
      "outputs": [
        {
          "output_type": "stream",
          "text": [
            "1 5\n"
          ],
          "name": "stdout"
        }
      ]
    },
    {
      "cell_type": "code",
      "metadata": {
        "colab": {
          "base_uri": "https://localhost:8080/"
        },
        "id": "Z8kK-Q7sAxfW",
        "outputId": "3369e017-2dc4-4ac0-df48-f41b355fe9d6"
      },
      "source": [
        "# 9개의 서로 다른 자연수가 주어질 때, 이들 중 최댓값을 찾고 그 최댓값이 몇 번째 수인지를 구하는 프로그램을 작성하시오.\n",
        "\n",
        "import sys\n",
        "\n",
        "a = int(sys.stdin.readline())\n",
        "b = int(sys.stdin.readline())\n",
        "c = int(sys.stdin.readline())\n",
        "d = int(sys.stdin.readline())\n",
        "e = int(sys.stdin.readline())\n",
        "f = int(sys.stdin.readline())\n",
        "g = int(sys.stdin.readline())\n",
        "h = int(sys.stdin.readline())\n",
        "i = int(sys.stdin.readline())\n",
        "\n",
        "t = [a,b,c,d,e,f,g,h,i] #리스트화 하기\n",
        "print(max(t))#최대값 구하기\n",
        "print(t.index(max(t))+1) #리스트 내 최대값 위치구하기, +1을 하여서 원하는 값 만들어주기\n"
      ],
      "execution_count": 17,
      "outputs": [
        {
          "output_type": "stream",
          "text": [
            "4\n",
            "3\n"
          ],
          "name": "stdout"
        }
      ]
    },
    {
      "cell_type": "code",
      "metadata": {
        "colab": {
          "base_uri": "https://localhost:8080/"
        },
        "id": "PCRfIbliBm7p",
        "outputId": "7696bc1b-dbfb-4170-dbab-96ca313dbd7c"
      },
      "source": [
        "#세 개의 자연수 A, B, C가 주어질 때 A × B × C를 계산한 결과에 0부터 9까지 각각의 숫자가 몇 번씩 쓰였는지를 구하는 프로그램을 작성하시오.\n",
        "\n",
        "import sys\n",
        "\n",
        "a = int(sys.stdin.readline())\n",
        "b = int(sys.stdin.readline())\n",
        "c = int(sys.stdin.readline())\n",
        "\n",
        "l = str(a*b*c) # 문자화 하고\n",
        "for i in range(10): \n",
        "  print(l.count(str(i))) #문자화된 0~9까지 숫자를 count 해본다.\n",
        "\n"
      ],
      "execution_count": 32,
      "outputs": [
        {
          "output_type": "stream",
          "text": [
            "3\n",
            "1\n",
            "2\n",
            "0\n",
            "0\n",
            "0\n",
            "1\n",
            "1\n",
            "0\n",
            "1\n"
          ],
          "name": "stdout"
        }
      ]
    },
    {
      "cell_type": "code",
      "metadata": {
        "colab": {
          "base_uri": "https://localhost:8080/"
        },
        "id": "iu8CexwDgrzE",
        "outputId": "1c29976d-1192-4bc0-db4f-d79a2d92123f"
      },
      "source": [
        "#두 자연수 A와 B가 있을 때, A%B는 A를 B로 나눈 나머지 이다. 예를 들어, 7, 14, 27, 38을 3으로 나눈 나머지는 1, 2, 0, 2이다. \n",
        "#수 10개를 입력받은 뒤, 이를 42로 나눈 나머지를 구한다. 그 다음 서로 다른 값이 몇 개 있는지 출력하는 프로그램을 작성하시오.\n",
        "\n",
        "import sys\n",
        "\n",
        "a = int(sys.stdin.readline())%42\n",
        "b = int(sys.stdin.readline())%42\n",
        "c = int(sys.stdin.readline())%42\n",
        "d = int(sys.stdin.readline())%42\n",
        "e = int(sys.stdin.readline())%42\n",
        "f = int(sys.stdin.readline())%42\n",
        "g = int(sys.stdin.readline())%42\n",
        "h = int(sys.stdin.readline())%42\n",
        "i = int(sys.stdin.readline())%42\n",
        "j = int(sys.stdin.readline())%42\n",
        "\n",
        "t = set([a,b,c,d,e,f,g,h,i,j])#set를 이용해 중복된 리스트내 숫자 제거\n",
        "print(len(t))#길이를 통해 내부에 있는 숫자 갯수 측정\n",
        "\n"
      ],
      "execution_count": 38,
      "outputs": [
        {
          "output_type": "stream",
          "text": [
            "2\n"
          ],
          "name": "stdout"
        }
      ]
    },
    {
      "cell_type": "code",
      "metadata": {
        "colab": {
          "base_uri": "https://localhost:8080/"
        },
        "id": "M1sIQoWvsq0U",
        "outputId": "bed1e765-3aea-409c-b191-55c7dec3c9e7"
      },
      "source": [
        "#세준이는 기말고사를 망쳤다. 세준이는 점수를 조작해서 집에 가져가기로 했다. 일단 세준이는 자기 점수 중에 최댓값을 골랐다. 이 값을 M이라고 한다. 그리고 나서 모든 점수를 점수/M*100으로 고쳤다.\n",
        "#예를 들어, 세준이의 최고점이 70이고, 수학점수가 50이었으면 수학점수는 50/70*100이 되어 71.43점이 된다.\n",
        "#세준이의 성적을 위의 방법대로 새로 계산했을 때, 새로운 평균을 구하는 프로그램을 작성하시오.\n",
        "\n",
        "import sys\n",
        "\n",
        "t = int(sys.stdin.readline())\n",
        "a = list(map(int, sys.stdin.readline().split()))#리스트화\n",
        "j = []\n",
        "\n",
        "for i in a:\n",
        "    k = max(a)#리스트중 가장 큰 숫자 구하기\n",
        "    u = i / k * 100#조작을 가하고\n",
        "    j.append(u)#새로운 리스트로 만들기\n",
        "print(sum(j)/t)#평균 구하기\n"
      ],
      "execution_count": 5,
      "outputs": [
        {
          "output_type": "stream",
          "text": [
            "79.16666666666667\n"
          ],
          "name": "stdout"
        }
      ]
    },
    {
      "cell_type": "code",
      "metadata": {
        "id": "HnLPgEjUho0H"
      },
      "source": [
        "#\"OOXXOXXOOO\"와 같은 OX퀴즈의 결과가 있다. O는 문제를 맞은 것이고, X는 문제를 틀린 것이다. 문제를 맞은 경우 그 문제의 점수는 그 문제까지 연속된 O의 개수가 된다. 예를 들어, 10번 문제의 점수는 3이 된다.\n",
        "#\"OOXXOXXOOO\"의 점수는 1+2+0+0+1+0+0+1+2+3 = 10점이다.\n",
        "#OX퀴즈의 결과가 주어졌을 때, 점수를 구하는 프로그램을 작성하시오.\n",
        "a = int(input())\n",
        "for i in range(a):\n",
        "    b = input()\n",
        "    s = list(b)\n",
        "    sum = 0\n",
        "    c = 1\n",
        "    for i in s:\n",
        "        if i == 'O':\n",
        "            sum += c\n",
        "            c += 1\n",
        "        else:\n",
        "            c = 1\n",
        "    print(sum)\n",
        "\n",
        "#못풀었습니다ㅜㅜ\n",
        "      \n",
        "\n",
        "\n",
        "\n",
        "\n"
      ],
      "execution_count": null,
      "outputs": []
    },
    {
      "cell_type": "code",
      "metadata": {
        "colab": {
          "base_uri": "https://localhost:8080/"
        },
        "id": "rFqy3Jtil8Y-",
        "outputId": "e3468e02-6f99-483c-9aca-f3ef4dd88ba6"
      },
      "source": [
        "#대학생 새내기들의 90%는 자신이 반에서 평균은 넘는다고 생각한다. 당신은 그들에게 슬픈 진실을 알려줘야 한다.\n",
        "import sys\n",
        "\n",
        "t = int(sys.stdin.readline())\n",
        "\n",
        "for _ in range(t):\n",
        "  count = 0\n",
        "  a = list(map(int, sys.stdin.readline().split()))\n",
        "  j = sum(a[1:])/a[0]\n",
        "  for i in a[1:]:\n",
        "    if i>j:\n",
        "      count += 1\n",
        "  r = count/a[0]*100\n",
        "  print(f'{r:.3f}%')\n"
      ],
      "execution_count": 51,
      "outputs": [
        {
          "output_type": "stream",
          "text": [
            "50.0%\n"
          ],
          "name": "stdout"
        }
      ]
    },
    {
      "cell_type": "code",
      "metadata": {
        "id": "SJX_Cpcy_-dn"
      },
      "source": [
        "#Python 2, Python 3, PyPy, PyPy3: def solve(a: list) -> int\n",
        "#a: 합을 구해야 하는 정수 n개가 저장되어 있는 리스트 (0 ≤ a[i] ≤ 1,000,000, 1 ≤ n ≤ 3,000,000)\n",
        "#리턴값: a에 포함되어 있는 정수 n개의 합 (정수)\n",
        "\n",
        "def solve(a):\n",
        "    b = sum(a)\n",
        "    return b\n"
      ],
      "execution_count": null,
      "outputs": []
    },
    {
      "cell_type": "code",
      "metadata": {
        "colab": {
          "base_uri": "https://localhost:8080/"
        },
        "id": "UvzUCuc4DqW4",
        "outputId": "c0e1a058-b561-44f9-f40f-a0371344921f"
      },
      "source": [
        "#셀프넘버\n",
        "\n",
        "def d(n):\n",
        "  n = n + sum(map(int,str(n)))\n",
        "  return n\n",
        "\n",
        "a = []\n",
        "for i in range(10000):\n",
        "  a.append(d(i))\n",
        "\n",
        "for u in range(1,10001):\n",
        "  if u not in a:\n",
        "    print(u) \n"
      ],
      "execution_count": 56,
      "outputs": [
        {
          "output_type": "stream",
          "text": [
            "0\n",
            "1\n",
            "2\n",
            "3\n",
            "4\n",
            "5\n",
            "6\n",
            "7\n",
            "8\n",
            "9\n"
          ],
          "name": "stdout"
        }
      ]
    },
    {
      "cell_type": "code",
      "metadata": {
        "id": "-2Q4fIfdKgjZ"
      },
      "source": [
        "#"
      ],
      "execution_count": null,
      "outputs": []
    }
  ]
}