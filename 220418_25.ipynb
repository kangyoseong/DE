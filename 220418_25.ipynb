{
  "nbformat": 4,
  "nbformat_minor": 0,
  "metadata": {
    "colab": {
      "name": "Untitled46.ipynb",
      "provenance": [],
      "authorship_tag": "ABX9TyNahG/go9QwCEptOuuJetuQ",
      "include_colab_link": true
    },
    "kernelspec": {
      "name": "python3",
      "display_name": "Python 3"
    },
    "language_info": {
      "name": "python"
    }
  },
  "cells": [
    {
      "cell_type": "markdown",
      "metadata": {
        "id": "view-in-github",
        "colab_type": "text"
      },
      "source": [
        "<a href=\"https://colab.research.google.com/github/kangyoseong/DE/blob/main/220418_25.ipynb\" target=\"_parent\"><img src=\"https://colab.research.google.com/assets/colab-badge.svg\" alt=\"Open In Colab\"/></a>"
      ]
    },
    {
      "cell_type": "markdown",
      "source": [
        "11050번\n",
        "\n",
        "자연수 \\(N\\)과 정수 \\(K\\)가 주어졌을 때 이항 계수 \n",
        "\\(\\binom{N}{K}\\)를 구하는 프로그램을 작성하시오."
      ],
      "metadata": {
        "id": "zM4v_PhNP3sM"
      }
    },
    {
      "cell_type": "code",
      "source": [
        "import math\n",
        "\n",
        "n, k =  map(int,input().split())\n",
        "print(int(math.factorial(n)/math.factorial(k)/math.factorial(n-k)))"
      ],
      "metadata": {
        "id": "c8vu14PRv5Nd"
      },
      "execution_count": null,
      "outputs": []
    },
    {
      "cell_type": "markdown",
      "source": [
        "1259번\n",
        "\n",
        "어떤 단어를 뒤에서부터 읽어도 똑같다면 그 단어를 팰린드롬이라고 한다. 'radar', 'sees'는 팰린드롬이다.\n",
        "\n",
        "수도 팰린드롬으로 취급할 수 있다. 수의 숫자들을 뒤에서부터 읽어도 같다면 그 수는 팰린드롬수다. 121, 12421 등은 팰린드롬수다. 123, 1231은 뒤에서부터 읽으면 다르므로 팰린드롬수가 아니다. 또한 10도 팰린드롬수가 아닌데, 앞에 무의미한 0이 올 수 있다면 010이 되어 팰린드롬수로 취급할 수도 있지만, 특별히 이번 문제에서는 무의미한 0이 앞에 올 수 없다고 하자."
      ],
      "metadata": {
        "id": "fyEWpuHNRZXZ"
      }
    },
    {
      "cell_type": "code",
      "source": [
        "while True:\n",
        "  a = input()\n",
        "  if a == '0':\n",
        "    break\n",
        "  b = a[::-1]\n",
        "  if a == b:\n",
        "    print('yes')\n",
        "  else:\n",
        "    print('no')\n"
      ],
      "metadata": {
        "id": "vrk5iKydSrN2"
      },
      "execution_count": null,
      "outputs": []
    },
    {
      "cell_type": "markdown",
      "source": [
        "1977번\n",
        "\n",
        "M과 N이 주어질 때 M이상 N이하의 자연수 중 완전제곱수인 것을 모두 골라 그 합을 구하고 그 중 최솟값을 찾는 프로그램을 작성하시오. 예를 들어 M=60, N=100인 경우 60이상 100이하의 자연수 중 완전제곱수는 64, 81, 100 이렇게 총 3개가 있으므로 그 합은 245가 되고 이 중 최솟값은 64가 된다."
      ],
      "metadata": {
        "id": "7LbBlaR8qMjS"
      }
    },
    {
      "cell_type": "code",
      "source": [
        "a = int(input())\n",
        "b = int(input())\n",
        "\n",
        "z = []\n",
        "p = []\n",
        "\n",
        "for i in range(1,101):\n",
        "  z.append(i**2)\n",
        "\n",
        "for i in z:\n",
        "  if a <= i <=b:\n",
        "    p.append(i)\n",
        "\n",
        "if len(p)==0:\n",
        "  print(-1)\n",
        "else:\n",
        "  print(sum(p))\n",
        "  print(min(p))\n",
        "\n"
      ],
      "metadata": {
        "id": "fZdb3d29qSrm"
      },
      "execution_count": null,
      "outputs": []
    },
    {
      "cell_type": "markdown",
      "source": [
        "10988번\n",
        "\n",
        "알파벳 소문자로만 이루어진 단어가 주어진다. 이때, 이 단어가 팰린드롬인지 아닌지 확인하는 프로그램을 작성하시오.\n",
        "\n",
        "팰린드롬이란 앞으로 읽을 때와 거꾸로 읽을 때 똑같은 단어를 말한다. \n",
        "\n",
        "level, noon은 팰린드롬이고, baekjoon, online, judge는 팰린드롬이 아니다."
      ],
      "metadata": {
        "id": "Mzjbu2UAuolE"
      }
    },
    {
      "cell_type": "code",
      "source": [
        "a = input()\n",
        "b = a[::-1]\n",
        "\n",
        "if a == b:\n",
        "  print(1)\n",
        "else:\n",
        "  print(0)"
      ],
      "metadata": {
        "colab": {
          "base_uri": "https://localhost:8080/"
        },
        "id": "BA9bVo6Zuo4D",
        "outputId": "5822175e-54e6-48df-bb88-c47f7dc801a1"
      },
      "execution_count": 18,
      "outputs": [
        {
          "output_type": "stream",
          "name": "stdout",
          "text": [
            "dor\n",
            "-1\n"
          ]
        }
      ]
    }
  ]
}