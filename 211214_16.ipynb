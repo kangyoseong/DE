{
  "nbformat": 4,
  "nbformat_minor": 0,
  "metadata": {
    "colab": {
      "name": "Untitled33.ipynb",
      "provenance": [],
      "authorship_tag": "ABX9TyOtVoDjLbXi/OfYDJjbFcxq",
      "include_colab_link": true
    },
    "kernelspec": {
      "name": "python3",
      "display_name": "Python 3"
    },
    "language_info": {
      "name": "python"
    }
  },
  "cells": [
    {
      "cell_type": "markdown",
      "metadata": {
        "id": "view-in-github",
        "colab_type": "text"
      },
      "source": [
        "<a href=\"https://colab.research.google.com/github/kangyoseong/DE/blob/main/211214_16.ipynb\" target=\"_parent\"><img src=\"https://colab.research.google.com/assets/colab-badge.svg\" alt=\"Open In Colab\"/></a>"
      ]
    },
    {
      "cell_type": "markdown",
      "source": [
        "10448번\n",
        "\n",
        "삼각수 Tn(n ≥ 1)는 [그림]에서와 같이 기하학적으로 일정한 모양의 규칙을 갖는 점들의 모음으로 표현될 수 있다.\n",
        "\n",
        "\n",
        "\n",
        "[그림]\n",
        "\n",
        "자연수 n에 대해 n ≥ 1의 삼각수 Tn는 명백한 공식이 있다.\n",
        "\n",
        "Tn = 1 + 2 + 3 + ... + n = n(n+1)/2\n",
        "\n",
        "1796년, 가우스는 모든 자연수가 최대 3개의 삼각수의 합으로 표현될 수 있다고 증명하였다. 예를 들어,\n",
        "\n",
        "4 = T1 + T2\n",
        "5 = T1 + T1 + T2\n",
        "6 = T2 + T2 or 6 = T3\n",
        "10 = T1 + T2 + T3 or 10 = T4\n",
        "이 결과는 증명을 기념하기 위해 그의 다이어리에 “Eureka! num = Δ + Δ + Δ” 라고 적은것에서 유레카 이론으로 알려졌다. 꿍은 몇몇 자연수가 정확히 3개의 삼각수의 합으로 표현될 수 있는지 궁금해졌다. 위의 예시에서, 5와 10은 정확히 3개의 삼각수의 합으로 표현될 수 있지만 4와 6은 그렇지 않다.\n",
        "\n",
        "자연수가 주어졌을 때, 그 정수가 정확히 3개의 삼각수의 합으로 표현될 수 있는지 없는지를 판단해주는 프로그램을 만들어라. 단, 3개의 삼각수가 모두 달라야 할 필요는 없다.\n"
      ],
      "metadata": {
        "id": "M109PKPbiUIM"
      }
    },
    {
      "cell_type": "code",
      "source": [
        "#내거 작동은 하는데 시간이 너무 오래걸려서 탈락 \n",
        "t = int(input())\n",
        "z = []\n",
        "for n in range(1,46):\n",
        "  n1 = int(n*(n+1)/2)\n",
        "  z.append(n1)\n",
        "\n",
        "for _ in range(t):\n",
        "  k =  int(input())\n",
        "  l = []\n",
        "  for i in z:\n",
        "    for u in z:\n",
        "      for o in z:\n",
        "        if i + u + o ==k:\n",
        "          l.append(1)\n",
        "  if len(l)==0:\n",
        "    print(0)\n",
        "  else:\n",
        "    print(1)\n",
        "  \n"
      ],
      "metadata": {
        "id": "5kWVwJW_jNY2"
      },
      "execution_count": null,
      "outputs": []
    },
    {
      "cell_type": "code",
      "source": [
        "#위에거 수정, 미리 리스트를 다 만들어놓고 숫자만 맞추는 형태로 바꿈\n",
        "\n",
        "t = int(input())\n",
        "z = [1,3,6,10,15,21,28,36,45,55,66,78,91,105,120,136,153,171,190,210,231,253,276,300,325,351,378,406,435,465,496,528,561,595,630,666,703,741,780,820,861,903,946,990]\n",
        "l = []\n",
        "for i in z:\n",
        "  for u in z:\n",
        "    for o in z:\n",
        "      if i+o+u<= 1000:\n",
        "          l.append(i+o+u)\n",
        "\n",
        "for _ in range(t):\n",
        "  k = int(input())\n",
        "  if k in l:\n",
        "    print(1)\n",
        "  else:\n",
        "    print(0)"
      ],
      "metadata": {
        "id": "io9_AODmuJyR"
      },
      "execution_count": null,
      "outputs": []
    },
    {
      "cell_type": "code",
      "source": [
        "#남의거\n",
        "\n",
        "triangle = [n*(n+1)//2 for n in range(1, 46)]\n",
        "eureka = [0] * 1001\n",
        "\n",
        "#미리 1000이하의 모든 유레카 수를 구한다\n",
        "for i in triangle:\n",
        "    for j in triangle:\n",
        "        for k in triangle:\n",
        "            if i+j+k <= 1000:\n",
        "                eureka[i+j+k] = 1\n",
        "\n",
        "T = int(input())\n",
        "for _ in range(T):\n",
        "    print(eureka[int(input())])"
      ],
      "metadata": {
        "id": "RJ8g60Cbt9Rn"
      },
      "execution_count": null,
      "outputs": []
    },
    {
      "cell_type": "markdown",
      "source": [
        "10995번\n",
        "\n",
        "예제를 보고 규칙을 유추한 뒤에 별을 찍어 보세요."
      ],
      "metadata": {
        "id": "l2_dSfrHxEe0"
      }
    },
    {
      "cell_type": "code",
      "source": [
        "#아예 봣음 완전 모르겠음\n",
        "\n",
        "a = int(input())\n",
        "b = a \n",
        "for i in range(a):\n",
        "  if i%2==0:\n",
        "    print('* '*b)\n",
        "  elif i%2==1:\n",
        "    print(' *'*b)"
      ],
      "metadata": {
        "id": "sOazlQA62rgU"
      },
      "execution_count": null,
      "outputs": []
    },
    {
      "cell_type": "markdown",
      "source": [
        "11365번\n",
        "\n",
        "당신은 길을 가다가 이상한 쪽지를 발견했다. 그 쪽지에는 암호가 적혀 있었는데, 똑똑한 당신은 암호가 뒤집으면 해독된다는 것을 발견했다.\n",
        "\n",
        "이 암호를 해독하는 프로그램을 작성하시오."
      ],
      "metadata": {
        "id": "3sgsioUZ3NWV"
      }
    },
    {
      "cell_type": "code",
      "source": [
        "#내거\n",
        "while 1:\n",
        "  n = input()\n",
        "  if n=='END':\n",
        "    break\n",
        "  print(n[::-1])"
      ],
      "metadata": {
        "id": "xuXz9yej3Z8p"
      },
      "execution_count": null,
      "outputs": []
    },
    {
      "cell_type": "markdown",
      "source": [
        "2744번\n",
        "\n",
        "영어 소문자와 대문자로 이루어진 단어를 입력받은 뒤, 대문자는 소문자로, 소문자는 대문자로 바꾸어 출력하는 프로그램을 작성하시오."
      ],
      "metadata": {
        "id": "iD4K2e1E5C-b"
      }
    },
    {
      "cell_type": "code",
      "source": [
        "#내거\n",
        "for i in input():\n",
        "  if 97 <= ord(i) <=122:\n",
        "    print(i.upper(),end='')\n",
        "  else:\n",
        "    print(i.lower(),end='')"
      ],
      "metadata": {
        "id": "ZUStl-Eg5JSG"
      },
      "execution_count": null,
      "outputs": []
    },
    {
      "cell_type": "code",
      "source": [
        "#다른 사람거\n",
        "word = list(str(input()))\n",
        "answer = []\n",
        "\n",
        "for character in word:\n",
        "    if character in 'abcdefghijklmnopqrstuvwxyz':\n",
        "        answer.append(character.upper())\n",
        "    else:\n",
        "        answer.append(character.lower())\n",
        "\n",
        "for character in answer:\n",
        "    print(character, end = '')"
      ],
      "metadata": {
        "id": "sQs0ViI76kh7"
      },
      "execution_count": null,
      "outputs": []
    },
    {
      "cell_type": "code",
      "source": [
        "#더 짧은 것\n",
        "a = input()\n",
        "print(a.swapcase())"
      ],
      "metadata": {
        "id": "tbEzUzVi6r2p"
      },
      "execution_count": null,
      "outputs": []
    },
    {
      "cell_type": "markdown",
      "source": [
        "2864번\n",
        "\n",
        "상근이는 2863번에서 표를 너무 열심히 돌린 나머지 5와 6을 헷갈리기 시작했다.\n",
        "\n",
        "상근이가 숫자 5를 볼 때, 5로 볼 때도 있지만, 6으로 잘못 볼 수도 있고, 6을 볼 때는, 6으로 볼 때도 있지만, 5로 잘못 볼 수도 있다.\n",
        "\n",
        "두 수 A와 B가 주어졌을 때, 상근이는 이 두 수를 더하려고 한다. 이때, 상근이가 구할 수 있는 두 수의 가능한 합 중, 최솟값과 최댓값을 구해 출력하는 프로그램을 작성하시오."
      ],
      "metadata": {
        "id": "7tBjGiGp6_vR"
      }
    },
    {
      "cell_type": "code",
      "source": [
        "#내거\n",
        "a, b = input().split()\n",
        "print(int(a.replace('6','5'))+int(b.replace('6','5')), end = ' ')\n",
        "print(int(a.replace('5','6'))+int(b.replace('5','6')))"
      ],
      "metadata": {
        "id": "6-xD7eFf8VIM"
      },
      "execution_count": null,
      "outputs": []
    }
  ]
}