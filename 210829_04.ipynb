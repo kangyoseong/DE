{
  "nbformat": 4,
  "nbformat_minor": 0,
  "metadata": {
    "colab": {
      "name": "Untitled14.ipynb",
      "provenance": [],
      "authorship_tag": "ABX9TyPXsNdL2NFJp/hoSkfQL+wJ",
      "include_colab_link": true
    },
    "kernelspec": {
      "name": "python3",
      "display_name": "Python 3"
    },
    "language_info": {
      "name": "python"
    }
  },
  "cells": [
    {
      "cell_type": "markdown",
      "metadata": {
        "id": "view-in-github",
        "colab_type": "text"
      },
      "source": [
        "<a href=\"https://colab.research.google.com/github/kangyoseong/DE/blob/main/210829_04.ipynb\" target=\"_parent\"><img src=\"https://colab.research.google.com/assets/colab-badge.svg\" alt=\"Open In Colab\"/></a>"
      ]
    },
    {
      "cell_type": "code",
      "metadata": {
        "id": "jGDNvj8PUgSF"
      },
      "source": [
        "#11654번 알파벳 소문자, 대문자, 숫자 0-9중 하나가 주어졌을 때, 주어진 글자의 아스키 코드값을 출력하는 프로그램을 작성하시오.\n",
        "\n",
        "t = input()\n",
        "print(ord(t))#아스키코드로 출력해주는 함수 처음봤지만 그렇구나 하고 넘어가자"
      ],
      "execution_count": null,
      "outputs": []
    },
    {
      "cell_type": "code",
      "metadata": {
        "id": "xlIiHoD8XZoE"
      },
      "source": [
        "#11720번 N개의 숫자가 공백 없이 쓰여있다. 이 숫자를 모두 합해서 출력하는 프로그램을 작성하시오.\n",
        "\n",
        "t = int(input())#첫째줄에 있는 숫자를 넣어줘서 둘째줄에 있는 숫자가 몇개나 되는지 파악\n",
        "a = input()#둘째줄에 있는 숫자 넣기\n",
        "j = []#빈 껍대기 리스트부터 만들어준다.\n",
        "\n",
        "for i in range(t):\n",
        "    j.append(int(a[i]))#문자열 슬라이싱을 이용해서 숫자를 하나하나 분리해주고 리스트화 해주기 \n",
        "\n",
        "print(sum(j))#전체 더하기"
      ],
      "execution_count": null,
      "outputs": []
    },
    {
      "cell_type": "code",
      "metadata": {
        "id": "PJHwY1kxb34l"
      },
      "source": [
        "#10809번 알파벳 소문자로만 이루어진 단어 S가 주어진다. 각각의 알파벳에 대해서, 단어에 포함되어 있는 경우에는 처음 등장하는 위치를, 포함되어 있지 않은 경우에는 -1을 출력하는 프로그램을 작성하시오.\n",
        "\n",
        "t = input()\n",
        "ks = ['a','b','c','d','e','f','g','h','i','j','k','l','m','n','o','p','q','r','s','t','u','v','w','x','y','z']#알파벳을 다 써준다\n",
        "ys = []\n",
        "for i in range(len(t)):\n",
        "  ys.append(t[i])#첫째줄에 입력된 값을 리스트화 한다.\n",
        "for i in ks:\n",
        "  if i in ys:\n",
        "    print(ys.index(i), end=' ')#알파벳을 출력하는데 첫째줄 값이 포함되어 있다면 그 순번에 맞는 번호를 출력해준다.\n",
        "  else:\n",
        "    print(-1, end=' ')#그 이외에는 -1만을 출력한다."
      ],
      "execution_count": null,
      "outputs": []
    },
    {
      "cell_type": "code",
      "metadata": {
        "colab": {
          "base_uri": "https://localhost:8080/"
        },
        "id": "ChvRJ6wmmmGc",
        "outputId": "bb46be1a-4e2a-4dcd-d895-b66e095f1d05"
      },
      "source": [
        "#2675번 문자열 S를 입력받은 후에, 각 문자를 R번 반복해 새 문자열 P를 만든 후 출력하는 프로그램을 작성하시오.\n",
        "\n",
        "t = int(input())#첫째줄 전체 몇번 반복할지 입력\n",
        "\n",
        "for i in range(t):\n",
        "  a,b = input().split()#둘째줄 부터 값 입력 a는 그 줄에서 몇번 반복할지 정하고, b는 문자입력\n",
        "  a = int(a)#위에서 int로 만드는 법을 몰라서 밑으로 내림\n",
        "  j = []\n",
        "  for k in range(len(b)):\n",
        "    j.append(b[k])#b의 값들을 리스트의 한개 한개 값으로 만들기\n",
        "    print(a*j[k],end='')#이런 모양이어야지 aaabbbccc 이렇게 나옴\n",
        "  print()#둘째줄이 입력이 끝나고 셋째줄에 값들이 프린트 되기 위해 이부분이 꼭 필요(찾는데 30분 걸림 ㅜㅜ)"
      ],
      "execution_count": 90,
      "outputs": [
        {
          "output_type": "stream",
          "text": [
            "2\n",
            "3 abc\n",
            "aaabbbccc\n",
            "5 /http\n",
            "/////hhhhhttttttttttppppp\n"
          ],
          "name": "stdout"
        }
      ]
    },
    {
      "cell_type": "code",
      "metadata": {
        "colab": {
          "base_uri": "https://localhost:8080/"
        },
        "id": "UvkSL6K-psJP",
        "outputId": "1453c37e-e4a2-4827-c2c8-e0f06e69fab6"
      },
      "source": [
        "#1157번 알파벳 대소문자로 된 단어가 주어지면, 이 단어에서 가장 많이 사용된 알파벳이 무엇인지 알아내는 프로그램을 작성하시오. 단, 대문자와 소문자를 구분하지 않는다.\n",
        "\n",
        "from collections import Counter\n",
        "k = input()\n",
        "k = k.lower()#대문자가 안들어가게 전체문자를 소문자로 변경\n",
        "j=[]\n",
        "for i in range(len(k)):\n",
        "    j.append(k[i])#알파벳 하나하나 쪼개주기\n",
        "p = Counter(j)#카운터함수 이용해 딕셔너리 형태로 알파벳 세어주기\n",
        "u = p.most_common(2)#2번째로 많은 요소까지 세어주기\n",
        "if len(u)==1:#한개의 요소만 입력될 경우 에러가 나서 이 구절을 넣어줌\n",
        "  print(u[0][0].upper())\n",
        "elif u[0][1] == u[1][1]: #제일 많은 요소와 그 다음 많은 요소가 같으면 '?' 출력\n",
        "  print('?')\n",
        "else:\n",
        "  print(u[0][0].upper())#그렇지 않은 경우 제일 많은 요소 출력\n"
      ],
      "execution_count": 177,
      "outputs": [
        {
          "output_type": "stream",
          "text": [
            "z\n",
            "Z\n"
          ],
          "name": "stdout"
        }
      ]
    },
    {
      "cell_type": "code",
      "metadata": {
        "colab": {
          "base_uri": "https://localhost:8080/"
        },
        "id": "AE1ikRAg2WoG",
        "outputId": "9259e7a8-6ce7-4142-b454-fdc8ee70979f"
      },
      "source": [
        "#1152번 영어 대소문자와 띄어쓰기만으로 이루어진 문자열이 주어진다. 이 문자열에는 몇 개의 단어가 있을까? 이를 구하는 프로그램을 작성하시오. 단, 한 단어가 여러 번 등장하면 등장한 횟수만큼 모두 세어야 한다.\n",
        "\n",
        "t = input().split()\n",
        "len(t)"
      ],
      "execution_count": 184,
      "outputs": [
        {
          "output_type": "stream",
          "text": [
            " Mazatneunde Wae Teullyeoyo\n"
          ],
          "name": "stdout"
        },
        {
          "output_type": "execute_result",
          "data": {
            "text/plain": [
              "3"
            ]
          },
          "metadata": {},
          "execution_count": 184
        }
      ]
    },
    {
      "cell_type": "code",
      "metadata": {
        "colab": {
          "base_uri": "https://localhost:8080/"
        },
        "id": "NGdqbxQ5CHAT",
        "outputId": "e0b6f855-d858-4329-846d-adae7996e6e8"
      },
      "source": [
        "\"\"\"\n",
        "2908번 상근이의 동생 상수는 수학을 정말 못한다. 상수는 숫자를 읽는데 문제가 있다. 이렇게 수학을 못하는 상수를 위해서 상근이는 수의 크기를 비교하는 문제를 내주었다. 상근이는 세 자리 수 두 개를 칠판에 써주었다. 그 다음에 크기가 큰 수를 말해보라고 했다.\n",
        "상수는 수를 다른 사람과 다르게 거꾸로 읽는다. 예를 들어, 734와 893을 칠판에 적었다면, 상수는 이 수를 437과 398로 읽는다. 따라서, 상수는 두 수중 큰 수인 437을 큰 수라고 말할 것이다.\n",
        "두 수가 주어졌을 때, 상수의 대답을 출력하는 프로그램을 작성하시오.\n",
        "\"\"\"\n",
        "\n",
        "a,b = input().split()\n",
        "print(max(int(a[::-1]),int(b[::-1])))"
      ],
      "execution_count": 203,
      "outputs": [
        {
          "output_type": "stream",
          "text": [
            "839 237\n",
            "938\n"
          ],
          "name": "stdout"
        }
      ]
    },
    {
      "cell_type": "markdown",
      "metadata": {
        "id": "big0LmmzFJwi"
      },
      "source": [
        "###5622번###\n",
        "상근이의 할머니는 아래 그림과 같이 오래된 다이얼 전화기를 사용한다.\n",
        "\n",
        "\n",
        "\n",
        "전화를 걸고 싶은 번호가 있다면, 숫자를 하나를 누른 다음에 금속 핀이 있는 곳 까지 시계방향으로 돌려야 한다. 숫자를 하나 누르면 다이얼이 처음 위치로 돌아가고, 다음 숫자를 누르려면 다이얼을 처음 위치에서 다시 돌려야 한다.\n",
        "\n",
        "숫자 1을 걸려면 총 2초가 필요하다. 1보다 큰 수를 거는데 걸리는 시간은 이보다 더 걸리며, 한 칸 옆에 있는 숫자를 걸기 위해선 1초씩 더 걸린다.\n",
        "\n",
        "상근이의 할머니는 전화 번호를 각 숫자에 해당하는 문자로 외운다. 즉, 어떤 단어를 걸 때, 각 알파벳에 해당하는 숫자를 걸면 된다. 예를 들어, UNUCIC는 868242와 같다.\n",
        "\n",
        "할머니가 외운 단어가 주어졌을 때, 이 전화를 걸기 위해서 필요한 최소 시간을 구하는 프로그램을 작성하시오."
      ]
    },
    {
      "cell_type": "code",
      "metadata": {
        "colab": {
          "base_uri": "https://localhost:8080/"
        },
        "id": "J8-FIiheEfGC",
        "outputId": "c7684dd6-8b37-4da3-9a6e-9fe943bb858f"
      },
      "source": [
        "dict = {'A':3,'B':3,'C':3, 'D':4,'E':4,'F':4, 'G':5,'H':5,'I':5, 'J':6,'K':6,'L':6, 'M':7,'N':7,'O':7, 'P':8,'Q':8,'R':8,'S':8, 'T':9,'U':9,'V':9, 'W':10,'X':10,'Y':10,'Z':10}\n",
        "#무식하게 딕셔너리 형태로 알파벳과 숫자를 매칭해준다.\n",
        "t = input()\n",
        "nums = 0\n",
        "for i in t:\n",
        "  nums += dict[i]#매칭된 넘버들을 더한다.\n",
        "print(nums)"
      ],
      "execution_count": 243,
      "outputs": [
        {
          "output_type": "stream",
          "text": [
            "UNUCIC\n",
            "36\n"
          ],
          "name": "stdout"
        }
      ]
    },
    {
      "cell_type": "markdown",
      "metadata": {
        "id": "dQLB5YvVOS4S"
      },
      "source": [
        "###2941번###\n",
        "예전에는 운영체제에서 크로아티아 알파벳을 입력할 수가 없었다. 따라서, 다음과 같이 크로아티아 알파벳을 변경해서 입력했다.\n",
        "\n",
        "크로아티아 알파벳\t변경\n",
        "č\tc=\n",
        "ć\tc-\n",
        "dž\tdz=\n",
        "đ\td-\n",
        "lj\tlj\n",
        "nj\tnj\n",
        "š\ts=\n",
        "ž\tz=\n",
        "예를 들어, ljes=njak은 크로아티아 알파벳 6개(lj, e, š, nj, a, k)로 이루어져 있다. 단어가 주어졌을 때, 몇 개의 크로아티아 알파벳으로 이루어져 있는지 출력한다.\n",
        "\n",
        "dž는 무조건 하나의 알파벳으로 쓰이고, d와 ž가 분리된 것으로 보지 않는다. lj와 nj도 마찬가지이다. 위 목록에 없는 알파벳은 한 글자씩 센다."
      ]
    },
    {
      "cell_type": "code",
      "metadata": {
        "colab": {
          "base_uri": "https://localhost:8080/"
        },
        "id": "UMXVWvS-IYdV",
        "outputId": "a1ddbbe1-e357-4f65-eaaf-96afd5d7af34"
      },
      "source": [
        "t = input()\n",
        "new = ['c=','c-','dz=','d-','lj','nj','s=','z=']#크로아티아 문자모음\n",
        "nums = 0\n",
        "for i in new:\n",
        "  nums += t.count(i)#크로아티아 문자는 몇번 나왔는지 파악\n",
        "print(len(t)-nums)#전체 문자열에서 크로아티아 문자가 나온 횟수만큼 제외  \n"
      ],
      "execution_count": 252,
      "outputs": [
        {
          "output_type": "stream",
          "text": [
            "c=c=\n",
            "2\n"
          ],
          "name": "stdout"
        }
      ]
    },
    {
      "cell_type": "markdown",
      "metadata": {
        "id": "2jIBnuG-UGkR"
      },
      "source": [
        "###1316번###\n",
        "그룹 단어란 단어에 존재하는 모든 문자에 대해서, 각 문자가 연속해서 나타나는 경우만을 말한다. 예를 들면, ccazzzzbb는 c, a, z, b가 모두 연속해서 나타나고, kin도 k, i, n이 연속해서 나타나기 때문에 그룹 단어이지만, aabbbccb는 b가 떨어져서 나타나기 때문에 그룹 단어가 아니다.\n",
        "\n",
        "단어 N개를 입력으로 받아 그룹 단어의 개수를 출력하는 프로그램을 작성하시오."
      ]
    },
    {
      "cell_type": "code",
      "metadata": {
        "colab": {
          "base_uri": "https://localhost:8080/"
        },
        "id": "6ZPGbLgwRNiI",
        "outputId": "bcd58227-c2bc-4224-926f-6cfa26c54ce8"
      },
      "source": [
        "t = int(input())\n",
        "errors = 0\n",
        "for i in range(t):\n",
        "  a = input()\n",
        "  for k in a:\n",
        "    if a.count(k)>=2 and a[a.index(k)+1]==k:\n",
        "      pass\n",
        "    else:\n",
        "      errors+=1\n",
        "      break\n",
        "  print(t-errors)\n",
        "      \n",
        "#이거는 다 못풀었어요 나중에 한번 다시 풀어볼게요~\n",
        "\n",
        "  "
      ],
      "execution_count": 289,
      "outputs": [
        {
          "output_type": "stream",
          "text": [
            "1\n",
            "book\n",
            "0\n"
          ],
          "name": "stdout"
        }
      ]
    }
  ]
}