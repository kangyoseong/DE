{
  "nbformat": 4,
  "nbformat_minor": 0,
  "metadata": {
    "colab": {
      "name": "Untitled35.ipynb",
      "provenance": [],
      "authorship_tag": "ABX9TyP30s958bhdW7dlhAWwZis5",
      "include_colab_link": true
    },
    "kernelspec": {
      "name": "python3",
      "display_name": "Python 3"
    },
    "language_info": {
      "name": "python"
    }
  },
  "cells": [
    {
      "cell_type": "markdown",
      "metadata": {
        "id": "view-in-github",
        "colab_type": "text"
      },
      "source": [
        "<a href=\"https://colab.research.google.com/github/kangyoseong/DE/blob/main/211216_18.ipynb\" target=\"_parent\"><img src=\"https://colab.research.google.com/assets/colab-badge.svg\" alt=\"Open In Colab\"/></a>"
      ]
    },
    {
      "cell_type": "markdown",
      "source": [
        "5598번\n",
        "\n",
        "가이우스 율리우스 카이사르(Gaius Julius Caesar)는 고대 로마 군인이자 정치가였다. 카이사르는 비밀스럽게 편지를 쓸 때, 'A'를 'D로', 'B'를 'E'로, 'C'를 'F'로... 이런 식으로 알파벳 문자를 3개씩 건너뛰어 적었다고 한다.\n",
        "\n",
        "26개의 대문자 알파벳으로 이루어진 단어를 카이사르 암호 형식으로 3문자를 옮겨 겹치지 않게 나열하여 얻은 카이사르 단어가 있다. 이 카이사르 단어를 원래 단어로 돌려놓는 프로그램을 작성하시오.\n",
        "\n",
        "각 문자별로 변환 전과 변환 후를 나타낸 건 아래와 같다.\n",
        "\n",
        "변환전    A B C D E F G H I J K L M N O P Q R S T U V W X Y Z \n",
        "변환후    D E F G H I J K L M N O P Q R S T U V W X Y Z A B C\n",
        "예를 들어서, 이 방법대로 단어 'JOI'를 카이사르 단어 형식으로 변환한다면 'MRL'을 얻을 수 있고, 앞의 예와 같은 방법으로 얻은 카이사르 단어 'FURDWLD'를 원래 단어로 고치면 'CROATIA'가 된다."
      ],
      "metadata": {
        "id": "_zJYJ2NG-Gok"
      }
    },
    {
      "cell_type": "code",
      "source": [
        "word = input()\n",
        "for i in word:\n",
        "  if ord(i) <= 67:\n",
        "    print(chr(ord(i)+23),end='')\n",
        "  else:\n",
        "    print(chr(ord(i)-3),end='')"
      ],
      "metadata": {
        "id": "MNeEQYse-bUS"
      },
      "execution_count": null,
      "outputs": []
    },
    {
      "cell_type": "code",
      "source": [
        "li = list(input())\n",
        "for i in range(len(li)):\n",
        "    k = ord(li[i]) - 3\n",
        "    if k < ord('A'):\n",
        "        k += 26\n",
        "    li[i] = chr(k)\n",
        "print(''.join(li))"
      ],
      "metadata": {
        "id": "BT91aiGA_qqr"
      },
      "execution_count": null,
      "outputs": []
    },
    {
      "cell_type": "markdown",
      "source": [
        "2605번\n",
        "\n",
        "점심시간이 되면 반 학생 모두가 한 줄로 줄을 서서 급식을 탄다. 그런데 매일 같이 앞자리에 앉은 학생들이 앞에 줄을 서 먼저 점심을 먹고, 뒷자리에 앉은 학생들은 뒤에 줄을 서 늦게 점심을 먹게 된다. 어떻게 하면 이러한 상황을 바꾸어 볼 수 있을까 고민하던 중 선생님이 한 가지 방법을 내 놓았다. 그 방법은 다음과 같다.\n",
        "\n",
        "학생들이 한 줄로 줄을 선 후, 첫 번째 학생부터 차례로 번호를 뽑는다. 첫 번째로 줄을 선 학생은 무조건 0번 번호를 받아 제일 앞에 줄을 선다. 두 번째로 줄을 선 학생은 0번 또는 1번 둘 중 하나의 번호를 뽑는다. 0번을 뽑으면 그 자리에 그대로 있고, 1번을 뽑으면 바로 앞의 학생 앞으로 가서 줄을 선다. 세 번째로 줄을 선 학생은 0, 1 또는 2 중 하나의 번호를 뽑는다. 그리고 뽑은 번호만큼 앞자리로 가서 줄을 선다. 마지막에 줄을 선 학생까지 이와 같은 방식으로 뽑은 번호만큼 앞으로 가서 줄을 서게 된다. 각자 뽑은 번호는 자신이 처음에 선 순서보다는 작은 수이다.\n",
        "\n",
        "예를 들어 5명의 학생이 줄을 서고, 첫 번째로 줄을 선 학생부터 다섯 번째로 줄을 선 학생까지 차례로 0, 1, 1, 3, 2번의 번호를 뽑았다고 하자, 첫 번째 학생부터 다섯 번째 학생까지 1부터 5로 표시하면 학생들이 줄을 선 순서는 다음과 같이 된다.\n",
        "\n",
        "첫 번째 학생이 번호를 뽑은 후 : 1\n",
        "두 번째 학생이 번호를 뽑은 후 : 2 1\n",
        "세 번째 학생이 번호를 뽑은 후 : 2 3 1\n",
        "네 번째 학생이 번호를 뽑은 후 : 4 2 3 1\n",
        "다섯 번째 학생이 번호를 뽑은 후 : 4 2 5 3 1\n",
        "따라서 최종적으로 학생들이 줄을 선 순서는 4, 2, 5, 3, 1이 된다.\n",
        "\n",
        "줄을 선 학생들이 차례로 뽑은 번호가 주어질 때 학생들이 최종적으로 줄을 선 순서를 출력하는 프로그램을 작성하시오."
      ],
      "metadata": {
        "id": "wz0MjBTXCxzz"
      }
    },
    {
      "cell_type": "code",
      "source": [
        "student = int(input())\n",
        "order = list(map(int,input().split()))\n",
        "ans = []\n",
        "for i in range(student):\n",
        "  ans.insert(i-order[i],i+1)\n",
        "for i in ans:\n",
        "  print(i, end = ' ')"
      ],
      "metadata": {
        "id": "LraZDiztC2u_"
      },
      "execution_count": null,
      "outputs": []
    },
    {
      "cell_type": "markdown",
      "source": [
        "2592번\n",
        "\n",
        "어떤 수들이 있을 때, 그 수들을 대표하는 값으로 가장 흔하게 쓰이는 것은 평균이다. 평균은 주어진 모든 수의 합을 수의 개수로 나눈 것이다. 예를 들어 10, 40, 30, 60, 30, 20, 60, 30, 40, 50의 평균은 (10 + 40 + 30 + 60 + 30 + 20 + 60 + 30 + 40 + 50) / 10 = 370 / 10 = 37이 된다.\n",
        "\n",
        "평균 이외의 또 다른 대표값으로 최빈값이라는 것이 있다. 최빈값은 주어진 수들 가운데 가장 많이 나타나는 수이다. 예를 들어 10, 40, 30, 60, 30, 20, 60, 30, 40, 50이 주어질 경우, 30이 세 번, 40과 60이 각각 두 번, 10, 20, 50이 각각 한 번씩 나오므로, 최빈값은 30이 된다.\n",
        "\n",
        "열 개의 자연수가 주어질 때 이들의 평균과 최빈값을 구하는 프로그램을 작성하시오."
      ],
      "metadata": {
        "id": "zR5DIQLTIkAU"
      }
    },
    {
      "cell_type": "code",
      "source": [
        "from collections import Counter\n",
        "z = []\n",
        "for _ in range(10):\n",
        "  z.append(int(input()))\n",
        "print(int(sum(z)/len(z)))\n",
        "cnt = Counter(z)\n",
        "print(cnt.most_common(1)[0][0])"
      ],
      "metadata": {
        "id": "ospKUwlkInoT"
      },
      "execution_count": null,
      "outputs": []
    },
    {
      "cell_type": "code",
      "source": [
        "numbers = [int(input()) for i in range(10)]\n",
        "print(sum(numbers)//10)\n",
        "print(max(numbers, key = numbers.count))"
      ],
      "metadata": {
        "id": "TDeCJmkhK2j-"
      },
      "execution_count": null,
      "outputs": []
    },
    {
      "cell_type": "markdown",
      "source": [
        "15969번\n",
        "\n",
        "코이 초등학교에 새로 부임하신 교장 선생님은 어린 학생들의 행복감과 학생들의 성적 차이 관계를 알아보기로 했다. 그래서 이전 성적을 조사하여 학생 들의 시험 점수 차이 변화를 알아보려고 한다.\n",
        "\n",
        "예를 들어서 2016년 학생 8명의 점수가 다음과 같다고 하자.\n",
        "\n",
        "27, 35, 92, 75, 42, 53, 29, 87\n",
        "\n",
        "그러면 가장 높은 점수는 92점이고 가장 낮은 점수는 27점이므로 점수의 최대 차이는 65이다. 한편 2017년 학생 8명의 점수가 다음과 같았다.\n",
        "\n",
        "85, 42, 79, 95, 37, 11, 72, 32\n",
        "\n",
        "이때 가장 높은 점수는 95점이고 가장 낮은 점수는 11점이므로 점수의 최대 차이는 84이다.\n",
        "\n",
        "N명 학생들의 점수가 주어졌을 때, 가장 높은 점수와 가장 낮은 점수의 차이를 구하는 프로그램을 작성하시오"
      ],
      "metadata": {
        "id": "VCtK1QgKLBBY"
      }
    },
    {
      "cell_type": "code",
      "source": [
        "input()\n",
        "z = list(map(int,input().split()))\n",
        "print(max(z)-min(z))"
      ],
      "metadata": {
        "id": "36FzczV7LEvj"
      },
      "execution_count": null,
      "outputs": []
    },
    {
      "cell_type": "markdown",
      "source": [
        "3047번\n",
        "\n",
        "세 수 A, B, C가 주어진다. A는 B보다 작고, B는 C보다 작다.\n",
        "\n",
        "세 수 A, B, C가 주어졌을 때, 입력에서 주어진 순서대로 출력하는 프로그램을 작성하시오."
      ],
      "metadata": {
        "id": "4H_Yd4PLL5BW"
      }
    },
    {
      "cell_type": "code",
      "source": [
        "z = list(map(int,input().split()))\n",
        "z.sort()\n",
        "A, B, C = z[0], z[1], z[2]\n",
        "for i in input():\n",
        "  print(globals()[i],end=' ')\n"
      ],
      "metadata": {
        "id": "sGtEV3rBL-Ay"
      },
      "execution_count": null,
      "outputs": []
    }
  ]
}