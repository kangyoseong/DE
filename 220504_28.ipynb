{
  "nbformat": 4,
  "nbformat_minor": 0,
  "metadata": {
    "colab": {
      "name": "Untitled49.ipynb",
      "provenance": [],
      "authorship_tag": "ABX9TyPVdcgQgYkZj426C2pUfvfd",
      "include_colab_link": true
    },
    "kernelspec": {
      "name": "python3",
      "display_name": "Python 3"
    },
    "language_info": {
      "name": "python"
    }
  },
  "cells": [
    {
      "cell_type": "markdown",
      "metadata": {
        "id": "view-in-github",
        "colab_type": "text"
      },
      "source": [
        "<a href=\"https://colab.research.google.com/github/kangyoseong/DE/blob/main/220504_28.ipynb\" target=\"_parent\"><img src=\"https://colab.research.google.com/assets/colab-badge.svg\" alt=\"Open In Colab\"/></a>"
      ]
    },
    {
      "cell_type": "markdown",
      "source": [
        "2740번\n",
        "\n",
        "N*M크기의 행렬 A와 M*K크기의 행렬 B가 주어졌을 때, 두 행렬을 곱하는 프로그램을 작성하시오."
      ],
      "metadata": {
        "id": "WS10ESpdoTVQ"
      }
    },
    {
      "cell_type": "code",
      "source": [
        "import numpy as np\n",
        "\n",
        "n, m = map(int, input().split( ))\n",
        "a = []\n",
        "b = []\n",
        "for _ in range(n):\n",
        "  a.append(list(map(int, input().split( ))))\n",
        "np.array(a)\n",
        "n1, m1 = map(int, input().split( ))\n",
        "\n",
        "for _ in range(n1):\n",
        "  b.append(list(map(int, input().split( ))))\n",
        "\n",
        "np.array(b)\n",
        "np.dot(a,b)\n",
        "ans = np.dot(a,b)\n",
        "ans = ans.tolist()\n",
        "for i in ans:\n",
        "  print(*i)"
      ],
      "metadata": {
        "id": "qdHi8FQUoYLB"
      },
      "execution_count": null,
      "outputs": []
    },
    {
      "cell_type": "markdown",
      "source": [
        "1357번\n",
        "\n",
        "어떤 수 X가 주어졌을 때, X의 모든 자리수가 역순이 된 수를 얻을 수 있다. Rev(X)를 X의 모든 자리수를 역순으로 만드는 함수라고 하자. 예를 들어, X=123일 때, Rev(X) = 321이다. 그리고, X=100일 때, Rev(X) = 1이다.\n",
        "\n",
        "두 양의 정수 X와 Y가 주어졌을 때, Rev(Rev(X) + Rev(Y))를 구하는 프로그램을 작성하시오"
      ],
      "metadata": {
        "id": "KB8YmtToT53q"
      }
    },
    {
      "cell_type": "code",
      "source": [
        "x, y = input().split( )\n",
        "print(int(str(int(x[::-1]) + int(y[::-1]))[::-1]))"
      ],
      "metadata": {
        "id": "u5EI8GohT9VA"
      },
      "execution_count": null,
      "outputs": []
    }
  ]
}