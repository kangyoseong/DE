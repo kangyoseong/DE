{
  "nbformat": 4,
  "nbformat_minor": 0,
  "metadata": {
    "colab": {
      "name": "Untitled29.ipynb",
      "provenance": [],
      "authorship_tag": "ABX9TyPNCZ/WfMDv0hOJ4hkHPuvZ",
      "include_colab_link": true
    },
    "kernelspec": {
      "name": "python3",
      "display_name": "Python 3"
    },
    "language_info": {
      "name": "python"
    }
  },
  "cells": [
    {
      "cell_type": "markdown",
      "metadata": {
        "id": "view-in-github",
        "colab_type": "text"
      },
      "source": [
        "<a href=\"https://colab.research.google.com/github/kangyoseong/DE/blob/main/211208-12.ipynb\" target=\"_parent\"><img src=\"https://colab.research.google.com/assets/colab-badge.svg\" alt=\"Open In Colab\"/></a>"
      ]
    },
    {
      "cell_type": "markdown",
      "source": [
        "10953번\n",
        "\n",
        "두 정수 A와 B를 입력받은 다음, A+B를 출력하는 프로그램을 작성하시오."
      ],
      "metadata": {
        "id": "UnIrUlSrU1WA"
      }
    },
    {
      "cell_type": "code",
      "source": [
        "t = int(input())\n",
        "\n",
        "for _ in range(t):\n",
        "  print(sum(map(int,input().split(','))))"
      ],
      "metadata": {
        "id": "RtSpnf2-VlxU"
      },
      "execution_count": null,
      "outputs": []
    },
    {
      "cell_type": "markdown",
      "source": [
        "5585번\n",
        "\n",
        "타로는 자주 JOI잡화점에서 물건을 산다. JOI잡화점에는 잔돈으로 500엔, 100엔, 50엔, 10엔, 5엔, 1엔이 충분히 있고, 언제나 거스름돈 개수가 가장 적게 잔돈을 준다. 타로가 JOI잡화점에서 물건을 사고 카운터에서 1000엔 지폐를 한장 냈을 때, 받을 잔돈에 포함된 잔돈의 개수를 구하는 프로그램을 작성하시오."
      ],
      "metadata": {
        "id": "TLaV1ueYWOn4"
      }
    },
    {
      "cell_type": "code",
      "source": [
        "coin = [500,100,50,10,5,1]\n",
        "count = 0\n",
        "money = 1000 - int(input())\n",
        "for i in coin:\n",
        "  count+=money//i\n",
        "  money = money%i\n",
        "print(count)"
      ],
      "metadata": {
        "id": "gxDMo5A8WUXP"
      },
      "execution_count": null,
      "outputs": []
    },
    {
      "cell_type": "markdown",
      "source": [
        "10808번\n",
        "\n",
        "알파벳 소문자로만 이루어진 단어 S가 주어진다. 각 알파벳이 단어에 몇 개가 포함되어 있는지 구하는 프로그램을 작성하시오."
      ],
      "metadata": {
        "id": "9amRziE4ZToB"
      }
    },
    {
      "cell_type": "code",
      "source": [
        "word = input()\n",
        "lst = [0]*26\n",
        "\n",
        "for i in word:\n",
        "  lst[ord(i)-97]+=1\n",
        "\n",
        "for i in lst:\n",
        "    print(i, end=\" \")"
      ],
      "metadata": {
        "id": "zi3jDGk5ZWo4"
      },
      "execution_count": null,
      "outputs": []
    },
    {
      "cell_type": "markdown",
      "source": [
        "13458번\n",
        "\n",
        "총 N개의 시험장이 있고, 각각의 시험장마다 응시자들이 있다. i번 시험장에 있는 응시자의 수는 Ai명이다.\n",
        "\n",
        "감독관은 총감독관과 부감독관으로 두 종류가 있다. 총감독관은 한 시험장에서 감시할 수 있는 응시자의 수가 B명이고, 부감독관은 한 시험장에서 감시할 수 있는 응시자의 수가 C명이다.\n",
        "\n",
        "각각의 시험장에 총감독관은 오직 1명만 있어야 하고, 부감독관은 여러 명 있어도 된다.\n",
        "\n",
        "각 시험장마다 응시생들을 모두 감시해야 한다. 이때, 필요한 감독관 수의 최솟값을 구하는 프로그램을 작성하시오."
      ],
      "metadata": {
        "id": "kED5pBrOdg5C"
      }
    },
    {
      "cell_type": "code",
      "source": [
        "n = int(input())\n",
        "a = list(map(int, input().split()))\n",
        "b, c = map(int,input().split())\n",
        "count = 0\n",
        "\n",
        "for i in a:\n",
        "  if i-b <= 0:\n",
        "    count+=1\n",
        "  else:\n",
        "    if (i-b)%c == 0:\n",
        "      count += ((i-b)//c+1)\n",
        "    else: \n",
        "      count += ((i-b)//c+2)\n",
        "\n",
        "print(count)"
      ],
      "metadata": {
        "id": "0CPbQXgAeIUI"
      },
      "execution_count": null,
      "outputs": []
    },
    {
      "cell_type": "code",
      "source": [
        "#다른 사람거\n",
        "\n",
        "import sys\n",
        "input = sys.stdin.readline\n",
        "\n",
        "N = int(input())\n",
        "tester_num = list(map(int, input().split()))\n",
        "a, b = map(int, input().split())\n",
        "\n",
        "ans = N\n",
        "for num in tester_num:\n",
        "    num -= a\n",
        "    if num < 0:\n",
        "        continue\n",
        "    ans += num // b if num % b == 0 else num // b + 1\n",
        "\n",
        "print(ans)"
      ],
      "metadata": {
        "id": "FL6PbYZUg9U_"
      },
      "execution_count": null,
      "outputs": []
    },
    {
      "cell_type": "markdown",
      "source": [
        "2743번\n",
        "\n",
        "알파벳으로만 이루어진 단어를 입력받아, 그 길이를 출력하는 프로그램을 작성하시오."
      ],
      "metadata": {
        "id": "3S13EeMPhAoQ"
      }
    },
    {
      "cell_type": "code",
      "source": [
        "print(len(input()))"
      ],
      "metadata": {
        "id": "JT29GVZBhIAH"
      },
      "execution_count": null,
      "outputs": []
    }
  ]
}