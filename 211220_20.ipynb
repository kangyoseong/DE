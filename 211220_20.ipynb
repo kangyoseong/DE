{
  "nbformat": 4,
  "nbformat_minor": 0,
  "metadata": {
    "colab": {
      "name": "Untitled38.ipynb",
      "provenance": [],
      "authorship_tag": "ABX9TyM9ACs1eExnU/VnLUQXbdkr",
      "include_colab_link": true
    },
    "kernelspec": {
      "name": "python3",
      "display_name": "Python 3"
    },
    "language_info": {
      "name": "python"
    }
  },
  "cells": [
    {
      "cell_type": "markdown",
      "metadata": {
        "id": "view-in-github",
        "colab_type": "text"
      },
      "source": [
        "<a href=\"https://colab.research.google.com/github/kangyoseong/DE/blob/main/211220_20.ipynb\" target=\"_parent\"><img src=\"https://colab.research.google.com/assets/colab-badge.svg\" alt=\"Open In Colab\"/></a>"
      ]
    },
    {
      "cell_type": "markdown",
      "source": [
        "1110번\n",
        "\n",
        "0보다 크거나 같고, 99보다 작거나 같은 정수가 주어질 때 다음과 같은 연산을 할 수 있다. 먼저 주어진 수가 10보다 작다면 앞에 0을 붙여 두 자리 수로 만들고, 각 자리의 숫자를 더한다. 그 다음, 주어진 수의 가장 오른쪽 자리 수와 앞에서 구한 합의 가장 오른쪽 자리 수를 이어 붙이면 새로운 수를 만들 수 있다. 다음 예를 보자.\n",
        "\n",
        "26부터 시작한다. 2+6 = 8이다. 새로운 수는 68이다. 6+8 = 14이다. 새로운 수는 84이다. 8+4 = 12이다. 새로운 수는 42이다. 4+2 = 6이다. 새로운 수는 26이다.\n",
        "\n",
        "위의 예는 4번만에 원래 수로 돌아올 수 있다. 따라서 26의 사이클의 길이는 4이다.\n",
        "\n",
        "N이 주어졌을 때, N의 사이클의 길이를 구하는 프로그램을 작성하시오."
      ],
      "metadata": {
        "id": "kQvL6I9LH5gw"
      }
    },
    {
      "cell_type": "code",
      "source": [
        "#다른 사람거 그대로 가져옴\n",
        "n = input()\n",
        "num = n\n",
        "cnt = 0\n",
        "\n",
        "while 1:\n",
        "  if len(num) == 1:\n",
        "    num = '0' + num\n",
        "  plus = str(int(num[0])+int(num[1]))\n",
        "  num = num[-1] + plus[-1]\n",
        "  cnt += 1\n",
        "  if num == n:\n",
        "    print(cnt)\n",
        "    break\n",
        "\n",
        "\n"
      ],
      "metadata": {
        "id": "zDd0THwHH9SD"
      },
      "execution_count": null,
      "outputs": []
    },
    {
      "cell_type": "markdown",
      "source": [
        "1546번\n",
        "\n",
        "세준이는 기말고사를 망쳤다. 세준이는 점수를 조작해서 집에 가져가기로 했다. 일단 세준이는 자기 점수 중에 최댓값을 골랐다. 이 값을 M이라고 한다. 그리고 나서 모든 점수를 점수/M*100으로 고쳤다.\n",
        "\n",
        "예를 들어, 세준이의 최고점이 70이고, 수학점수가 50이었으면 수학점수는 50/70*100이 되어 71.43점이 된다.\n",
        "\n",
        "세준이의 성적을 위의 방법대로 새로 계산했을 때, 새로운 평균을 구하는 프로그램을 작성하시오."
      ],
      "metadata": {
        "id": "Q_Nupx1xW1oN"
      }
    },
    {
      "cell_type": "code",
      "source": [
        "n = int(input())\n",
        "score = list(map(int,input().split()))\n",
        "n = int(input())\n",
        "score = list(map(int,input().split()))\n",
        "score2 = []\n",
        "for i in score: \n",
        "  i1 = i / max(score)*100\n",
        "  score2.append(i1)\n",
        "print(sum(score2)/n)"
      ],
      "metadata": {
        "id": "BV6r68TUXlxW"
      },
      "execution_count": null,
      "outputs": []
    },
    {
      "cell_type": "code",
      "source": [
        "n = int(input())  # 과목 수\n",
        "test_list = list(map(int, input().split()))\n",
        "max_score = max(test_list)\n",
        "\n",
        "new_list = []\n",
        "for score in test_list :\n",
        "    new_list.append(score/max_score *100)  # 새로운 점수 생성\n",
        "test_avg = sum(new_list)/n\n",
        "print(test_avg)"
      ],
      "metadata": {
        "id": "SpZ3JeX9Y29T"
      },
      "execution_count": null,
      "outputs": []
    },
    {
      "cell_type": "markdown",
      "source": [
        "2839번\n",
        "\n",
        "상근이는 요즘 설탕공장에서 설탕을 배달하고 있다. 상근이는 지금 사탕가게에 설탕을 정확하게 N킬로그램을 배달해야 한다. 설탕공장에서 만드는 설탕은 봉지에 담겨져 있다. 봉지는 3킬로그램 봉지와 5킬로그램 봉지가 있다.\n",
        "\n",
        "상근이는 귀찮기 때문에, 최대한 적은 봉지를 들고 가려고 한다. 예를 들어, 18킬로그램 설탕을 배달해야 할 때, 3킬로그램 봉지 6개를 가져가도 되지만, 5킬로그램 3개와 3킬로그램 1개를 배달하면, 더 적은 개수의 봉지를 배달할 수 있다.\n",
        "\n",
        "상근이가 설탕을 정확하게 N킬로그램 배달해야 할 때, 봉지 몇 개를 가져가면 되는지 그 수를 구하는 프로그램을 작성하시오."
      ],
      "metadata": {
        "id": "Ueocy_HlY6V-"
      }
    },
    {
      "cell_type": "code",
      "source": [
        "N= int(input())\n",
        " \n",
        "if N==1 or N==2 or N==4 or N==7:\n",
        "  print(-1)\n",
        "elif N%5==0:\n",
        "  print(N//5)\n",
        "elif N%5==1:\n",
        "  print(N//5+1)\n",
        "elif N%5==2:\n",
        "  print(N//5+2)\n",
        "elif N%5==3:\n",
        "  print(N//5+1)\n",
        "elif N%5==4:\n",
        "  print(N//5+2)"
      ],
      "metadata": {
        "id": "7FC2TVSmZGu0"
      },
      "execution_count": null,
      "outputs": []
    },
    {
      "cell_type": "code",
      "source": [
        "sugar = int(input())\n",
        "\n",
        "bag = 0\n",
        "while sugar >= 0 :\n",
        "    if sugar % 5 == 0 :  # 5의 배수이면\n",
        "        bag += (sugar // 5)  # 5로 나눈 몫을 구해야 정수가 됨\n",
        "        print(bag)\n",
        "        break\n",
        "    sugar -= 3  \n",
        "    bag += 1  # 5의 배수가 될 때까지 설탕-3, 봉지+1\n",
        "else :\n",
        "    print(-1)"
      ],
      "metadata": {
        "id": "XihQeyi-blNT"
      },
      "execution_count": null,
      "outputs": []
    },
    {
      "cell_type": "markdown",
      "source": [
        "4344번\n",
        "\n",
        "대학생 새내기들의 90%는 자신이 반에서 평균은 넘는다고 생각한다. 당신은 그들에게 슬픈 진실을 알려줘야 한다."
      ],
      "metadata": {
        "id": "RCrAS0Smcvlu"
      }
    },
    {
      "cell_type": "code",
      "source": [
        "#내가 한 방식으로는 안되서 이걸로 고침\n",
        "\n",
        "for _ in range(int(input())):\n",
        "  student = list(map(int,input().split()))\n",
        "  avg = sum(student[1:])/student[0]\n",
        "  cnt = 0\n",
        "  for i in student[1:]:\n",
        "    if i > avg:\n",
        "      cnt += 1\n",
        "  ans = cnt/student[0] *100\n",
        "  print(f'{ans: .3f}%')"
      ],
      "metadata": {
        "id": "9KrKsaqFc0-Q"
      },
      "execution_count": null,
      "outputs": []
    },
    {
      "cell_type": "markdown",
      "source": [
        "1157번\n",
        "\n",
        "알파벳 대소문자로 된 단어가 주어지면, 이 단어에서 가장 많이 사용된 알파벳이 무엇인지 알아내는 프로그램을 작성하시오. 단, 대문자와 소문자를 구분하지 않는다."
      ],
      "metadata": {
        "id": "dnFEAjBuifYn"
      }
    },
    {
      "cell_type": "code",
      "source": [
        "from collections import Counter\n",
        "\n",
        "mylist = input().strip().upper()\n",
        "dic = dict(Counter(mylist))\n",
        "\n",
        "values = [i for i in dic.values()]\n",
        "values = sorted(values, reverse=True)\n",
        "\n",
        "big = values[0]\n",
        "\n",
        "result = [i for i, k in dic.items() if big == k]\n",
        "result = ''.join(sorted(result))\n",
        "if len(result) ==1:\n",
        "  print(result)\n",
        "else: \n",
        "  print('?')"
      ],
      "metadata": {
        "id": "sf7uIoPrimOv"
      },
      "execution_count": null,
      "outputs": []
    },
    {
      "cell_type": "code",
      "source": [
        "from collections import Counter\n",
        "k = input()\n",
        "k = k.lower()\n",
        "j=[]\n",
        "for i in range(len(k)):\n",
        "    j.append(k[i])\n",
        "p = Counter(j)\n",
        "u = p.most_common(2)\n",
        "if len(u)==1:\n",
        "  print(u[0][0].upper())\n",
        "elif u[0][1] == u[1][1]: \n",
        "  print('?')\n",
        "else:\n",
        "  print(u[0][0].upper())"
      ],
      "metadata": {
        "id": "hCn05zl6lGxp"
      },
      "execution_count": null,
      "outputs": []
    }
  ]
}