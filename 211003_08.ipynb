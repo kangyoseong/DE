{
  "nbformat": 4,
  "nbformat_minor": 0,
  "metadata": {
    "colab": {
      "name": "211003_08.ipynb",
      "provenance": [],
      "authorship_tag": "ABX9TyPUlfERtK1YkZ8KExM6WGtZ",
      "include_colab_link": true
    },
    "kernelspec": {
      "name": "python3",
      "display_name": "Python 3"
    },
    "language_info": {
      "name": "python"
    }
  },
  "cells": [
    {
      "cell_type": "markdown",
      "metadata": {
        "id": "view-in-github",
        "colab_type": "text"
      },
      "source": [
        "<a href=\"https://colab.research.google.com/github/kangyoseong/DE/blob/main/211003_08.ipynb\" target=\"_parent\"><img src=\"https://colab.research.google.com/assets/colab-badge.svg\" alt=\"Open In Colab\"/></a>"
      ]
    },
    {
      "cell_type": "markdown",
      "metadata": {
        "id": "_-MLJYCSJ5ST"
      },
      "source": [
        "15552번\n",
        "\n",
        "본격적으로 for문 문제를 풀기 전에 주의해야 할 점이 있다. 입출력 방식이 느리면 여러 줄을 입력받거나 출력할 때 시간초과가 날 수 있다는 점이다.\n",
        "\n",
        "C++을 사용하고 있고 cin/cout을 사용하고자 한다면, cin.tie(NULL)과 sync_with_stdio(false)를 둘 다 적용해 주고, endl 대신 개행문자(\\n)를 쓰자. 단, 이렇게 하면 더 이상 scanf/printf/puts/getchar/putchar 등 C의 입출력 방식을 사용하면 안 된다.\n",
        "\n",
        "Java를 사용하고 있다면, Scanner와 System.out.println 대신 BufferedReader와 BufferedWriter를 사용할 수 있다. BufferedWriter.flush는 맨 마지막에 한 번만 하면 된다.\n",
        "\n",
        "Python을 사용하고 있다면, input 대신 sys.stdin.readline을 사용할 수 있다. 단, 이때는 맨 끝의 개행문자까지 같이 입력받기 때문에 문자열을 저장하고 싶을 경우 .rstrip()을 추가로 해 주는 것이 좋다.\n",
        "\n",
        "또한 입력과 출력 스트림은 별개이므로, 테스트케이스를 전부 입력받아서 저장한 뒤 전부 출력할 필요는 없다. 테스트케이스를 하나 받은 뒤 하나 출력해도 된다.\n",
        "\n",
        "자세한 설명 및 다른 언어의 경우는 이 글에 설명되어 있다.\n",
        "\n",
        "이 블로그 글에서 BOJ의 기타 여러 가지 팁을 볼 수 있다."
      ]
    },
    {
      "cell_type": "code",
      "metadata": {
        "id": "Xcpri010J-BN"
      },
      "source": [
        "import sys\n",
        "t = int(sys.stdin.readline())\n",
        "\n",
        "for _ in range(t):\n",
        "  print(sum(map(int, sys.stdin.readline().split())))\n",
        "  "
      ],
      "execution_count": null,
      "outputs": []
    },
    {
      "cell_type": "markdown",
      "metadata": {
        "id": "jAZitarnMH15"
      },
      "source": [
        "2798번\n",
        "\n",
        "카지노에서 제일 인기 있는 게임 블랙잭의 규칙은 상당히 쉽다. 카드의 합이 21을 넘지 않는 한도 내에서, 카드의 합을 최대한 크게 만드는 게임이다. 블랙잭은 카지노마다 다양한 규정이 있다.\n",
        "\n",
        "한국 최고의 블랙잭 고수 김정인은 새로운 블랙잭 규칙을 만들어 상근, 창영이와 게임하려고 한다.\n",
        "\n",
        "김정인 버전의 블랙잭에서 각 카드에는 양의 정수가 쓰여 있다. 그 다음, 딜러는 N장의 카드를 모두 숫자가 보이도록 바닥에 놓는다. 그런 후에 딜러는 숫자 M을 크게 외친다.\n",
        "\n",
        "이제 플레이어는 제한된 시간 안에 N장의 카드 중에서 3장의 카드를 골라야 한다. 블랙잭 변형 게임이기 때문에, 플레이어가 고른 카드의 합은 M을 넘지 않으면서 M과 최대한 가깝게 만들어야 한다.\n",
        "\n",
        "N장의 카드에 써져 있는 숫자가 주어졌을 때, M을 넘지 않으면서 M에 최대한 가까운 카드 3장의 합을 구해 출력하시오."
      ]
    },
    {
      "cell_type": "code",
      "metadata": {
        "id": "nIftQos_QK-p"
      },
      "source": [
        "n, m = map(int,input().split())\n",
        "a = list(map(int,input().split()))\n",
        "\n",
        "import random\n",
        "b = []\n",
        "c = []\n",
        "\n",
        "for _ in range(1000000):\n",
        "  b.append(sum(random.sample(a, 3))) #랜덤으로 세개 뽑는 걸 무한으로 반복한다면 결국 모든 경우의 수가 나온다.\n",
        "b = list(set(b)) #중복값을 제거해주고 다시 리스트화\n",
        "for i in b:\n",
        "  if i <=m:\n",
        "    c.append(i)\n",
        "print(max(c)) #m보다 작거나 같은 값중 가장 큰 것을 출력한다.\n",
        "\n",
        "#맞추긴 했는데 맞는 방식은 아닌것 같음 ㅜㅜ"
      ],
      "execution_count": null,
      "outputs": []
    },
    {
      "cell_type": "code",
      "metadata": {
        "id": "5xqfNpGPA9xg"
      },
      "source": [
        "from itertools import combinations\n",
        "n, m = map(int,input().split())\n",
        "a = list(map(int,input().split()))\n",
        "b=[]\n",
        "\n",
        "for num in combinations(a,3): #이 함수를 이용해 3개의 겹치지 않는 조합을 만들어낸다.\n",
        "  tmp_sum = sum(num) #3개를 더하고\n",
        "  if tmp_sum <= m: # m보다 작거나 같은 것들을 모두 새로운 리스트에 넣는다.\n",
        "    b.append(tmp_sum)\n",
        "print(max(b)) #리스트내에서 가장 큰것을 프린트한다."
      ],
      "execution_count": null,
      "outputs": []
    },
    {
      "cell_type": "markdown",
      "metadata": {
        "id": "6N8Mov1vIxJ3"
      },
      "source": [
        "2920번\n",
        "\n",
        "다장조는 c d e f g a b C, 총 8개 음으로 이루어져있다. 이 문제에서 8개 음은 다음과 같이 숫자로 바꾸어 표현한다. c는 1로, d는 2로, ..., C를 8로 바꾼다.\n",
        "\n",
        "1부터 8까지 차례대로 연주한다면 ascending, 8부터 1까지 차례대로 연주한다면 descending, 둘 다 아니라면 mixed 이다.\n",
        "\n",
        "연주한 순서가 주어졌을 때, 이것이 ascending인지, descending인지, 아니면 mixed인지 판별하는 프로그램을 작성하시오.\n"
      ]
    },
    {
      "cell_type": "code",
      "metadata": {
        "id": "MsV1EsBAI-rf"
      },
      "source": [
        "a = list(map(int,input().split()))\n",
        "b = sorted(a)\n",
        "c = list(reversed(b))\n",
        "if b==a:\n",
        "  print('ascending')\n",
        "elif c==a:\n",
        "  print('descending')\n",
        "else:\n",
        "  print('mixed')\n"
      ],
      "execution_count": null,
      "outputs": []
    },
    {
      "cell_type": "markdown",
      "metadata": {
        "id": "QD6yZvJsjwr0"
      },
      "source": [
        "11721번\n",
        "\n",
        "알파벳 소문자와 대문자로만 이루어진 길이가 N인 단어가 주어진다.\n",
        "\n",
        "한 줄에 10글자씩 끊어서 출력하는 프로그램을 작성하시오."
      ]
    },
    {
      "cell_type": "code",
      "metadata": {
        "id": "F-iSbaS9j2TE"
      },
      "source": [
        "import math\n",
        "a = input()\n",
        "k = math.ceil(len(a)/10) # 문자를 10번씩 최대 몇번까지 잘라야 하는지 알아봅니다.\n",
        "for i in range(1,k+1):\n",
        "  print(a[(i-1)*10:i*10]) #0~10, 10~20 ... 이런식으로 슬라이싱 하여 출력합니다."
      ],
      "execution_count": null,
      "outputs": []
    },
    {
      "cell_type": "markdown",
      "metadata": {
        "id": "osMzcHOmo8na"
      },
      "source": [
        "10870번\n",
        "\n",
        "피보나치 수는 0과 1로 시작한다. 0번째 피보나치 수는 0이고, 1번째 피보나치 수는 1이다. 그 다음 2번째 부터는 바로 앞 두 피보나치 수의 합이 된다.\n",
        "\n",
        "이를 식으로 써보면 Fn = Fn-1 + Fn-2 (n ≥ 2)가 된다.\n",
        "\n",
        "n=17일때 까지 피보나치 수를 써보면 다음과 같다.\n",
        "\n",
        "0, 1, 1, 2, 3, 5, 8, 13, 21, 34, 55, 89, 144, 233, 377, 610, 987, 1597\n",
        "\n",
        "n이 주어졌을 때, n번째 피보나치 수를 구하는 프로그램을 작성하시오."
      ]
    },
    {
      "cell_type": "code",
      "metadata": {
        "id": "kLs5g_nEo_S6"
      },
      "source": [
        "#그냥 재미로 만들어 봄\n",
        "k = int(input())\n",
        "a = [0, 1, 1, 2, 3, 5, 8, 13, 21, 34, 55, 89, 144, 233, 377, 610, 987, 1597, 2584, 4181, 6765]\n",
        "print(a[k])"
      ],
      "execution_count": null,
      "outputs": []
    },
    {
      "cell_type": "code",
      "metadata": {
        "colab": {
          "base_uri": "https://localhost:8080/"
        },
        "id": "CKwZCiwC3JVh",
        "outputId": "4f33964d-6dc2-409f-f7b5-8594f8796464"
      },
      "source": [
        "import math\n",
        "n = int(input())\n",
        "a = 1/math.sqrt(5)*((((1+math.sqrt(5))/2)**n)-(((1-math.sqrt(5))/2)**n))\n",
        "print(int(a))\n",
        "\n",
        "#피보나치 공식이용"
      ],
      "execution_count": 5,
      "outputs": [
        {
          "output_type": "stream",
          "name": "stdout",
          "text": [
            "20\n",
            "6765\n"
          ]
        }
      ]
    },
    {
      "cell_type": "markdown",
      "metadata": {
        "id": "uaLYMOgiuD6K"
      },
      "source": [
        "2231번\n",
        "\n",
        "어떤 자연수 N이 있을 때, 그 자연수 N의 분해합은 N과 N을 이루는 각 자리수의 합을 의미한다. 어떤 자연수 M의 분해합이 N인 경우, M을 N의 생성자라 한다. 예를 들어, 245의 분해합은 256(=245+2+4+5)이 된다. 따라서 245는 256의 생성자가 된다. 물론, 어떤 자연수의 경우에는 생성자가 없을 수도 있다. 반대로, 생성자가 여러 개인 자연수도 있을 수 있다.\n",
        "\n",
        "자연수 N이 주어졌을 때, N의 가장 작은 생성자를 구해내는 프로그램을 작성하시오."
      ]
    },
    {
      "cell_type": "code",
      "metadata": {
        "id": "6Y8DXzLBuuUF"
      },
      "source": [
        "n = int(input())\n",
        "b = []\n",
        "for i in range(1,n):\n",
        "  a = list(map(int,str(i)))\n",
        "  if i+sum(a)==n:\n",
        "    b.append(i)\n",
        "\n",
        "if len(b)==0:\n",
        "  print(0)\n",
        "else:\n",
        "  print(min(b))\n"
      ],
      "execution_count": null,
      "outputs": []
    },
    {
      "cell_type": "markdown",
      "metadata": {
        "id": "tNV9u_v7zEHn"
      },
      "source": [
        "2775번\n",
        "\n",
        "평소 반상회에 참석하는 것을 좋아하는 주희는 이번 기회에 부녀회장이 되고 싶어 각 층의 사람들을 불러 모아 반상회를 주최하려고 한다.\n",
        "\n",
        "이 아파트에 거주를 하려면 조건이 있는데, “a층의 b호에 살려면 자신의 아래(a-1)층의 1호부터 b호까지 사람들의 수의 합만큼 사람들을 데려와 살아야 한다” 는 계약 조항을 꼭 지키고 들어와야 한다.\n",
        "\n",
        "아파트에 비어있는 집은 없고 모든 거주민들이 이 계약 조건을 지키고 왔다고 가정했을 때, 주어지는 양의 정수 k와 n에 대해 k층에 n호에는 몇 명이 살고 있는지 출력하라. 단, 아파트에는 0층부터 있고 각층에는 1호부터 있으며, 0층의 i호에는 i명이 산다."
      ]
    },
    {
      "cell_type": "code",
      "metadata": {
        "id": "1uwNzv884EIV"
      },
      "source": [
        "t = int(input())\n",
        "\n",
        "for _ in range(t):\n",
        "  f = int(input())\n",
        "  num = int(input())\n",
        "  a = [x for x in range(1, num+1)]\n",
        "  for k in range(f):\n",
        "    for i in range(1, num):\n",
        "      a[i]+=a[i-1]\n",
        "  print(a[-1])"
      ],
      "execution_count": null,
      "outputs": []
    },
    {
      "cell_type": "markdown",
      "metadata": {
        "id": "1jlKFFuFktNl"
      },
      "source": [
        "2309번\n",
        "\n",
        "왕비를 피해 일곱 난쟁이들과 함께 평화롭게 생활하고 있던 백설공주에게 위기가 찾아왔다. 일과를 마치고 돌아온 난쟁이가 일곱 명이 아닌 아홉 명이었던 것이다.\n",
        "\n",
        "아홉 명의 난쟁이는 모두 자신이 \"백설 공주와 일곱 난쟁이\"의 주인공이라고 주장했다. 뛰어난 수학적 직관력을 가지고 있던 백설공주는, 다행스럽게도 일곱 난쟁이의 키의 합이 100이 됨을 기억해 냈다.\n",
        "\n",
        "아홉 난쟁이의 키가 주어졌을 때, 백설공주를 도와 일곱 난쟁이를 찾는 프로그램을 작성하시오."
      ]
    },
    {
      "cell_type": "code",
      "metadata": {
        "colab": {
          "base_uri": "https://localhost:8080/"
        },
        "id": "3tJGasbilRPj",
        "outputId": "a54f6e59-98f4-4158-d040-d53c0541fd94"
      },
      "source": [
        "from itertools import combinations\n",
        "\n",
        "a,b,c,d,e,f,g,h,i= [int(input()) for _ in range(9)]\n",
        "z = [a,b,c,d,e,f,g,h,i]\n",
        "z1=[]\n",
        "for num in combinations(z,7):\n",
        "  if sum(num)==100:\n",
        "    z1 = list(num)\n",
        "    z1.sort()\n",
        "for i in z1:\n",
        "  print(i)"
      ],
      "execution_count": 33,
      "outputs": [
        {
          "output_type": "stream",
          "name": "stdout",
          "text": [
            "7\n",
            "8\n",
            "10\n",
            "13\n",
            "19\n",
            "20\n",
            "23\n"
          ]
        }
      ]
    },
    {
      "cell_type": "markdown",
      "metadata": {
        "id": "Uhro90JUrKTV"
      },
      "source": [
        "10953번\n",
        "\n",
        "두 정수 A와 B를 입력받은 다음, A+B를 출력하는 프로그램을 작성하시오."
      ]
    },
    {
      "cell_type": "code",
      "metadata": {
        "id": "35FO9JqlrTJ_"
      },
      "source": [
        "t = int(input())\n",
        "\n",
        "for _ in range(t):\n",
        "  print(sum(map(int, input().split(','))))"
      ],
      "execution_count": null,
      "outputs": []
    },
    {
      "cell_type": "markdown",
      "metadata": {
        "id": "fDsidJXWtEdW"
      },
      "source": [
        "5585번\n",
        "\n",
        "타로는 자주 JOI잡화점에서 물건을 산다. JOI잡화점에는 잔돈으로 500엔, 100엔, 50엔, 10엔, 5엔, 1엔이 충분히 있고, 언제나 거스름돈 개수가 가장 적게 잔돈을 준다. 타로가 JOI잡화점에서 물건을 사고 카운터에서 1000엔 지폐를 한장 냈을 때, 받을 잔돈에 포함된 잔돈의 개수를 구하는 프로그램을 작성하시오."
      ]
    },
    {
      "cell_type": "code",
      "metadata": {
        "id": "WsIAjtfWtltR"
      },
      "source": [
        "p = int(input())\n",
        "p1 = abs(1000-p)\n",
        "cnt=0\n",
        "\n",
        "for i in (500,100,50,10,5,1):\n",
        "  cnt+=p1//i\n",
        "  p1 = p1%i\n",
        "  if p1==0:\n",
        "    break\n",
        "print(cnt)\n"
      ],
      "execution_count": 60,
      "outputs": []
    },
    {
      "cell_type": "markdown",
      "metadata": {
        "id": "3KeE7V60-FjB"
      },
      "source": [
        "15719번\n",
        "\n",
        "1부터 N - 1까지의 정수가 하나씩 정렬되지 않은 채로 저장되어 있는 어떤 수열 A가 있다. 수열 A에 임의의 정수 M(1 ≤ M ≤ N – 1)을 넣어 크기가 N인 수열로 만들었을 때, 임의의 정수 M을 찾는 프로그램을 작성하라."
      ]
    },
    {
      "cell_type": "code",
      "metadata": {
        "id": "9OVgS4Hc_t3Q"
      },
      "source": [
        "n = int(input())\n",
        "a = list(map(int,input().split()))\n",
        "a.sort()\n",
        "\n",
        "for i in range(n):\n",
        "  if a[i]==a[i-1]:\n",
        "    print(a[i])\n",
        "\n",
        "#이유를 모르겠다 계속 메모리초과라고 뜨는데 문제를 잘못읽었나?"
      ],
      "execution_count": null,
      "outputs": []
    },
    {
      "cell_type": "markdown",
      "metadata": {
        "id": "lbD-fiOCGNEp"
      },
      "source": [
        "10093번\n",
        "\n",
        "두 양의 정수가 주어졌을 때, 두 수 사이에 있는 정수를 모두 출력하는 프로그램을 작성하시오."
      ]
    },
    {
      "cell_type": "code",
      "metadata": {
        "id": "ozmQakmgGROD"
      },
      "source": [
        "a, b = map(int,input().split())\n",
        "n1 = min(a,b)\n",
        "n2 = max(a,b)\n",
        "c = n2-n1-1\n",
        "z = []\n",
        "for i in range(c):\n",
        "  z.append(n1+i+1)\n",
        "print(len(z))\n",
        "for i in range(c):\n",
        "    print(z[i], end=' ')"
      ],
      "execution_count": null,
      "outputs": []
    },
    {
      "cell_type": "markdown",
      "metadata": {
        "id": "5qn-ClG1Kyk2"
      },
      "source": [
        "13458번\n",
        "\n",
        "총 N개의 시험장이 있고, 각각의 시험장마다 응시자들이 있다. i번 시험장에 있는 응시자의 수는 Ai명이다.\n",
        "\n",
        "감독관은 총감독관과 부감독관으로 두 종류가 있다. 총감독관은 한 시험장에서 감시할 수 있는 응시자의 수가 B명이고, 부감독관은 한 시험장에서 감시할 수 있는 응시자의 수가 C명이다.\n",
        "\n",
        "각각의 시험장에 총감독관은 오직 1명만 있어야 하고, 부감독관은 여러 명 있어도 된다.\n",
        "\n",
        "각 시험장마다 응시생들을 모두 감시해야 한다. 이때, 필요한 감독관 수의 최솟값을 구하는 프로그램을 작성하시오."
      ]
    },
    {
      "cell_type": "code",
      "metadata": {
        "id": "LjbHasoEMrKf"
      },
      "source": [
        "import math\n",
        "n = int(input())\n",
        "a = list(map(int,input().split()))\n",
        "b, c = map(int, input().split())\n",
        "cnt = 0\n",
        "\n",
        "for i in a:\n",
        "  if b >= i:\n",
        "    cnt = cnt+1\n",
        "  else:\n",
        "    cnt = cnt+math.ceil((i-b)/c)+1\n",
        "\n",
        "print(cnt)"
      ],
      "execution_count": null,
      "outputs": []
    },
    {
      "cell_type": "markdown",
      "metadata": {
        "id": "XlKin4lNTj2R"
      },
      "source": [
        "1673번\n",
        "\n",
        "강민이는 치킨 한 마리를 주문할 수 있는 치킨 쿠폰을 n장 가지고 있다. 이 치킨집에서는 치킨을 한 마리 주문할 때마다 도장을 하나씩 찍어 주는데, 도장을 k개 모으면 치킨 쿠폰 한 장으로 교환할 수 있다.\n",
        "\n",
        "강민이가 지금 갖고 있는 치킨 쿠폰으로 치킨을 최대 몇 마리나 먹을 수 있는지 구하여라. 단, 치킨을 주문하기 위해서는 반드시 치킨 쿠폰을 갖고 있어야 한다."
      ]
    },
    {
      "cell_type": "code",
      "metadata": {
        "id": "FL0z2fzdUSGT"
      },
      "source": [
        "while True:\n",
        "  try:\n",
        "    a, b = map(int,input().split())\n",
        "    cnt = 0\n",
        "    cnt += a\n",
        "    while a//b:\n",
        "      cnt+=a//b\n",
        "      a = a//b + a%b\n",
        "    print(cnt)\n",
        "  except:\n",
        "    break"
      ],
      "execution_count": null,
      "outputs": []
    },
    {
      "cell_type": "markdown",
      "metadata": {
        "id": "zkrBOHw4vVQH"
      },
      "source": [
        "1173번\n",
        "\n",
        "영식이가 운동을 하는 과정은 1분 단위로 나누어져 있다. 매 분마다 영식이는 운동과 휴식 중 하나를 선택해야 한다.\n",
        "\n",
        "운동을 선택한 경우, 영식이의 맥박이 T만큼 증가한다. 즉, 영식이의 맥박이 X였다면, 1분 동안 운동을 한 후 맥박이 X+T가 되는 것이다. 영식이는 맥박이 M을 넘는 것을 원하지 않기 때문에, X+T가 M보다 작거나 같을 때만 운동을 할 수 있다. 휴식을 선택하는 경우 맥박이 R만큼 감소한다. 즉, 영식이의 맥박이 X였다면, 1분 동안 휴식을 한 후 맥박은 X-R이 된다. 맥박은 절대로 m보다 낮아지면 안된다. 따라서, X-R이 m보다 작으면 맥박은 m이 된다.\n",
        "\n",
        "영식이의 초기 맥박은 m이다. 운동을 N분 하려고 한다. 이때 운동을 N분하는데 필요한 시간의 최솟값을 구해보자. 운동하는 시간은 연속되지 않아도 된다."
      ]
    },
    {
      "cell_type": "code",
      "metadata": {
        "id": "UaDcKarCvX6t"
      },
      "source": [
        "N, m, M, T, R = map(int,input().split()) \n",
        "cnt = 0\n",
        "beat = m\n",
        "while N:\n",
        "  if m+T>M:\n",
        "    break\n",
        "  elif beat+T <= M:\n",
        "    cnt+= 1\n",
        "    beat+=T\n",
        "    N-=1\n",
        "  else:\n",
        "    cnt+=1\n",
        "    beat-=R\n",
        "    if beat < m:\n",
        "      beat=m\n",
        "if cnt==0:\n",
        "  print(-1)\n",
        "else:\n",
        "  print(cnt)"
      ],
      "execution_count": null,
      "outputs": []
    },
    {
      "cell_type": "markdown",
      "metadata": {
        "id": "D3iOyK7j5Cqg"
      },
      "source": [
        "코딩테스트 문제\n",
        "\n",
        "새로 생긴 놀이기구는 인기가 매우 많아 줄이 끊이질 않습니다. 이 놀이기구의 원래 이용료는 price원 인데, 놀이기구를 N 번 째 이용한다면 원래 이용료의 N배를 받기로 하였습니다. 즉, 처음 이용료가 100이었다면 2번째에는 200, 3번째에는 300으로 요금이 인상됩니다.\n",
        "놀이기구를 count번 타게 되면 현재 자신이 가지고 있는 금액에서 얼마가 모자라는지를 return 하도록 solution 함수를 완성하세요.\n",
        "단, 금액이 부족하지 않으면 0을 return 하세요"
      ]
    },
    {
      "cell_type": "code",
      "metadata": {
        "id": "d8X7OWss5Hkg"
      },
      "source": [
        "def solution(price, money, count):\n",
        "    answer = int(price * count * (count+1) * 0.5 - money)\n",
        "    if answer<=0:\n",
        "      answer=0\n",
        "    return answer"
      ],
      "execution_count": 16,
      "outputs": []
    }
  ]
}