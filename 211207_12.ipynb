{
  "nbformat": 4,
  "nbformat_minor": 0,
  "metadata": {
    "colab": {
      "name": "Untitled28.ipynb",
      "provenance": [],
      "authorship_tag": "ABX9TyNE4O1obabmqfqmwgM4iyuf",
      "include_colab_link": true
    },
    "kernelspec": {
      "name": "python3",
      "display_name": "Python 3"
    },
    "language_info": {
      "name": "python"
    }
  },
  "cells": [
    {
      "cell_type": "markdown",
      "metadata": {
        "id": "view-in-github",
        "colab_type": "text"
      },
      "source": [
        "<a href=\"https://colab.research.google.com/github/kangyoseong/DE/blob/main/211207_12.ipynb\" target=\"_parent\"><img src=\"https://colab.research.google.com/assets/colab-badge.svg\" alt=\"Open In Colab\"/></a>"
      ]
    },
    {
      "cell_type": "markdown",
      "metadata": {
        "id": "rmn2jyYb4dTL"
      },
      "source": [
        "2920번\n",
        "\n",
        "다장조는 c d e f g a b C, 총 8개 음으로 이루어져있다. 이 문제에서 8개 음은 다음과 같이 숫자로 바꾸어 표현한다. c는 1로, d는 2로, ..., C를 8로 바꾼다.\n",
        "\n",
        "1부터 8까지 차례대로 연주한다면 ascending, 8부터 1까지 차례대로 연주한다면 descending, 둘 다 아니라면 mixed 이다.\n",
        "\n",
        "연주한 순서가 주어졌을 때, 이것이 ascending인지, descending인지, 아니면 mixed인지 판별하는 프로그램을 작성하시오."
      ]
    },
    {
      "cell_type": "code",
      "metadata": {
        "id": "UQttkGuG4hI7"
      },
      "source": [
        "#내가 푼것, 답은 나왔는데 밑에게 더 좋은 방법인듯\n",
        "\n",
        "music = input()\n",
        "\n",
        "if music == '1 2 3 4 5 6 7 8':\n",
        "  print('ascending')\n",
        "elif music == '8 7 6 5 4 3 2 1':\n",
        "  print('descending')\n",
        "else:\n",
        "  print('mixed')"
      ],
      "execution_count": null,
      "outputs": []
    },
    {
      "cell_type": "code",
      "metadata": {
        "id": "ECmUSOB9_LDO"
      },
      "source": [
        "#다른 사람거\n",
        "\n",
        "a = list(map(int,input().split()))\n",
        "b = sorted(a)\n",
        "c = list(reversed(b))\n",
        "if b==a:\n",
        "  print('ascending')\n",
        "elif c==a:\n",
        "  print('descending')\n",
        "else:\n",
        "  print('mixed')"
      ],
      "execution_count": null,
      "outputs": []
    },
    {
      "cell_type": "markdown",
      "metadata": {
        "id": "uw-iaEkX_Q7b"
      },
      "source": [
        "11721번\n",
        "\n",
        "알파벳 소문자와 대문자로만 이루어진 길이가 N인 단어가 주어진다.\n",
        "\n",
        "한 줄에 10글자씩 끊어서 출력하는 프로그램을 작성하시오."
      ]
    },
    {
      "cell_type": "code",
      "metadata": {
        "id": "movEiC2a_uVe"
      },
      "source": [
        "#내가 푼거 1차\n",
        "a = input()\n",
        "b = len(a)//10\n",
        "c = len(a)%10\n",
        "for i in range(b):\n",
        "  print(a[i*10:i*10+10])\n",
        "if c!=0:\n",
        "  print(a[-c:])\n",
        "  "
      ],
      "execution_count": null,
      "outputs": []
    },
    {
      "cell_type": "code",
      "metadata": {
        "id": "KZKtZpgnE4Za"
      },
      "source": [
        "#내가 푼거 2차 위에거 수정했음\n",
        "a = input()\n",
        "b = len(a)//10+1\n",
        "for i in range(b):\n",
        "  print(a[i*10:i*10+10])"
      ],
      "execution_count": null,
      "outputs": []
    },
    {
      "cell_type": "code",
      "metadata": {
        "id": "tctT6TYhGNa-"
      },
      "source": [
        "#다른 사람거\n",
        "\n",
        "a = input()\n",
        "for b in range(0,len(a),10):\n",
        "  print(a[b:b+10])"
      ],
      "execution_count": null,
      "outputs": []
    },
    {
      "cell_type": "markdown",
      "metadata": {
        "id": "qPubpLE7GzLw"
      },
      "source": [
        "2231번\n",
        "\n",
        "어떤 자연수 N이 있을 때, 그 자연수 N의 분해합은 N과 N을 이루는 각 자리수의 합을 의미한다. 어떤 자연수 M의 분해합이 N인 경우, M을 N의 생성자라 한다. 예를 들어, 245의 분해합은 256(=245+2+4+5)이 된다. 따라서 245는 256의 생성자가 된다. 물론, 어떤 자연수의 경우에는 생성자가 없을 수도 있다. 반대로, 생성자가 여러 개인 자연수도 있을 수 있다.\n",
        "\n",
        "자연수 N이 주어졌을 때, N의 가장 작은 생성자를 구해내는 프로그램을 작성하시오."
      ]
    },
    {
      "cell_type": "code",
      "metadata": {
        "id": "S4dWV7aRG2MD"
      },
      "source": [
        "#다른 사람거 보고 답 융합\n",
        "\n",
        "a = input()\n",
        "b = 0\n",
        "\n",
        "for i in range(1,int(a)+1):\n",
        "  b = i+sum(map(int, str(i)))\n",
        "  if b==int(a):\n",
        "    print(i)\n",
        "    break\n",
        "\n",
        "  if i==int(a):\n",
        "    print(0)\n",
        "     \n",
        "  "
      ],
      "execution_count": null,
      "outputs": []
    },
    {
      "cell_type": "markdown",
      "metadata": {
        "id": "5KIWOTUTR8m_"
      },
      "source": [
        "2775번\n",
        "\n",
        "평소 반상회에 참석하는 것을 좋아하는 주희는 이번 기회에 부녀회장이 되고 싶어 각 층의 사람들을 불러 모아 반상회를 주최하려고 한다.\n",
        "\n",
        "이 아파트에 거주를 하려면 조건이 있는데, “a층의 b호에 살려면 자신의 아래(a-1)층의 1호부터 b호까지 사람들의 수의 합만큼 사람들을 데려와 살아야 한다” 는 계약 조항을 꼭 지키고 들어와야 한다.\n",
        "\n",
        "아파트에 비어있는 집은 없고 모든 거주민들이 이 계약 조건을 지키고 왔다고 가정했을 때, 주어지는 양의 정수 k와 n에 대해 k층에 n호에는 몇 명이 살고 있는지 출력하라. 단, 아파트에는 0층부터 있고 각층에는 1호부터 있으며, 0층의 i호에는 i명이 산다."
      ]
    },
    {
      "cell_type": "code",
      "metadata": {
        "id": "EXkyxwHJR-fQ"
      },
      "source": [
        "#자주자주 봐야할 듯 완전몰라서 처음부터 베낌\n",
        "\n",
        "t = int(input())\n",
        "for _ in range(t):\n",
        "  k = int(input())\n",
        "  n = int(input())\n",
        "  people = [i for i in range(1,n+1)] #1부터 n번가지의 방을 가진 리스트를 먼저 설정하고\n",
        "\n",
        "  for x in range(k): #k층 설정\n",
        "    for y in range(1,n): #각 층별 설정\n",
        "      people[y] += people[y-1]\n",
        "  print(people[-1])"
      ],
      "execution_count": null,
      "outputs": []
    },
    {
      "cell_type": "markdown",
      "metadata": {
        "id": "Ki2cxgflK_Yx"
      },
      "source": [
        "2309번\n",
        "\n",
        "왕비를 피해 일곱 난쟁이들과 함께 평화롭게 생활하고 있던 백설공주에게 위기가 찾아왔다. 일과를 마치고 돌아온 난쟁이가 일곱 명이 아닌 아홉 명이었던 것이다.\n",
        "\n",
        "아홉 명의 난쟁이는 모두 자신이 \"백설 공주와 일곱 난쟁이\"의 주인공이라고 주장했다. 뛰어난 수학적 직관력을 가지고 있던 백설공주는, 다행스럽게도 일곱 난쟁이의 키의 합이 100이 됨을 기억해 냈다.\n",
        "\n",
        "아홉 난쟁이의 키가 주어졌을 때, 백설공주를 도와 일곱 난쟁이를 찾는 프로그램을 작성하시오."
      ]
    },
    {
      "cell_type": "code",
      "metadata": {
        "id": "a1A0M40hLDJK"
      },
      "source": [
        "# 디테일한 부분은 참고 많이 함\n",
        "\n",
        "z = []\n",
        "a = 0\n",
        "b = 0\n",
        "\n",
        "for _ in range(9):\n",
        "  z.append(int(input()))\n",
        "\n",
        "for i in range(8):\n",
        "   for u in range(i+1,9):\n",
        "     if sum(z)-(z[i]+z[u])==100:\n",
        "       a = z[i]\n",
        "       b = z[u]\n",
        "\n",
        "z.remove(a)\n",
        "z.remove(b)\n",
        "z.sort()\n",
        "for k in z:\n",
        "  print(k)"
      ],
      "execution_count": null,
      "outputs": []
    }
  ]
}