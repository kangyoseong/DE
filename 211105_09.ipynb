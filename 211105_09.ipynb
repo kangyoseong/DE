{
  "nbformat": 4,
  "nbformat_minor": 0,
  "metadata": {
    "colab": {
      "name": "Untitled24.ipynb",
      "provenance": [],
      "authorship_tag": "ABX9TyMQzJ8aFpoMVIvCdZEf2Wk5",
      "include_colab_link": true
    },
    "kernelspec": {
      "name": "python3",
      "display_name": "Python 3"
    },
    "language_info": {
      "name": "python"
    }
  },
  "cells": [
    {
      "cell_type": "markdown",
      "metadata": {
        "id": "view-in-github",
        "colab_type": "text"
      },
      "source": [
        "<a href=\"https://colab.research.google.com/github/kangyoseong/DE/blob/main/211105_09.ipynb\" target=\"_parent\"><img src=\"https://colab.research.google.com/assets/colab-badge.svg\" alt=\"Open In Colab\"/></a>"
      ]
    },
    {
      "cell_type": "markdown",
      "metadata": {
        "id": "H9bGrk_a3Cgc"
      },
      "source": [
        "2577번\n",
        "\n",
        "세 개의 자연수 A, B, C가 주어질 때 A × B × C를 계산한 결과에 0부터 9까지 각각의 숫자가 몇 번씩 쓰였는지를 구하는 프로그램을 작성하시오.\n",
        "\n",
        "예를 들어 A = 150, B = 266, C = 427 이라면 A × B × C = 150 × 266 × 427 = 17037300 이 되고, 계산한 결과 17037300 에는 0이 3번, 1이 1번, 3이 2번, 7이 2번 쓰였다."
      ]
    },
    {
      "cell_type": "code",
      "metadata": {
        "id": "b853R4jM3GCJ"
      },
      "source": [
        "a = int(input())\n",
        "b = int(input())\n",
        "c = int(input())\n",
        "\n",
        "z = str(a*b*c)\n",
        "for i in range(10):\n",
        "  k = z.count(str(i))\n",
        "  print(k,sep=' ')"
      ],
      "execution_count": null,
      "outputs": []
    },
    {
      "cell_type": "markdown",
      "metadata": {
        "id": "v6xW9oWI9ODy"
      },
      "source": [
        "11720번\n",
        "\n",
        "N개의 숫자가 공백 없이 쓰여있다. 이 숫자를 모두 합해서 출력하는 프로그램을 작성하시오."
      ]
    },
    {
      "cell_type": "code",
      "metadata": {
        "id": "FWKV1rKo9RZL"
      },
      "source": [
        "n = int(input())\n",
        "a = input()\n",
        "z = 0\n",
        "for i in range(n):\n",
        "  z += int(a[i])\n",
        "print(z)"
      ],
      "execution_count": null,
      "outputs": []
    },
    {
      "cell_type": "markdown",
      "metadata": {
        "id": "SyOxF4cT41Wp"
      },
      "source": [
        "2562번\n",
        "\n",
        "9개의 서로 다른 자연수가 주어질 때, 이들 중 최댓값을 찾고 그 최댓값이 몇 번째 수인지를 구하는 프로그램을 작성하시오.\n",
        "\n",
        "예를 들어, 서로 다른 9개의 자연수\n",
        "\n",
        "3, 29, 38, 12, 57, 74, 40, 85, 61\n",
        "\n",
        "이 주어지면, 이들 중 최댓값은 85이고, 이 값은 8번째 수이다."
      ]
    },
    {
      "cell_type": "code",
      "metadata": {
        "id": "ie2_nlIQ47W-"
      },
      "source": [
        "a1 = int(input())\n",
        "a2 = int(input())\n",
        "a3 = int(input())\n",
        "a4 = int(input())\n",
        "a5 = int(input())\n",
        "a6 = int(input())\n",
        "a7 = int(input())\n",
        "a8 = int(input())\n",
        "a9 = int(input())\n",
        "\n",
        "z = [a1,a2,a3,a4,a5,a6,a7,a8,a9]\n",
        "\n",
        "print(max(z))\n",
        "print(z.index(max(z))+1)"
      ],
      "execution_count": null,
      "outputs": []
    },
    {
      "cell_type": "code",
      "metadata": {
        "id": "vBi4eXsB5rqp"
      },
      "source": [
        "#다른 사람 답 첨부\n",
        "\n",
        "num_list = []\n",
        "for i in range(9):\n",
        "    num_list.append(int(input()))\n",
        "    \n",
        "print(max(num_list))\n",
        "print(num_list.index(max(num_list))+1)"
      ],
      "execution_count": null,
      "outputs": []
    },
    {
      "cell_type": "markdown",
      "metadata": {
        "id": "W8ES47Cn7C3T"
      },
      "source": [
        "8958번\n",
        "\n",
        "\"OOXXOXXOOO\"와 같은 OX퀴즈의 결과가 있다. O는 문제를 맞은 것이고, X는 문제를 틀린 것이다. 문제를 맞은 경우 그 문제의 점수는 그 문제까지 연속된 O의 개수가 된다. 예를 들어, 10번 문제의 점수는 3이 된다.\n",
        "\n",
        "\"OOXXOXXOOO\"의 점수는 1+2+0+0+1+0+0+1+2+3 = 10점이다.\n",
        "\n",
        "OX퀴즈의 결과가 주어졌을 때, 점수를 구하는 프로그램을 작성하시오."
      ]
    },
    {
      "cell_type": "code",
      "metadata": {
        "id": "itsqDSq77GZ8"
      },
      "source": [
        "a = int(input())\n",
        "for _ in range(a):\n",
        "  b = input()\n",
        "  s = list(b)\n",
        "  sum = 0\n",
        "  c = 1\n",
        "  for i in s:\n",
        "    if i =='O':\n",
        "      sum += c\n",
        "      c += 1\n",
        "    else:\n",
        "      c = 1\n",
        "  print(sum)"
      ],
      "execution_count": null,
      "outputs": []
    }
  ]
}