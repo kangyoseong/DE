{
  "nbformat": 4,
  "nbformat_minor": 0,
  "metadata": {
    "colab": {
      "name": "Untitled48.ipynb",
      "provenance": [],
      "authorship_tag": "ABX9TyNb1fLKUAvHUVYr4qCVudV+",
      "include_colab_link": true
    },
    "kernelspec": {
      "name": "python3",
      "display_name": "Python 3"
    },
    "language_info": {
      "name": "python"
    }
  },
  "cells": [
    {
      "cell_type": "markdown",
      "metadata": {
        "id": "view-in-github",
        "colab_type": "text"
      },
      "source": [
        "<a href=\"https://colab.research.google.com/github/kangyoseong/DE/blob/main/220503_27.ipynb\" target=\"_parent\"><img src=\"https://colab.research.google.com/assets/colab-badge.svg\" alt=\"Open In Colab\"/></a>"
      ]
    },
    {
      "cell_type": "markdown",
      "source": [
        "10798번\n",
        "\n",
        "아직 글을 모르는 영석이가 벽에 걸린 칠판에 자석이 붙어있는 글자들을 붙이는 장난감을 가지고 놀고 있다. \n",
        "\n",
        "이 장난감에 있는 글자들은 영어 대문자 ‘A’부터 ‘Z’, 영어 소문자 ‘a’부터 ‘z’, 숫자 ‘0’부터 ‘9’이다. 영석이는 칠판에 글자들을 수평으로 일렬로 붙여서 단어를 만든다. 다시 그 아래쪽에 글자들을 붙여서 또 다른 단어를 만든다. 이런 식으로 다섯 개의 단어를 만든다. 아래 그림 1은 영석이가 칠판에 붙여 만든 단어들의 예이다. \n",
        "\n",
        "한 줄의 단어는 글자들을 빈칸 없이 연속으로 나열해서 최대 15개의 글자들로 이루어진다. 또한 만들어진 다섯 개의 단어들의 글자 개수는 서로 다를 수 있다. \n",
        "\n",
        "심심해진 영석이는 칠판에 만들어진 다섯 개의 단어를 세로로 읽으려 한다. 세로로 읽을 때, 각 단어의 첫 번째 글자들을 위에서 아래로 세로로 읽는다. 다음에 두 번째 글자들을 세로로 읽는다. 이런 식으로 왼쪽에서 오른쪽으로 한 자리씩 이동 하면서 동일한 자리의 글자들을 세로로 읽어 나간다. 위의 그림 1의 다섯 번째 자리를 보면 두 번째 줄의 다섯 번째 자리의 글자는 없다. 이런 경우처럼 세로로 읽을 때 해당 자리의 글자가 없으면, 읽지 않고 그 다음 글자를 계속 읽는다. 그림 1의 다섯 번째 자리를 세로로 읽으면 D1gk로 읽는다. \n",
        "\n",
        "그림 1에서 영석이가 세로로 읽은 순서대로 글자들을 공백 없이 출력하면 다음과 같다:\n",
        "\n",
        "Aa0aPAf985Bz1EhCz2W3D1gkD6x\n",
        "\n",
        "칠판에 붙여진 단어들이 주어질 때, 영석이가 세로로 읽은 순서대로 글자들을 출력하는 프로그램을 작성하시오."
      ],
      "metadata": {
        "id": "kBJYg1UhnFNG"
      }
    },
    {
      "cell_type": "code",
      "source": [
        "z = []\n",
        "\n",
        "for _ in range(5):\n",
        "  z.append(input())\n",
        "\n",
        "len_z = 0\n",
        "for i in range(5):\n",
        "  if len(z[i]) >  len_z:\n",
        "    len_z = len(z[i])\n",
        "\n",
        "for i in range(len_z):\n",
        "  for u in range(5):\n",
        "    try:\n",
        "      print(z[u][i], end='')\n",
        "    except:\n",
        "      continue"
      ],
      "metadata": {
        "id": "IktBvMQApdc1"
      },
      "execution_count": null,
      "outputs": []
    },
    {
      "cell_type": "markdown",
      "source": [
        "11655번\n",
        "\n",
        "ROT13은 카이사르 암호의 일종으로 영어 알파벳을 13글자씩 밀어서 만든다.\n",
        "\n",
        "예를 들어, \"Baekjoon Online Judge\"를 ROT13으로 암호화하면 \"Onrxwbba Bayvar Whqtr\"가 된다. ROT13으로 암호화한 내용을 원래 내용으로 바꾸려면 암호화한 문자열을 다시 ROT13하면 된다. 앞에서 암호화한 문자열 \"Onrxwbba Bayvar Whqtr\"에 다시 ROT13을 적용하면 \"Baekjoon Online Judge\"가 된다.\n",
        "\n",
        "ROT13은 알파벳 대문자와 소문자에만 적용할 수 있다. 알파벳이 아닌 글자는 원래 글자 그대로 남아 있어야 한다. 예를 들어, \"One is 1\"을 ROT13으로 암호화하면 \"Bar vf 1\"이 된다.\n",
        "\n",
        "문자열이 주어졌을 때, \"ROT13\"으로 암호화한 다음 출력하는 프로그램을 작성하시오."
      ],
      "metadata": {
        "id": "yEahmymSQsdu"
      }
    },
    {
      "cell_type": "code",
      "source": [
        "for i in input():\n",
        "  if ord(i) == 32:\n",
        "    print(i, end='')\n",
        "  elif 48 <= ord(i) <=57:\n",
        "    print(i, end='')\n",
        "  elif i.isupper() == True:\n",
        "    if ord(i) < 78:\n",
        "      print(chr(ord(i)+13),end='')\n",
        "    else:\n",
        "      print(chr(ord(i)-13),end='')\n",
        "  elif i.isupper() == False:\n",
        "    if ord(i) < 110:\n",
        "      print(chr(ord(i)+13),end='')\n",
        "    else:\n",
        "      print(chr(ord(i)-13),end='')"
      ],
      "metadata": {
        "id": "EdvXP5r1Qxe2"
      },
      "execution_count": null,
      "outputs": []
    },
    {
      "cell_type": "code",
      "source": [
        "s = input()\n",
        "res = ''\n",
        "for c in s:\n",
        "    if 'a' <= c <= 'z':\n",
        "        res += chr((ord(c)+13) if c <= 'm' else ord(c)-13)\n",
        "    elif 'A' <= c <= 'Z':\n",
        "        res += chr((ord(c)+13) if c <= 'M' else ord(c)-13)\n",
        "    else:\n",
        "        res += c\n",
        "print(res)"
      ],
      "metadata": {
        "id": "Xh65HiYfYbwM"
      },
      "execution_count": null,
      "outputs": []
    }
  ]
}