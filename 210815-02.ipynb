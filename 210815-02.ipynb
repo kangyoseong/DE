{
  "nbformat": 4,
  "nbformat_minor": 0,
  "metadata": {
    "colab": {
      "name": "Untitled8.ipynb",
      "provenance": [],
      "authorship_tag": "ABX9TyNmdIGPpcgQsqx/kNL5t/qJ",
      "include_colab_link": true
    },
    "kernelspec": {
      "name": "python3",
      "display_name": "Python 3"
    },
    "language_info": {
      "name": "python"
    }
  },
  "cells": [
    {
      "cell_type": "markdown",
      "metadata": {
        "id": "view-in-github",
        "colab_type": "text"
      },
      "source": [
        "<a href=\"https://colab.research.google.com/github/kangyoseong/DE/blob/main/210815-02.ipynb\" target=\"_parent\"><img src=\"https://colab.research.google.com/assets/colab-badge.svg\" alt=\"Open In Colab\"/></a>"
      ]
    },
    {
      "cell_type": "markdown",
      "metadata": {
        "id": "HcqRrC1tVHkB"
      },
      "source": [
        "FOR문 문제"
      ]
    },
    {
      "cell_type": "code",
      "metadata": {
        "id": "jK6SWwx8mVlT"
      },
      "source": [
        "# 2739번 N을 입력받은 뒤, 구구단 N단을 출력하는 프로그램을 작성하시오. 출력 형식에 맞춰서 출력하면 된다.\n",
        "\n",
        "a = int(input())\n",
        "for i in range(1, 10):\n",
        "  print(f'{a} * {i} = {a*i}')"
      ],
      "execution_count": null,
      "outputs": []
    },
    {
      "cell_type": "code",
      "metadata": {
        "id": "wwRDa1LKoylH"
      },
      "source": [
        "# 15552번 각 테스트케이스마다 A+B를 한 줄에 하나씩 순서대로 출력한다.\n",
        "import sys\n",
        "t = int(sys.stdin.readline())\n",
        "\n",
        "for _ in range(t):\n",
        "  a,b = map(int, sys.stdin.readline().split())\n",
        "  print(a+b)"
      ],
      "execution_count": null,
      "outputs": []
    },
    {
      "cell_type": "code",
      "metadata": {
        "id": "3bbdI2FEm_9i"
      },
      "source": [
        "# 2741번 자연수 N이 주어졌을 때, 1부터 N까지 한 줄에 하나씩 출력하는 프로그램을 작성하시오.\n",
        "import sys\n",
        "a = int(sys.stdin.readline())\n",
        "for i in range(1,a+1):\n",
        "  print(i)\n"
      ],
      "execution_count": null,
      "outputs": []
    },
    {
      "cell_type": "code",
      "metadata": {
        "colab": {
          "base_uri": "https://localhost:8080/"
        },
        "id": "qRjjYIgmyKZL",
        "outputId": "b678577c-b14b-40ea-b21a-6e2199d448a7"
      },
      "source": [
        "# 11021번 두 정수 A와 B를 입력받은 다음, A+B를 출력하는 프로그램을 작성하시오.\n",
        "import sys\n",
        "t = int(sys.stdin.readline())\n",
        "\n",
        "for i in range(t):\n",
        "  a,b = map(int, sys.stdin.readline().split())\n",
        "  print(f'Case #{i+1}:',a+b)"
      ],
      "execution_count": null,
      "outputs": [
        {
          "output_type": "stream",
          "text": [
            "Case #1 5\n",
            "Case #2 5\n",
            "Case #3 5\n"
          ],
          "name": "stdout"
        }
      ]
    },
    {
      "cell_type": "code",
      "metadata": {
        "colab": {
          "base_uri": "https://localhost:8080/"
        },
        "id": "Jg3BVL5eB0JB",
        "outputId": "8f7bf971-f8d6-4340-c2ac-49fb0c9251af"
      },
      "source": [
        "# 10871번 정수 N개로 이루어진 수열 A와 정수 X가 주어진다. 이때, A에서 X보다 작은 수를 모두 출력하는 프로그램을 작성하시오.\n",
        "\n",
        "import sys\n",
        "a,b = map(int, sys.stdin.readline().split())\n",
        "\n",
        "c = list(map(int, sys.stdin.readline().split()))\n",
        "\n",
        "for i in c:\n",
        "  if i < b:\n",
        "    print(i, end=' ')\n"
      ],
      "execution_count": null,
      "outputs": [
        {
          "output_type": "stream",
          "text": [
            "0 1 2 3 4 "
          ],
          "name": "stdout"
        }
      ]
    },
    {
      "cell_type": "markdown",
      "metadata": {
        "id": "cKFdvvKwVClz"
      },
      "source": [
        "WHILE문 문제"
      ]
    },
    {
      "cell_type": "code",
      "metadata": {
        "id": "dbLeN2vuVVn0"
      },
      "source": [
        "# 10952번 두 정수 A와 B를 입력받은 다음, A+B를 출력하는 프로그램을 작성하시오.\n",
        "\n",
        "import sys\n",
        "k=0\n",
        "while k < 2:\n",
        "  a,b = map(int, sys.stdin.readline().split())\n",
        "  if a==0 and b==0:\n",
        "    break\n",
        "  else:\n",
        "    print(a+b)"
      ],
      "execution_count": null,
      "outputs": []
    },
    {
      "cell_type": "code",
      "metadata": {
        "id": "n2OTbr4jVeKu"
      },
      "source": [
        "# 10951번 두 정수 A와 B를 입력받은 다음, A+B를 출력하는 프로그램을 작성하시오.\n",
        "\n",
        "import sys\n",
        "k=0\n",
        "while k < 6:\n",
        "  try:\n",
        "    a,b = map(int, sys.stdin.readline().split())\n",
        "    print(a+b)\n",
        "  except:\n",
        "    break\n"
      ],
      "execution_count": null,
      "outputs": []
    },
    {
      "cell_type": "code",
      "metadata": {
        "id": "jrwtTJwFp0_x",
        "outputId": "76dcef76-dbac-4924-db56-60d2a48570c1",
        "colab": {
          "base_uri": "https://localhost:8080/"
        }
      },
      "source": [
        "# 1110번 더하기 사이클\n",
        "import sys\n",
        "a = int(sys.stdin.readline())\n",
        "a1 = a\n",
        "k = 0\n",
        "\n",
        "while a >= 0:\n",
        "    b = int(a1//100 + (a1%100 - a1%10)/10 + a1%10)\n",
        "    c = a1%10 * 10 + b%10\n",
        "    a1 = c\n",
        "\n",
        "    k = k + 1\n",
        "    if (a == a1): \n",
        "      print(k)\n",
        "      break\n",
        "\n"
      ],
      "execution_count": 81,
      "outputs": [
        {
          "output_type": "stream",
          "text": [
            "4\n"
          ],
          "name": "stdout"
        }
      ]
    }
  ]
}