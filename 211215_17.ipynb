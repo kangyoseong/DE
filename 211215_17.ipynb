{
  "nbformat": 4,
  "nbformat_minor": 0,
  "metadata": {
    "colab": {
      "name": "Untitled34.ipynb",
      "provenance": [],
      "authorship_tag": "ABX9TyPBpu1c2igaPmIGCaxwx6Dd",
      "include_colab_link": true
    },
    "kernelspec": {
      "name": "python3",
      "display_name": "Python 3"
    },
    "language_info": {
      "name": "python"
    }
  },
  "cells": [
    {
      "cell_type": "markdown",
      "metadata": {
        "id": "view-in-github",
        "colab_type": "text"
      },
      "source": [
        "<a href=\"https://colab.research.google.com/github/kangyoseong/DE/blob/main/211215_17.ipynb\" target=\"_parent\"><img src=\"https://colab.research.google.com/assets/colab-badge.svg\" alt=\"Open In Colab\"/></a>"
      ]
    },
    {
      "cell_type": "markdown",
      "source": [
        "15829번\n",
        "\n",
        "APC에 온 것을 환영한다. 만약 여러분이 학교에서 자료구조를 수강했다면 해시 함수에 대해 배웠을 것이다. 해시 함수란 임의의 길이의 입력을 받아서 고정된 길이의 출력을 내보내는 함수로 정의한다. 해시 함수는 무궁무진한 응용 분야를 갖는데, 대표적으로 자료의 저장과 탐색에 쓰인다.\n",
        "\n",
        "이 문제에서는 여러분이 앞으로 유용하게 쓸 수 있는 해시 함수를 하나 가르쳐주고자 한다. 먼저, 편의상 입력으로 들어오는 문자열에는 영문 소문자(a, b, ..., z)로만 구성되어있다고 가정하자. 영어에는 총 26개의 알파벳이 존재하므로 a에는 1, b에는 2, c에는 3, ..., z에는 26으로 고유한 번호를 부여할 수 있다. 결과적으로 우리는 하나의 문자열을 수열로 변환할 수 있다. 예를 들어서 문자열 \"abba\"은 수열 1, 2, 2, 1로 나타낼 수 있다.\n",
        "\n",
        "해시 값을 계산하기 위해서 우리는 문자열 혹은 수열을 하나의 정수로 치환하려고 한다. 간단하게는 수열의 값을 모두 더할 수도 있다. 해시 함수의 정의에서 유한한 범위의 출력을 가져야 한다고 했으니까 적당히 큰 수 M으로 나눠주자. 짜잔! 해시 함수가 완성되었다. 이를 수식으로 표현하면 아래와 같다.\n",
        "\n",
        " \n",
        "\\[H = \\sum_{i=0}^{l-1}{a_i} \\mod M\\] \n",
        "\n",
        "해시 함수의 입력으로 들어올 수 있는 문자열의 종류는 무한하지만 출력 범위는 정해져있다. 다들 비둘기 집의 원리에 대해서는 한 번쯤 들어봤을 것이다. 그 원리에 의하면 서로 다른 문자열이더라도 동일한 해시 값을 가질 수 있다. 이를 해시 충돌이라고 하는데, 좋은 해시 함수는 최대한 충돌이 적게 일어나야 한다. 위에서 정의한 해시 함수는 알파벳의 순서만 바꿔도 충돌이 일어나기 때문에 나쁜 해시 함수이다. 그러니까 조금 더 개선해보자.\n",
        "\n",
        "어떻게 하면 순서가 달라졌을때 출력값도 달라지게 할 수 있을까? 머리를 굴리면 수열의 각 항마다 고유한 계수를 부여하면 된다는 아이디어를 생각해볼 수 있다. 가장 대표적인 방법은 항의 번호에 해당하는 만큼 특정한 숫자를 거듭제곱해서 곱해준 다음 더하는 것이 있다. 이를 수식으로 표현하면 아래와 같다.\n",
        "\n",
        " \n",
        "\\[H = \\sum_{i=0}^{l-1}{a_ir^i} \\mod M\\] \n",
        "\n",
        "보통 r과 M은 서로소인 숫자로 정하는 것이 일반적이다. 우리가 직접 정하라고 하면 힘들테니까 r의 값은 26보다 큰 소수인 31로 하고 M의 값은 1234567891(놀랍게도 소수이다!!)로 하자.\n",
        "\n",
        "이제 여러분이 할 일은 위 식을 통해 주어진 문자열의 해시 값을 계산하는 것이다. 그리고 이 함수는 간단해 보여도 자주 쓰이니까 기억해뒀다가 잘 써먹도록 하자."
      ],
      "metadata": {
        "id": "LiSvj5WUFXfK"
      }
    },
    {
      "cell_type": "code",
      "source": [
        "#내거\n",
        "L = int(input())-1\n",
        "word = input()\n",
        "ans = 0\n",
        "for i in word[::-1]:\n",
        "  ans += (ord(i)-96)*31**L\n",
        "  L-=1\n",
        "print(ans % 1234567891)#이게 왜 들어가는지는 아직도 알수가 없다. 내가 들 배웠나보다."
      ],
      "metadata": {
        "id": "CQuO_VOFFb7I"
      },
      "execution_count": null,
      "outputs": []
    },
    {
      "cell_type": "markdown",
      "source": [
        "2846번\n",
        "\n",
        "상근이는 자전거를 타고 등교한다. 자전거 길은 오르막길, 내리막길, 평지로 이루어져 있다. 상근이는 개강 첫 날 자전거를 타고 가면서 일정 거리마다 높이를 측정했다. 상근이는 가장 큰 오르막길의 크기를 구하려고 한다.\n",
        "\n",
        "측정한 높이는 길이가 N인 수열로 나타낼 수 있다. 여기서 오르막길은 적어도 2개의 수로 이루어진 높이가 증가하는 부분 수열이다. 오르막길의 크기는 부분 수열의 첫 번째 숫자와 마지막 숫자의 차이이다.\n",
        "\n",
        "예를 들어, 높이가 다음과 같은 길이 있다고 하자. 12 3 5 7 10 6 1 11. 이 길에는 2 개의 오르막길이 있다. 밑 줄로 표시된 부분 수열이 오르막길이다. 첫 번째 오르막길의 크기는 7이고, 두 번째 오르막길의 크기는 10이다. 높이가 12와 6인 곳은 오르막길에 속하지 않는다.\n",
        "\n",
        "가장 큰 오르막길을 구하는 프로그램을 작성하시오."
      ],
      "metadata": {
        "id": "HwPzwkgUNCn_"
      }
    },
    {
      "cell_type": "code",
      "source": [
        "n = int(input())\n",
        "p = list(map(int,input().split())) \n",
        "z = []\n",
        "h = 0\n",
        "for i in range(1,n):\n",
        "  if p[i-1] < p[i]:\n",
        "    h += (p[i]-p[i-1])\n",
        "    if i==n-1:\n",
        "      z.append(h)\n",
        "  else:\n",
        "    z.append(h)\n",
        "    h = 0\n",
        "print(max(z))"
      ],
      "metadata": {
        "id": "HhBL6cDtNGDd"
      },
      "execution_count": null,
      "outputs": []
    },
    {
      "cell_type": "markdown",
      "source": [
        "4999번\n",
        "\n",
        "재환이는 저스틴 비버 콘서트에서 소리를 너무 많이 질러서 인후염에 걸렸다.\n",
        "\n",
        "의사는 재환이에게 \"aaah\"를 말해보라고 시켰다. 안타깝게도 재환이는 의사가 원하는만큼 소리를 길게 낼 수 없는 경우가 있었다.\n",
        "\n",
        "각각의 의사는 재환이에게 특정한 길이의 \"aah\"를 말해보라고 요청한다. 어떤 의사는 \"aaaaaah\"를 요구하기도 하고, \"h\"만 요구하는 의사도 있다.\n",
        "\n",
        "모든 의사는 자신이 원하는 길이의 \"aah\"를 듣지 못하면 진단을 내릴 수 없다.\n",
        "\n",
        "따라서, 재환이는 집에서 자신이 얼마나 길게 \"aah\"를 낼 수 있는지 알아냈고, 자기가 소리낼 수 있는 길이의 \"aah\"를 요구하는 의사를 방문하려고 한다.\n",
        "\n",
        "재환이가 낼 수 있는 \"aah\"의 길이와 의사가 요구하는 길이가 주어진다. 이때, 그 병원에 가야하는지 말아야하는지를 알아내는 프로그램을 작성하시오."
      ],
      "metadata": {
        "id": "rXYmElvcUS5Q"
      }
    },
    {
      "cell_type": "code",
      "source": [
        "if len(input()) >= len(input()):\n",
        "  print('go')\n",
        "else:\n",
        "  print('no')"
      ],
      "metadata": {
        "id": "dGJ3HmNUUWSR"
      },
      "execution_count": null,
      "outputs": []
    },
    {
      "cell_type": "markdown",
      "source": [
        "2161번\n",
        "\n",
        "N장의 카드가 있다. 각각의 카드는 차례로 1부터 N까지의 번호가 붙어 있으며, 1번 카드가 제일 위에, N번 카드가 제일 아래인 상태로 순서대로 카드가 놓여 있다.\n",
        "\n",
        "이제 다음과 같은 동작을 카드가 한 장 남을 때까지 반복하게 된다. 우선, 제일 위에 있는 카드를 바닥에 버린다. 그 다음, 제일 위에 있는 카드를 제일 아래에 있는 카드 밑으로 옮긴다.\n",
        "\n",
        "예를 들어 N=4인 경우를 생각해 보자. 카드는 제일 위에서부터 1234 의 순서로 놓여있다. 1을 버리면 234가 남는다. 여기서 2를 제일 아래로 옮기면 342가 된다. 3을 버리면 42가 되고, 4를 밑으로 옮기면 24가 된다. 마지막으로 2를 버리고 나면, 버린 카드들은 순서대로 1 3 2가 되고, 남는 카드는 4가 된다.\n",
        "\n",
        "N이 주어졌을 때, 버린 카드들을 순서대로 출력하고, 마지막에 남게 되는 카드를 출력하는 프로그램을 작성하시오."
      ],
      "metadata": {
        "id": "UHlE3EOZU9qi"
      }
    },
    {
      "cell_type": "code",
      "source": [
        "n = int(input())\n",
        "z = [i for i in range(1,n+1)]\n",
        "z1 = []\n",
        "while len(z)!=1:\n",
        "  z1.append(z.pop(0))\n",
        "  z.append(z.pop(0))\n",
        "\n",
        "for i in z1:\n",
        "  print(i,end=' ')\n",
        "print(z[0])"
      ],
      "metadata": {
        "id": "60cNkOy0VDqh"
      },
      "execution_count": null,
      "outputs": []
    },
    {
      "cell_type": "markdown",
      "source": [
        "13300번\n",
        "\n",
        "정보 초등학교에서는 단체로 2박 3일 수학여행을 가기로 했다. 여러 학년이 같은 장소로 수학여행을 가려고 하는데 1학년부터 6학년까지 학생들이 묵을 방을 배정해야 한다. 남학생은 남학생끼리, 여학생은 여학생끼리 방을 배정해야 한다. 또한 한 방에는 같은 학년의 학생들을 배정해야 한다. 물론 한 방에 한 명만 배정하는 것도 가능하다.\n",
        "\n",
        "한 방에 배정할 수 있는 최대 인원 수 K가 주어졌을 때, 조건에 맞게 모든 학생을 배정하기 위해 필요한 방의 최소 개수를 구하는 프로그램을 작성하시오.\n",
        "\n",
        "예를 들어, 수학여행을 가는 학생이 다음과 같고 K = 2일 때 12개의 방이 필요하다. 왜냐하면 3학년 남학생을 배정하기 위해 방 두 개가 필요하고 4학년 여학생에는 방을 배정하지 않아도 되기 때문이다.\n",
        "\n",
        "학년\t여학생\t남학생\n",
        "1학년\t영희\t동호, 동진\n",
        "2학년\t혜진, 상희\t경수\n",
        "3학년\t경희\t동수, 상철, 칠복\n",
        "4학년\t \t달호\n",
        "5학년\t정숙\t호동, 건우\n",
        "6학년\t수지\t동건"
      ],
      "metadata": {
        "id": "HQ_euDDcfMSQ"
      }
    },
    {
      "cell_type": "code",
      "source": [
        "import math\n",
        "n, k = map(int, input().split())\n",
        "m = [0]*6\n",
        "w = [0]*6\n",
        "cnt = 0\n",
        "for _ in range(n):\n",
        "  s, y = map(int, input().split())\n",
        "  if s == 0:\n",
        "    m[y-1] += 1\n",
        "  elif s == 1:\n",
        "    w[y-1] +=1\n",
        "for u in w:\n",
        "  cnt += math.ceil(u/k)\n",
        "\n",
        "for q in m:\n",
        "  cnt += math.ceil(q/k)\n",
        "\n",
        "print(cnt)"
      ],
      "metadata": {
        "id": "UgveYBFJfSog"
      },
      "execution_count": null,
      "outputs": []
    },
    {
      "cell_type": "code",
      "source": [
        "#n: student num\n",
        "#k : max people# in one room\n",
        "n, k = map(int, input().split())\n",
        "st = [[0]*2 for _ in range(6)] #성별2개 6학년\n",
        "\n",
        "#입력\n",
        "for _ in range(n):\n",
        "    # st[학년][성별]\n",
        "    s,y= map(int, input().split())\n",
        "    st[y-1][s-1] += 1\n",
        "#    print(st[y-1][s-1])\n",
        "\n",
        "room_num=0\n",
        "for a in range(6):#학년\n",
        "    for b in range(2):#성별\n",
        "        #print(st[a][b])\n",
        "        #math.ceil써도 :)\n",
        "        if(st[a][b]%k == 0):\n",
        "            room_num += st[a][b]/k\n",
        "        else:\n",
        "            room_num += st[a][b]//k + 1\n",
        "print(int(room_num))"
      ],
      "metadata": {
        "colab": {
          "base_uri": "https://localhost:8080/"
        },
        "id": "_lsZ7VlJcv1S",
        "outputId": "80afff78-0023-4366-935b-c2ffb83e4c90"
      },
      "execution_count": 155,
      "outputs": [
        {
          "output_type": "stream",
          "name": "stdout",
          "text": [
            "3 3\n",
            "0 6\n",
            "1 3\n",
            "2 1\n",
            "3\n"
          ]
        }
      ]
    },
    {
      "cell_type": "code",
      "source": [
        "st"
      ],
      "metadata": {
        "colab": {
          "base_uri": "https://localhost:8080/"
        },
        "id": "PnWQ7I5Cc65z",
        "outputId": "8d5880ab-97f4-4580-9c34-18fae9236a9e"
      },
      "execution_count": 156,
      "outputs": [
        {
          "output_type": "execute_result",
          "data": {
            "text/plain": [
              "[[0, 1], [0, 0], [1, 0], [0, 0], [0, 0], [0, 1]]"
            ]
          },
          "metadata": {},
          "execution_count": 156
        }
      ]
    }
  ]
}