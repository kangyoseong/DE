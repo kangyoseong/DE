{
  "nbformat": 4,
  "nbformat_minor": 0,
  "metadata": {
    "colab": {
      "name": "Untitled31.ipynb",
      "provenance": [],
      "authorship_tag": "ABX9TyNJgffwiwq1tohJf8aJglT7",
      "include_colab_link": true
    },
    "kernelspec": {
      "name": "python3",
      "display_name": "Python 3"
    },
    "language_info": {
      "name": "python"
    }
  },
  "cells": [
    {
      "cell_type": "markdown",
      "metadata": {
        "id": "view-in-github",
        "colab_type": "text"
      },
      "source": [
        "<a href=\"https://colab.research.google.com/github/kangyoseong/DE/blob/main/211211_14.ipynb\" target=\"_parent\"><img src=\"https://colab.research.google.com/assets/colab-badge.svg\" alt=\"Open In Colab\"/></a>"
      ]
    },
    {
      "cell_type": "markdown",
      "source": [
        "1373번\n",
        "\n",
        "2진수가 주어졌을 때, 8진수로 변환하는 프로그램을 작성하시오."
      ],
      "metadata": {
        "id": "zirIgs4Hj11Q"
      }
    },
    {
      "cell_type": "code",
      "source": [
        "#그냥 의욕없어서 가져옴\n",
        "\n",
        "print(oct(int(input(), 2))[2:])\n",
        "\n"
      ],
      "metadata": {
        "id": "uIRiKLqHj5Y9"
      },
      "execution_count": null,
      "outputs": []
    },
    {
      "cell_type": "markdown",
      "source": [
        "7567번\n",
        "\n",
        "그릇을 바닥에 놓았을 때 그 높이는 10cm 이다. 그런데 두 개의 그릇을 같은 방향으로 포개면 그 높이는 5cm만 증가된다. 만일 그릇이 서로 반대방향으로 쌓이면 높이는 그릇만큼, 즉 10cm 늘어난다. 그릇을 괄호 기호로 나타내어 설명해보자. 편의상 그릇이 쌓여지는 방향은 왼쪽에서 오른쪽이라고 가정한다. 그림에서 ‘(’은 그릇이 바닥에 바로 놓인 상태를 나타내며, ‘)’은 그릇이 거꾸로 놓인 상태를 나타낸다.\n",
        "\n",
        "만일 그릇이 포개진 모양이 ((((와 같다면 전체의 높이는 25cm가 된다. 왜냐하면 처음 바닥에 있는 그릇의 높이가 10cm이고 이후 같은 방향으로 3개의 그릇이 포개져 있으므로 늘어난 높이는 5+5+5=15 이기 때문이다. ()()와 같은 경우라면 그 높이는 10*4=40cm가 된다.\n",
        "\n",
        "여러분은 입력에 주어진 모양대로 그릇을 쌓을 때 최종의 전체 그릇 높이를 계산해서 출력해야 한다. 즉 처음 입력으로 주어진 각 그릇의 방향은 바꿀 수 없다. "
      ],
      "metadata": {
        "id": "8yyBZwI_qAnP"
      }
    },
    {
      "cell_type": "code",
      "source": [
        "#내가 한거\n",
        "g = input()\n",
        "a = g[0]\n",
        "cnt = 0\n",
        "for i in g:\n",
        "  if i==a:\n",
        "    cnt += 5\n",
        "    a = i\n",
        "  else:\n",
        "    cnt += 10\n",
        "    a = i\n",
        "\n",
        "print(cnt+5)"
      ],
      "metadata": {
        "id": "_MpMvOI1qMI1"
      },
      "execution_count": null,
      "outputs": []
    },
    {
      "cell_type": "code",
      "source": [
        "dish = list(str(input()))\n",
        "answer = 0\n",
        "\n",
        "for i in range(len(dish)):\n",
        "    if i == 0:\n",
        "        answer += 10\n",
        "    elif dish[i] == dish[i-1]:\n",
        "        answer += 5\n",
        "    else:\n",
        "        answer += 10\n",
        "        \n",
        "print(answer)\n"
      ],
      "metadata": {
        "id": "NVK_eqBquW6-"
      },
      "execution_count": null,
      "outputs": []
    },
    {
      "cell_type": "markdown",
      "source": [
        "1075번\n",
        "\n",
        "두 정수 N과 F가 주어진다. 지민이는 정수 N의 가장 뒤 두 자리를 적절히 바꿔서 N을 F로 나누어 떨어지게 만들려고 한다. 만약 가능한 것이 여러 가지이면, 뒤 두 자리를 가능하면 작게 만들려고 한다.\n",
        "\n",
        "예를 들어, N=275이고, F=5이면, 답은 00이다. 200이 5로 나누어 떨어지기 때문이다. N=1021이고, F=11이면, 정답은 01인데, 1001이 11로 나누어 떨어지기 때문이다."
      ],
      "metadata": {
        "id": "pv8wBFn3uwaT"
      }
    },
    {
      "cell_type": "code",
      "source": [
        "#내거\n",
        "n = input()\n",
        "f = int(input())\n",
        "for i in range(100):\n",
        "  if i < 10:\n",
        "    i = '0'+ str(i)\n",
        "    l = len(n)-2\n",
        "    if int(n[:l]+i)%f==0:\n",
        "      print(i)\n",
        "      break\n",
        "  else:\n",
        "    l = len(n)-2\n",
        "    if int(n[:l]+str(i))%f==0:\n",
        "      print(str(i))\n",
        "      break"
      ],
      "metadata": {
        "id": "7BDiEtAiu4yV"
      },
      "execution_count": null,
      "outputs": []
    },
    {
      "cell_type": "code",
      "source": [
        "n = input()\n",
        "f = int(input())\n",
        "a = int(n[:-2] + '00')\n",
        "while True:\n",
        "    if a % f == 0:\n",
        "        break\n",
        "    a += 1\n",
        "print(str(a)[-2:])"
      ],
      "metadata": {
        "id": "ZUA6MNV800MO"
      },
      "execution_count": null,
      "outputs": []
    },
    {
      "cell_type": "markdown",
      "source": [
        "5597번\n",
        "\n",
        "X대학 M교수님은 프로그래밍 수업을 맡고 있다. 교실엔 학생이 30명이 있는데, 학생 명부엔 각 학생별로 1번부터 30번까지 출석번호가 붙어 있다.\n",
        "\n",
        "교수님이 내준 특별과제를 28명이 제출했는데, 그 중에서 제출 안 한 학생 2명의 출석번호를 구하는 프로그램을 작성하시오."
      ],
      "metadata": {
        "id": "onJxETGp52de"
      }
    },
    {
      "cell_type": "code",
      "source": [
        "#다른 사람이 푼게 훨씬 좋아서 이렇게 남김\n",
        "a = [i for i in range(1, 31)]\n",
        "\n",
        "for _ in range(28):\n",
        "  a.remove(int(input()))\n",
        "print(min(a))\n",
        "print(max(a))"
      ],
      "metadata": {
        "id": "femYylEy5_F_"
      },
      "execution_count": null,
      "outputs": []
    },
    {
      "cell_type": "markdown",
      "source": [
        "2745번\n",
        "\n",
        "B진법 수 N이 주어진다. 이 수를 10진법으로 바꿔 출력하는 프로그램을 작성하시오.\n",
        "\n",
        "10진법을 넘어가는 진법은 숫자로 표시할 수 없는 자리가 있다. 이런 경우에는 다음과 같이 알파벳 대문자를 사용한다.\n",
        "\n",
        "A: 10, B: 11, ..., F: 15, ..., Y: 34, Z: 35"
      ],
      "metadata": {
        "id": "60KwK59YKNjM"
      }
    },
    {
      "cell_type": "code",
      "source": [
        "#내거\n",
        "n, b =input().split( )\n",
        "b = int(b)\n",
        "result, cnt = 0, 0\n",
        "\n",
        "for i in n[::-1]:\n",
        "  if 65 <= ord(i) <= 90:\n",
        "    i1 = ord(i)-55\n",
        "    result += i1*(b**cnt)\n",
        "    cnt += 1\n",
        "  else:\n",
        "    i2 = int(i)\n",
        "    result += i2*(b**cnt)\n",
        "    cnt += 1\n",
        "\n",
        "print(result)"
      ],
      "metadata": {
        "id": "dwAc7VIwOn5s"
      },
      "execution_count": null,
      "outputs": []
    },
    {
      "cell_type": "code",
      "source": [
        "n, b =input().split( )\n",
        "n = n[::-1]\n",
        "b = int(b)\n",
        "\n",
        "table = '0123456789ABCDEFGHIJKLMNOPQRSTUVWXYZ'\n",
        "\n",
        "res = 0\n",
        "for i in range(len(n)):\n",
        "  res += table.index(n[i]) * (b**i)\n",
        "\n",
        "print(res)"
      ],
      "metadata": {
        "id": "8-wM_UbFUDnA"
      },
      "execution_count": null,
      "outputs": []
    }
  ]
}