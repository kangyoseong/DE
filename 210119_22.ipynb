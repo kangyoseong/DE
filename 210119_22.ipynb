{
  "nbformat": 4,
  "nbformat_minor": 0,
  "metadata": {
    "colab": {
      "name": "Untitled42.ipynb",
      "provenance": [],
      "authorship_tag": "ABX9TyMKFVAVHB3Qr2t8UkOpD6VC",
      "include_colab_link": true
    },
    "kernelspec": {
      "name": "python3",
      "display_name": "Python 3"
    },
    "language_info": {
      "name": "python"
    }
  },
  "cells": [
    {
      "cell_type": "markdown",
      "metadata": {
        "id": "view-in-github",
        "colab_type": "text"
      },
      "source": [
        "<a href=\"https://colab.research.google.com/github/kangyoseong/DE/blob/main/210119_22.ipynb\" target=\"_parent\"><img src=\"https://colab.research.google.com/assets/colab-badge.svg\" alt=\"Open In Colab\"/></a>"
      ]
    },
    {
      "cell_type": "markdown",
      "source": [
        "무한히 큰 배열에 다음과 같이 분수들이 적혀있다.\n",
        "\n",
        "1/1\t1/2\t1/3\t1/4\t1/5\t…\n",
        "2/1\t2/2\t2/3\t2/4\t…\t…\n",
        "3/1\t3/2\t3/3\t…\t…\t…\n",
        "4/1\t4/2\t…\t…\t…\t…\n",
        "5/1\t…\t…\t…\t…\t…\n",
        "…\t…\t…\t…\t…\t…\n",
        "이와 같이 나열된 분수들을 1/1 → 1/2 → 2/1 → 3/1 → 2/2 → … 과 같은 지그재그 순서로 차례대로 1번, 2번, 3번, 4번, 5번, … 분수라고 하자.\n",
        "\n",
        "X가 주어졌을 때, X번째 분수를 구하는 프로그램을 작성하시오."
      ],
      "metadata": {
        "id": "XALgm6A-0-UW"
      }
    },
    {
      "cell_type": "code",
      "source": [
        "X=int(input())\n",
        "\n",
        "line=1\n",
        "while X>line:\n",
        "    X-=line\n",
        "    line+=1\n",
        "    \n",
        "if line%2==0:\n",
        "    a=X\n",
        "    b=line-X+1\n",
        "else:\n",
        "    a=line-X+1\n",
        "    b=X\n",
        "    \n",
        "print(a, '/', b, sep='')"
      ],
      "metadata": {
        "id": "UVcme1V3aasQ"
      },
      "execution_count": null,
      "outputs": []
    }
  ]
}