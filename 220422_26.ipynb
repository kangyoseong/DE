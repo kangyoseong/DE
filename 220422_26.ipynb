{
  "nbformat": 4,
  "nbformat_minor": 0,
  "metadata": {
    "colab": {
      "name": "Untitled47.ipynb",
      "provenance": [],
      "authorship_tag": "ABX9TyODnt5VbNCg3ENtyy0Lkf9E",
      "include_colab_link": true
    },
    "kernelspec": {
      "name": "python3",
      "display_name": "Python 3"
    },
    "language_info": {
      "name": "python"
    }
  },
  "cells": [
    {
      "cell_type": "markdown",
      "metadata": {
        "id": "view-in-github",
        "colab_type": "text"
      },
      "source": [
        "<a href=\"https://colab.research.google.com/github/kangyoseong/DE/blob/main/220422_26.ipynb\" target=\"_parent\"><img src=\"https://colab.research.google.com/assets/colab-badge.svg\" alt=\"Open In Colab\"/></a>"
      ]
    },
    {
      "cell_type": "markdown",
      "source": [
        "2563번\n",
        "\n",
        "가로, 세로의 크기가 각각 100인 정사각형 모양의 흰색 도화지가 있다. 이 도화지 위에 가로, 세로의 크기가 각각 10인 정사각형 모양의 검은색 색종이를 색종이의 변과 도화지의 변이 평행하도록 붙인다. 이러한 방식으로 색종이를 한 장 또는 여러 장 붙인 후 색종이가 붙은 검은 영역의 넓이를 구하는 프로그램을 작성하시오.\n",
        "\n",
        "\n",
        "\n",
        "예를 들어 흰색 도화지 위에 세 장의 검은색 색종이를 그림과 같은 모양으로 붙였다면 검은색 영역의 넓이는 260이 된다."
      ],
      "metadata": {
        "id": "3EX_6yxkAilg"
      }
    },
    {
      "cell_type": "code",
      "source": [
        "a = int(input())\n",
        "\n",
        "white = [[0 for _ in range(101)]for _ in range(101)]\n",
        "for _ in range(a):  \n",
        "  x, y = map(int, input().split())\n",
        "\n",
        "  for i in range(x, x+10):\n",
        "    for u in range(y, y+10):\n",
        "      white[i][u] = 1\n",
        "\n",
        "count = 0\n",
        "for z in white:\n",
        "  count += z.count(1)\n",
        "\n",
        "print(count)\n",
        "\n"
      ],
      "metadata": {
        "id": "es4-sDrvAoBJ"
      },
      "execution_count": null,
      "outputs": []
    },
    {
      "cell_type": "markdown",
      "source": [
        "9093번\n",
        "\n",
        "문장이 주어졌을 때, 단어를 모두 뒤집어서 출력하는 프로그램을 작성하시오. 단, 단어의 순서는 바꿀 수 없다. 단어는 영어 알파벳으로만 이루어져 있다."
      ],
      "metadata": {
        "id": "OYmq-Zi3IVML"
      }
    },
    {
      "cell_type": "code",
      "source": [
        "a = int(input())\n",
        "for _ in range(a):\n",
        "  lst = []\n",
        "  lst1 = []\n",
        "  lst = input().split()\n",
        "  for i in lst:\n",
        "    lst1.append(i[::-1])\n",
        "  print(' '.join(lst1))\n"
      ],
      "metadata": {
        "id": "bs__bY3yI1Tc"
      },
      "execution_count": null,
      "outputs": []
    }
  ]
}