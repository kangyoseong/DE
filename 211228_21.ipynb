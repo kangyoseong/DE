{
  "nbformat": 4,
  "nbformat_minor": 0,
  "metadata": {
    "colab": {
      "name": "Untitled40.ipynb",
      "provenance": [],
      "authorship_tag": "ABX9TyMZ99Dnf2X//kogWP1SzJPM",
      "include_colab_link": true
    },
    "kernelspec": {
      "name": "python3",
      "display_name": "Python 3"
    },
    "language_info": {
      "name": "python"
    }
  },
  "cells": [
    {
      "cell_type": "markdown",
      "metadata": {
        "id": "view-in-github",
        "colab_type": "text"
      },
      "source": [
        "<a href=\"https://colab.research.google.com/github/kangyoseong/DE/blob/main/211228_21.ipynb\" target=\"_parent\"><img src=\"https://colab.research.google.com/assets/colab-badge.svg\" alt=\"Open In Colab\"/></a>"
      ]
    },
    {
      "cell_type": "markdown",
      "source": [
        "1924번\n",
        "\n",
        "오늘은 2007년 1월 1일 월요일이다. 그렇다면 2007년 x월 y일은 무슨 요일일까? 이를 알아내는 프로그램을 작성하시오."
      ],
      "metadata": {
        "id": "UC3O-4pvf0KM"
      }
    },
    {
      "cell_type": "code",
      "execution_count": null,
      "metadata": {
        "id": "M1tE7bXCfb1g"
      },
      "outputs": [],
      "source": [
        "week = ['SUN', 'MON', 'TUE', 'WED', 'THU', 'FRI', 'SAT']\n",
        "month = [31, 28, 31, 30, 31, 30, 31, 31, 30, 31, 30, 31]\n",
        "x, y = map(int,input().split())\n",
        "day = 0\n",
        "for i in range(0,x-1):\n",
        "  day += month[i]\n",
        "\n",
        "day += y\n",
        "print(week[day%7])"
      ]
    },
    {
      "cell_type": "markdown",
      "source": [
        "2869번\n",
        "\n",
        "땅 위에 달팽이가 있다. 이 달팽이는 높이가 V미터인 나무 막대를 올라갈 것이다.\n",
        "\n",
        "달팽이는 낮에 A미터 올라갈 수 있다. 하지만, 밤에 잠을 자는 동안 B미터 미끄러진다. 또, 정상에 올라간 후에는 미끄러지지 않는다.\n",
        "\n",
        "달팽이가 나무 막대를 모두 올라가려면, 며칠이 걸리는지 구하는 프로그램을 작성하시오."
      ],
      "metadata": {
        "id": "Mo8OkNm1AQy4"
      }
    },
    {
      "cell_type": "code",
      "source": [
        "#가능은 한데 시간이 너무 걸려서 탈락\n",
        "\n",
        "a, b, v = map(int,input().split())\n",
        "day = 0\n",
        "while True:\n",
        "  day += 1\n",
        "  if v-a <= 0:\n",
        "    break\n",
        "  else:\n",
        "    v = v-a+b\n",
        "\n",
        "print(day)"
      ],
      "metadata": {
        "id": "YzRVcteFAWYj"
      },
      "execution_count": null,
      "outputs": []
    },
    {
      "cell_type": "code",
      "source": [
        "#나눗셈으로 전환하니 성공!\n",
        "\n",
        "a, b, v = map(int,input().split())\n",
        "v1 = v-a\n",
        "n = a-b\n",
        "if v1%n ==0:\n",
        "  print(int(v1/n)+1)\n",
        "else:\n",
        "  print(int(v1//n)+2)"
      ],
      "metadata": {
        "id": "kyWY2x5QDfUr"
      },
      "execution_count": null,
      "outputs": []
    },
    {
      "cell_type": "code",
      "source": [
        "a,b,v = map(int,input().split())\n",
        "k = 0\t#올라가는 데 걸리는 일수\n",
        "d = 0\t#올라간 높이\n",
        "while 1:\n",
        "    k+=1\n",
        "    if a*k-b*(k-1)>=v:\n",
        "        break\n",
        "print(k)"
      ],
      "metadata": {
        "id": "uqkTMBQG3rE0"
      },
      "execution_count": null,
      "outputs": []
    }
  ]
}