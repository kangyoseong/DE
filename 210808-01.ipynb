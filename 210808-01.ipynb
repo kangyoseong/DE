{
  "nbformat": 4,
  "nbformat_minor": 0,
  "metadata": {
    "colab": {
      "name": "Untitled6.ipynb",
      "provenance": [],
      "authorship_tag": "ABX9TyN/ruPq/ICMfWyzTBwlTCBC",
      "include_colab_link": true
    },
    "kernelspec": {
      "name": "python3",
      "display_name": "Python 3"
    },
    "language_info": {
      "name": "python"
    }
  },
  "cells": [
    {
      "cell_type": "markdown",
      "metadata": {
        "id": "view-in-github",
        "colab_type": "text"
      },
      "source": [
        "<a href=\"https://colab.research.google.com/github/kangyoseong/DE/blob/main/210808-01.ipynb\" target=\"_parent\"><img src=\"https://colab.research.google.com/assets/colab-badge.svg\" alt=\"Open In Colab\"/></a>"
      ]
    },
    {
      "cell_type": "code",
      "metadata": {
        "id": "sIO4q2d7VTaG"
      },
      "source": [
        "#1330 두 정수 A와 B가 주어졌을 때, A와 B를 비교하는 프로그램을 작성하시오.\n",
        "\n",
        "a,b = map(int,input().split())\n",
        "\n",
        "if a > b:\n",
        "  print('>')\n",
        "elif a < b:\n",
        "  print('<')\n",
        "else:\n",
        "  print('==')"
      ],
      "execution_count": null,
      "outputs": []
    },
    {
      "cell_type": "code",
      "metadata": {
        "id": "MQ4MczdJVj_4"
      },
      "source": [
        "#9498 시험 점수를 입력받아 90 ~ 100점은 A, 80 ~ 89점은 B, 70 ~ 79점은 C, 60 ~ 69점은 D, 나머지 점수는 F를 출력하는 프로그램을 작성하시오.\n",
        "\n",
        "a = int(input())\n",
        "if a >= 90:\n",
        "  print('A')\n",
        "elif 90 > a >=80:\n",
        "  print('B')\n",
        "elif 80 > a >=70:\n",
        "  print('C')\n",
        "elif 70 > a >=60:\n",
        "  print('D')  \n",
        "else:\n",
        "  print('F') "
      ],
      "execution_count": null,
      "outputs": []
    },
    {
      "cell_type": "code",
      "metadata": {
        "id": "JPrpN1TrVtLb"
      },
      "source": [
        "#2753 윤년\n",
        "\n",
        "a = int(input())\n",
        "if a%4 == 0 and a%100 != 0:\n",
        "  print(1)\n",
        "elif a%400 == 0:\n",
        "  print(1)\n",
        "else:\n",
        "  print(0)"
      ],
      "execution_count": null,
      "outputs": []
    },
    {
      "cell_type": "code",
      "metadata": {
        "id": "XW0OmAOFWFX1"
      },
      "source": [
        "#14681 사분면고르기\n",
        "\n",
        "a = int(input())\n",
        "b = int(input())\n",
        "\n",
        "if a>0 and b>0:\n",
        "  print(1)\n",
        "elif a>0 and b<0:\n",
        "  print(4)\n",
        "elif a<0 and b>0:\n",
        "  print(2)\n",
        "elif a<0 and b<0:\n",
        "  print(3)\n",
        "  "
      ],
      "execution_count": null,
      "outputs": []
    },
    {
      "cell_type": "code",
      "metadata": {
        "id": "paEnvETdWTf0"
      },
      "source": [
        "#2884 알람시계\n",
        "\n",
        "a,b = map(int,input().split())\n",
        "\n",
        "if b >= 45:\n",
        "  print(a, b-45)\n",
        "elif a==0 and b<45:\n",
        "  print(23, b+15)\n",
        "else:\n",
        "  print(a-1, b+15)"
      ],
      "execution_count": null,
      "outputs": []
    }
  ]
}