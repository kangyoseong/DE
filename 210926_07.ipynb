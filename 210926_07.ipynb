{
  "nbformat": 4,
  "nbformat_minor": 0,
  "metadata": {
    "colab": {
      "name": "Untitled21.ipynb",
      "provenance": [],
      "authorship_tag": "ABX9TyNGWayLY8PAsbWwLr4Nklux",
      "include_colab_link": true
    },
    "kernelspec": {
      "name": "python3",
      "display_name": "Python 3"
    },
    "language_info": {
      "name": "python"
    }
  },
  "cells": [
    {
      "cell_type": "markdown",
      "metadata": {
        "id": "view-in-github",
        "colab_type": "text"
      },
      "source": [
        "<a href=\"https://colab.research.google.com/github/kangyoseong/DE/blob/main/210926_07.ipynb\" target=\"_parent\"><img src=\"https://colab.research.google.com/assets/colab-badge.svg\" alt=\"Open In Colab\"/></a>"
      ]
    },
    {
      "cell_type": "markdown",
      "metadata": {
        "id": "0DcJrrAskJat"
      },
      "source": [
        "2739번\n",
        "\n",
        "N을 입력받은 뒤, 구구단 N단을 출력하는 프로그램을 작성하시오. 출력 형식에 맞춰서 출력하면 된다."
      ]
    },
    {
      "cell_type": "code",
      "metadata": {
        "id": "m93hgNA4kNbs"
      },
      "source": [
        "N = int(input())\n",
        "\n",
        "for i in range(1,10):\n",
        "  z = N * i\n",
        "  print(f'{N} * {i} = {z}')"
      ],
      "execution_count": null,
      "outputs": []
    },
    {
      "cell_type": "markdown",
      "metadata": {
        "id": "zHMjA1ybk9Zz"
      },
      "source": [
        "2438번\n",
        "\n"
      ]
    },
    {
      "cell_type": "code",
      "metadata": {
        "id": "umWFyapalHSF"
      },
      "source": [
        "N = int(input())\n",
        "\n",
        "for i in range(1, N+1):\n",
        "  print(i*'*')"
      ],
      "execution_count": null,
      "outputs": []
    },
    {
      "cell_type": "markdown",
      "metadata": {
        "id": "ByXPc-Ayombw"
      },
      "source": [
        "2741번\n",
        "\n",
        "자연수 N이 주어졌을 때, 1부터 N까지 한 줄에 하나씩 출력하는 프로그램을 작성하시오."
      ]
    },
    {
      "cell_type": "code",
      "metadata": {
        "id": "-egnAwcMoumN"
      },
      "source": [
        "N = int(input())\n",
        "for i in range(1, N+1):\n",
        "  print(i)"
      ],
      "execution_count": null,
      "outputs": []
    },
    {
      "cell_type": "markdown",
      "metadata": {
        "id": "vMaUr9gNpFo3"
      },
      "source": [
        "2439번\n",
        "\n",
        "첫째 줄에는 별 1개, 둘째 줄에는 별 2개, N번째 줄에는 별 N개를 찍는 문제\n",
        "\n",
        "하지만, 오른쪽을 기준으로 정렬한 별(예제 참고)을 출력하시오."
      ]
    },
    {
      "cell_type": "code",
      "metadata": {
        "id": "zjqQqGiDpJU7"
      },
      "source": [
        "N = int(input())\n",
        "\n",
        "for i in range(1, N+1):\n",
        "  print((N-i)*' '+i*'*')"
      ],
      "execution_count": null,
      "outputs": []
    },
    {
      "cell_type": "markdown",
      "metadata": {
        "id": "ZuKjMzp-pmK4"
      },
      "source": [
        "2742번\n",
        "\n",
        "자연수 N이 주어졌을 때, N부터 1까지 한 줄에 하나씩 출력하는 프로그램을 작성하시오."
      ]
    },
    {
      "cell_type": "code",
      "metadata": {
        "id": "s4Vkd5ChpxTJ"
      },
      "source": [
        "N = int(input())\n",
        "for i in range(1, N+1):\n",
        "  print(N-i+1)"
      ],
      "execution_count": null,
      "outputs": []
    },
    {
      "cell_type": "markdown",
      "metadata": {
        "id": "2_ZQESLzp93m"
      },
      "source": [
        "10871번\n",
        "\n",
        "정수 N개로 이루어진 수열 A와 정수 X가 주어진다. 이때, A에서 X보다 작은 수를 모두 출력하는 프로그램을 작성하시오."
      ]
    },
    {
      "cell_type": "code",
      "metadata": {
        "id": "Xjq5VGzUqHGb"
      },
      "source": [
        "N, X = map(int,input().split())\n",
        "A = list(map(int,input().split()))\n",
        "Z = []\n",
        "\n",
        "for i in A:\n",
        "  if i < X:\n",
        "    Z.append(i)\n",
        "\n",
        "print(*Z, sep = ' ')\n"
      ],
      "execution_count": null,
      "outputs": []
    },
    {
      "cell_type": "markdown",
      "metadata": {
        "id": "Nq8KwMpPn4dL"
      },
      "source": [
        "10950번\n",
        "\n",
        "두 정수 A와 B를 입력받은 다음, A+B를 출력하는 프로그램을 작성하시오.\n"
      ]
    },
    {
      "cell_type": "code",
      "metadata": {
        "id": "Gn-xk_TDn8oy"
      },
      "source": [
        "T = int(input())\n",
        "\n",
        "for i in range(T):\n",
        "  A, B = map(int,input().split())\n",
        "  print(A+B)"
      ],
      "execution_count": null,
      "outputs": []
    },
    {
      "cell_type": "markdown",
      "metadata": {
        "id": "1dqeP4Qdogsu"
      },
      "source": [
        "2884번\n",
        "\n",
        "상근이는 매일 아침 알람을 듣고 일어난다. 알람을 듣고 바로 일어나면 다행이겠지만, 항상 조금만 더 자려는 마음 때문에 매일 학교를 지각하고 있다.\n",
        "\n",
        "상근이는 모든 방법을 동원해보았지만, 조금만 더 자려는 마음은 그 어떤 것도 없앨 수가 없었다.\n",
        "\n",
        "이런 상근이를 불쌍하게 보던, 창영이는 자신이 사용하는 방법을 추천해 주었다.\n",
        "\n",
        "바로 \"45분 일찍 알람 설정하기\"이다.\n",
        "\n",
        "이 방법은 단순하다. 원래 설정되어 있는 알람을 45분 앞서는 시간으로 바꾸는 것이다. 어차피 알람 소리를 들으면, 알람을 끄고 조금 더 잘 것이기 때문이다. 이 방법을 사용하면, 매일 아침 더 잤다는 기분을 느낄 수 있고, 학교도 지각하지 않게 된다.\n",
        "\n",
        "현재 상근이가 설정한 알람 시각이 주어졌을 때, 창영이의 방법을 사용한다면, 이를 언제로 고쳐야 하는지 구하는 프로그램을 작성하시오."
      ]
    },
    {
      "cell_type": "code",
      "metadata": {
        "id": "uDLOZOE2owne"
      },
      "source": [
        "H, M = map(int,input().split())\n",
        "\n",
        "if H==0 and M<45:\n",
        "  print(23, M+15)\n",
        "else:\n",
        "  print((H*60+M-45)//60, (H*60+M-45)%60) "
      ],
      "execution_count": null,
      "outputs": []
    }
  ]
}